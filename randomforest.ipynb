{
 "cells": [
  {
   "attachments": {},
   "cell_type": "markdown",
   "metadata": {},
   "source": [
    "# Imports"
   ]
  },
  {
   "cell_type": "code",
   "execution_count": 2,
   "metadata": {},
   "outputs": [],
   "source": [
    "import sys\n",
    "import pathlib\n",
    "import warnings\n",
    "warnings.filterwarnings('ignore')\n",
    "import pandas as pd\n",
    "import numpy as np\n",
    "\n",
    "from sklearn.base import BaseEstimator\n",
    "from sklearn.ensemble import RandomForestRegressor\n",
    "from sklearn.ensemble._forest import ForestRegressor\n",
    "from sklearn.tree import DecisionTreeRegressor\n",
    "from sklearn.model_selection import train_test_split\n",
    "from sklearn.metrics import mean_squared_error\n",
    "\n",
    "if pathlib.Path().parent.resolve().absolute().as_posix() not in sys.path:\n",
    "    sys.path.append(pathlib.Path().parent.resolve().absolute().as_posix())\n",
    "\n",
    "from pilot import Pilot\n",
    "\n",
    "%load_ext autoreload\n",
    "%autoreload 2"
   ]
  },
  {
   "attachments": {},
   "cell_type": "markdown",
   "metadata": {},
   "source": [
    "# Load data"
   ]
  },
  {
   "cell_type": "code",
   "execution_count": 2,
   "metadata": {},
   "outputs": [],
   "source": [
    "path = \"./Bias_correction_ucl.csv\"\n",
    "temp = pd.read_csv(path)\n",
    "# feature transformation\n",
    "temp = temp.dropna()\n",
    "temp[\"Date\"] = pd.to_datetime(temp[\"Date\"])\n",
    "temp[\"Day\"] = temp[\"Date\"].dt.weekday\n",
    "temp[\"Month\"] = temp[\"Date\"].dt.month\n",
    "temp[\"Year\"] = temp[\"Date\"].dt.year\n",
    "temp.drop(\"Date\", axis=1, inplace=True)\n",
    "yr = {2013: 1, 2014: 2, 2015: 3, 2016: 4, 2017: 5}\n",
    "temp[\"Year\"] = temp[\"Year\"].map(yr)\n",
    "temp.station = temp.station.astype(int)\n",
    "\n",
    "# define the predictors and the response\n",
    "X, y = (\n",
    "            temp.drop([\"Next_Tmax\", \"Next_Tmin\"], axis=1).values,\n",
    "            temp[\"Next_Tmax\"].values,\n",
    "        )"
   ]
  },
  {
   "cell_type": "code",
   "execution_count": 3,
   "metadata": {},
   "outputs": [],
   "source": [
    "concrete = pd.read_excel(\"https://archive.ics.uci.edu/ml/machine-learning-databases/concrete/compressive/Concrete_Data.xls\")"
   ]
  },
  {
   "cell_type": "code",
   "execution_count": 4,
   "metadata": {},
   "outputs": [],
   "source": [
    "concrete_X_train, concrete_X_test, concrete_y_train, concrete_y_test = train_test_split(concrete.iloc[:, :-1], concrete.iloc[:, -1], test_size=0.2)"
   ]
  },
  {
   "attachments": {},
   "cell_type": "markdown",
   "metadata": {},
   "source": [
    "# Sklearn Random Forest"
   ]
  },
  {
   "cell_type": "code",
   "execution_count": 5,
   "metadata": {},
   "outputs": [],
   "source": [
    "class PilotRF(ForestRegressor):\n",
    "    def __init__(self, n_estimators=100, max_depth=12, split_criterion='BIC', min_sample_split=10, min_sample_leaf=5, step_size=1, bootstrap=True, random_state=42, n_jobs=-1):\n",
    "        super().__init__(\n",
    "            estimator=Pilot.PILOT(),\n",
    "            n_estimators=n_estimators,\n",
    "            estimator_params=('max_depth', 'split_criterion', 'min_sample_split', 'min_sample_leaf', 'step_size'),\n",
    "            bootstrap=bootstrap,\n",
    "            n_jobs=n_jobs,\n",
    "            random_state=random_state\n",
    "        )\n",
    "        self.max_depth = max_depth\n",
    "        self.split_criterion = split_criterion\n",
    "        self.min_sample_split = min_sample_split\n",
    "        self.min_sample_leaf = min_sample_leaf\n",
    "        self.step_size = step_size\n",
    "        self.criterion = None"
   ]
  },
  {
   "cell_type": "code",
   "execution_count": 6,
   "metadata": {},
   "outputs": [
    {
     "data": {
      "text/plain": [
       "40.03437477496381"
      ]
     },
     "execution_count": 6,
     "metadata": {},
     "output_type": "execute_result"
    }
   ],
   "source": [
    "model = PilotRF(n_estimators=20, max_depth=12, split_criterion='BIC', min_sample_split=10, min_sample_leaf=5, step_size=1, random_state=42)\n",
    "model.fit(concrete_X_train, concrete_y_train)\n",
    "y_pred = model.predict(concrete_X_test)\n",
    "mean_squared_error(concrete_y_test, y_pred)"
   ]
  },
  {
   "cell_type": "code",
   "execution_count": 146,
   "metadata": {},
   "outputs": [
    {
     "data": {
      "text/plain": [
       "28.515534017327113"
      ]
     },
     "execution_count": 146,
     "metadata": {},
     "output_type": "execute_result"
    }
   ],
   "source": [
    "rf = RandomForestRegressor()\n",
    "rf.fit(concrete_X_train, concrete_y_train)\n",
    "y_pred = rf.predict(concrete_X_test)\n",
    "mean_squared_error(concrete_y_test, y_pred)"
   ]
  },
  {
   "cell_type": "code",
   "execution_count": 148,
   "metadata": {},
   "outputs": [
    {
     "data": {
      "text/plain": [
       "56.07826990080933"
      ]
     },
     "execution_count": 148,
     "metadata": {},
     "output_type": "execute_result"
    }
   ],
   "source": [
    "rf = DecisionTreeRegressor()\n",
    "rf.fit(concrete_X_train, concrete_y_train)\n",
    "y_pred = rf.predict(concrete_X_test)\n",
    "mean_squared_error(concrete_y_test, y_pred)"
   ]
  },
  {
   "attachments": {},
   "cell_type": "markdown",
   "metadata": {},
   "source": [
    "# Custom Random Forest"
   ]
  },
  {
   "cell_type": "code",
   "execution_count": 7,
   "metadata": {},
   "outputs": [],
   "source": [
    "class RandomForestPilot(BaseEstimator):\n",
    "    def __init__(\n",
    "        self,\n",
    "        n_estimators: int = 10,\n",
    "        max_depth: int = 12,\n",
    "        split_criterion: str = 'BIC',\n",
    "        min_sample_split: int = 10,\n",
    "        min_sample_leaf: int = 5,\n",
    "        step_size: int = 1,\n",
    "        random_state: int = 42\n",
    "    ):\n",
    "        self.n_estimators = n_estimators\n",
    "        self.max_depth = max_depth\n",
    "        self.split_criterion = split_criterion\n",
    "        self.min_sample_split = min_sample_split\n",
    "        self.min_sample_leaf = min_sample_leaf\n",
    "        self.step_size = step_size\n",
    "        self.random_state = random_state\n",
    "        self.estimators = [\n",
    "            Pilot.PILOT(max_depth, split_criterion, min_sample_split, min_sample_leaf, step_size)\n",
    "            for i in range(n_estimators)\n",
    "        ]\n",
    "    def fit(self, X, y, categorical_idx = np.array([]), n_features: float | str = 'sqrt'):\n",
    "        X = np.array(X)\n",
    "        y = np.array(y).reshape(-1, 1)\n",
    "        n_features = int(np.sqrt(X.shape[1])) if n_features == 'sqrt' else n_features\n",
    "        for estimator in self.estimators:\n",
    "            bootstrap_idx = np.random.choice(np.arange(len(X)), size=len(X), replace=True)\n",
    "            estimator.fit(\n",
    "                X[bootstrap_idx, :], y[bootstrap_idx], categorical=categorical_idx, max_features_considered=n_features\n",
    "            )\n",
    "    \n",
    "    def predict(self, X) -> np.ndarray:\n",
    "        X = np.array(X)\n",
    "        return np.concatenate(\n",
    "            [e.predict(X).reshape(-1, 1) for e in self.estimators], axis=1\n",
    "        ).mean(axis=1)\n",
    "            \n",
    "\n"
   ]
  },
  {
   "cell_type": "code",
   "execution_count": 19,
   "metadata": {},
   "outputs": [
    {
     "data": {
      "text/plain": [
       "26.599981289829888"
      ]
     },
     "execution_count": 19,
     "metadata": {},
     "output_type": "execute_result"
    }
   ],
   "source": [
    "pilot_rf = RandomForestPilot(n_estimators=100)\n",
    "pilot_rf.fit(concrete_X_train, concrete_y_train, categorical_idx=np.array([-1]), n_features=concrete_X_train.shape[1])\n",
    "y_pred = pilot_rf.predict(concrete_X_test)\n",
    "mean_squared_error(concrete_y_test, y_pred)"
   ]
  },
  {
   "cell_type": "code",
   "execution_count": 11,
   "metadata": {},
   "outputs": [
    {
     "name": "stdout",
     "output_type": "stream",
     "text": [
      "[45.43339027964507, 39.3376898453851, 40.84999169297349, 37.302813515101185, 46.401611036001064, 46.78663423666957, 39.66845361874538, 38.950197125253446, 47.13128688413894, 40.9015358469173, 47.5625084322141, 35.204434615829584, 55.15378219183933, 40.79892016352728, 41.92408271937778, 37.73435105830955, 41.809410409261254, 50.91261870502332, 51.78335451039562, 48.21974653520454, 43.077168338563375, 40.31990027501892, 37.508765388438476, 48.776592664086934, 30.570356161667696, 35.83876352000485, 35.938546167404084, 45.75365979141959, 32.04746253346872, 46.496916271770125, 45.3040029347239, 52.121612912542936, 50.62062642132253, 49.815265234165565, 46.501151109507724, 46.03276132895037, 43.62157027099284, 39.8855441994921, 47.70023082744096, 34.18448081851126, 40.2972668456168, 43.741845735870584, 38.835876284019584, 46.51424164485817, 54.39004463719353, 38.246871981434914, 39.3075716958859, 42.162787012357974, 43.64426137496962, 47.118142198365724, 44.46569644603736, 45.48037959374095, 59.32579950463901, 42.437987118227795, 49.19088160724455, 36.79846100002269, 37.41760326123785, 42.13425932243386, 55.79379101388858, 36.4737250314769, 37.72656715291955, 41.735722491048364, 51.434978533970494, 56.08643084273011, 47.76822979096098, 42.060879331964465, 53.16475392275958, 49.53556187674589, 50.336116147663965, 46.854913199593405, 43.022180206469855, 44.15509091318637, 38.54122504574814, 41.93170609774404, 34.520573900421375, 48.39109324494464, 39.77245721723136, 39.88073698797953, 43.562038399031564, 41.46042587727969, 50.25113580603932, 35.72013198884178, 37.98370751133835, 49.232417909436236, 41.78952884536903, 40.86347957741312, 44.60512326689864, 42.63447637114123, 58.877910518936616, 49.073741953972814, 43.04493408422185, 38.012780598027234, 43.59861438370459, 48.660764030961595, 39.63872238568966, 51.21996573310728, 43.483056634551566, 48.00003357160328, 43.375518396376094, 40.34535104720421]\n"
     ]
    }
   ],
   "source": [
    "print([mean_squared_error(concrete_y_test, e.predict(concrete_X_test)) for e in pilot_rf.estimators])"
   ]
  },
  {
   "cell_type": "code",
   "execution_count": 159,
   "metadata": {},
   "outputs": [
    {
     "data": {
      "text/plain": [
       "array([   0, 3332, 3381, ..., 3056, 3355, 7587])"
      ]
     },
     "execution_count": 159,
     "metadata": {},
     "output_type": "execute_result"
    }
   ],
   "source": [
    "n_features = X.shape[1]\n",
    "n_samples = X.shape[0]\n",
    "\n",
    "\n",
    "\n",
    "X_new = np.c_[np.arange(0, n_samples, dtype=int), X]\n",
    "\n",
    "# Memorize the indices of the cases sorted along each feature\n",
    "# Do not sort the first column since they are just indices\n",
    "sorted_indices = np.array(\n",
    "    [\n",
    "        np.argsort(X_new[:, feature_id], axis=0).flatten()\n",
    "        for feature_id in range(1, n_features + 1)\n",
    "    ]\n",
    ")\n",
    "sorted_X_indices = (X_new[:, 0][sorted_indices]).astype(int)\n",
    "\n",
    "sorted_X_indices[0]"
   ]
  },
  {
   "cell_type": "code",
   "execution_count": 161,
   "metadata": {},
   "outputs": [
    {
     "data": {
      "text/plain": [
       "(25, 7588)"
      ]
     },
     "execution_count": 161,
     "metadata": {},
     "output_type": "execute_result"
    }
   ],
   "source": [
    "sorted_indices.shape"
   ]
  },
  {
   "cell_type": "code",
   "execution_count": 162,
   "metadata": {},
   "outputs": [
    {
     "data": {
      "text/plain": [
       "(7588, 25)"
      ]
     },
     "execution_count": 162,
     "metadata": {},
     "output_type": "execute_result"
    }
   ],
   "source": [
    "X.shape"
   ]
  },
  {
   "cell_type": "code",
   "execution_count": 167,
   "metadata": {},
   "outputs": [
    {
     "data": {
      "text/plain": [
       "(7588,)"
      ]
     },
     "execution_count": 167,
     "metadata": {},
     "output_type": "execute_result"
    }
   ],
   "source": [
    "sorted_X_indices[0].shape"
   ]
  },
  {
   "attachments": {},
   "cell_type": "markdown",
   "metadata": {},
   "source": [
    "# Test module"
   ]
  },
  {
   "cell_type": "code",
   "execution_count": 5,
   "metadata": {},
   "outputs": [],
   "source": [
    "from pilot import ensemble\n",
    "from sklearn.metrics import r2_score"
   ]
  },
  {
   "cell_type": "code",
   "execution_count": 4,
   "metadata": {},
   "outputs": [],
   "source": [
    "DATAPATH = pathlib.Path().absolute() / 'Data'\n",
    "df = pd.read_csv(DATAPATH / 'concrete.csv')\n",
    "X = df.drop(columns='target').values\n",
    "y = df['target'].values"
   ]
  },
  {
   "cell_type": "code",
   "execution_count": 18,
   "metadata": {},
   "outputs": [
    {
     "data": {
      "text/plain": [
       "0.9420735136186057"
      ]
     },
     "execution_count": 18,
     "metadata": {},
     "output_type": "execute_result"
    }
   ],
   "source": [
    "rf = ensemble.RandomForestPilot(n_estimators=100)\n",
    "rf.fit(X, y, n_workers=12)\n",
    "r2_score(y, rf.predict(X))"
   ]
  },
  {
   "cell_type": "code",
   "execution_count": 11,
   "metadata": {},
   "outputs": [
    {
     "ename": "AttributeError",
     "evalue": "'NoneType' object has no attribute 'node'",
     "output_type": "error",
     "traceback": [
      "\u001b[0;31m---------------------------------------------------------------------------\u001b[0m",
      "\u001b[0;31mAttributeError\u001b[0m                            Traceback (most recent call last)",
      "Cell \u001b[0;32mIn[11], line 1\u001b[0m\n\u001b[0;32m----> 1\u001b[0m rf\u001b[39m.\u001b[39;49mestimators[\u001b[39m0\u001b[39;49m]\u001b[39m.\u001b[39;49mpredict(X)\n",
      "File \u001b[0;32m~/code for pilot/pilot/Pilot.py:832\u001b[0m, in \u001b[0;36mPILOT.predict\u001b[0;34m(self, X, model, maxd, **kwargs)\u001b[0m\n\u001b[1;32m    829\u001b[0m \u001b[39mif\u001b[39;00m \u001b[39misinstance\u001b[39m(X, pd\u001b[39m.\u001b[39mcore\u001b[39m.\u001b[39mframe\u001b[39m.\u001b[39mDataFrame):\n\u001b[1;32m    830\u001b[0m     X \u001b[39m=\u001b[39m np\u001b[39m.\u001b[39marray(X)\n\u001b[0;32m--> 832\u001b[0m \u001b[39mif\u001b[39;00m \u001b[39mself\u001b[39;49m\u001b[39m.\u001b[39;49mmodel_tree\u001b[39m.\u001b[39;49mnode \u001b[39m==\u001b[39m \u001b[39m\"\u001b[39m\u001b[39mEND\u001b[39m\u001b[39m\"\u001b[39m:\n\u001b[1;32m    833\u001b[0m     \u001b[39mreturn\u001b[39;00m np\u001b[39m.\u001b[39mones(X\u001b[39m.\u001b[39mshape[\u001b[39m0\u001b[39m]) \u001b[39m*\u001b[39m \u001b[39mself\u001b[39m\u001b[39m.\u001b[39mymean\n\u001b[1;32m    835\u001b[0m \u001b[39mfor\u001b[39;00m row \u001b[39min\u001b[39;00m \u001b[39mrange\u001b[39m(X\u001b[39m.\u001b[39mshape[\u001b[39m0\u001b[39m]):\n",
      "\u001b[0;31mAttributeError\u001b[0m: 'NoneType' object has no attribute 'node'"
     ]
    }
   ],
   "source": [
    "rf.estimators[0].predict(X)"
   ]
  },
  {
   "cell_type": "code",
   "execution_count": null,
   "metadata": {},
   "outputs": [],
   "source": []
  }
 ],
 "metadata": {
  "kernelspec": {
   "display_name": "pilot",
   "language": "python",
   "name": "python3"
  },
  "language_info": {
   "codemirror_mode": {
    "name": "ipython",
    "version": 3
   },
   "file_extension": ".py",
   "mimetype": "text/x-python",
   "name": "python",
   "nbconvert_exporter": "python",
   "pygments_lexer": "ipython3",
   "version": "3.10.9"
  },
  "orig_nbformat": 4,
  "vscode": {
   "interpreter": {
    "hash": "fd3ad90d96ad65fa4600695779b053fe5094545612b705888114d7bf126e60b7"
   }
  }
 },
 "nbformat": 4,
 "nbformat_minor": 2
}
