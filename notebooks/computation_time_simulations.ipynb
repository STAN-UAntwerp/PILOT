{
 "cells": [
  {
   "cell_type": "markdown",
   "metadata": {},
   "source": [
    "# Imports"
   ]
  },
  {
   "cell_type": "code",
   "execution_count": 19,
   "metadata": {},
   "outputs": [
    {
     "name": "stdout",
     "output_type": "stream",
     "text": [
      "The autoreload extension is already loaded. To reload it, use:\n",
      "  %reload_ext autoreload\n"
     ]
    }
   ],
   "source": [
    "import sys\n",
    "path = '/home/servot82/PILOT'\n",
    "if path not in sys.path:\n",
    "    sys.path.append(path)\n",
    "    \n",
    "import time\n",
    "import pathlib\n",
    "import warnings\n",
    "warnings.filterwarnings('ignore')\n",
    "    \n",
    "import numpy as np\n",
    "import pandas as pd\n",
    "import seaborn as sns\n",
    "import statsmodels.api as sm\n",
    "\n",
    "from tqdm.notebook import tqdm\n",
    "from statsmodels.regression.linear_model import OLS\n",
    "from pilot.Pilot import PILOT\n",
    "from sklearn.tree import DecisionTreeRegressor\n",
    "\n",
    "from numba.core.errors import NumbaDeprecationWarning, NumbaPendingDeprecationWarning\n",
    "warnings.simplefilter('ignore', category=NumbaDeprecationWarning)\n",
    "warnings.simplefilter('ignore', category=NumbaPendingDeprecationWarning)\n",
    "\n",
    "%load_ext autoreload\n",
    "%autoreload 2"
   ]
  },
  {
   "cell_type": "markdown",
   "metadata": {},
   "source": [
    "# Simulation functions"
   ]
  },
  {
   "cell_type": "code",
   "execution_count": 2,
   "metadata": {},
   "outputs": [],
   "source": [
    "def generate_data(n_sample, n_feature) -> tuple[np.ndarray, np.ndarray, np.ndarray]:\n",
    "    X = []\n",
    "    y = np.random.randn(n_sample)\n",
    "    cat_feat = []\n",
    "    for feature in range(n_feature):\n",
    "        if np.random.choice(['cat', 'num'], p=[0.1, 0.9]) == 'cat':\n",
    "            x = np.random.choice([0, 1, 2], size=n_sample)\n",
    "            if np.random.choice(['p_conc', 'nothing']) == 'p_conc':\n",
    "                y = y + np.where(x == 0, 1, np.where(x == 1, -1, 0))\n",
    "            cat_feat.append(feature)\n",
    "        else:\n",
    "            kind = np.random.choice(['pcon', 'plin', 'blin', 'lin', 'nothing'])\n",
    "            x = np.random.randn(n_sample) * np.random.randint(1, 10) + np.random.randint(1, 10)\n",
    "            split = np.random.choice(x)\n",
    "            if kind == 'pcon':\n",
    "                y = y + np.where(x < split, 1, -1)\n",
    "            elif kind == 'lin':\n",
    "                y = y + 0.1 + x * 0.1\n",
    "            elif kind == 'plin':\n",
    "                y = y + np.where(x < split, 0.1 - 0.1 * x, 0.1 + 0.1 * x)\n",
    "            elif kind == 'blin':\n",
    "                crossing_y = 0.1 - 0.1 * split\n",
    "                second_intercept = crossing_y - 0.1 * split\n",
    "                y = y + np.where(x < split, 0.1 - 0.1 * x, second_intercept + 0.1 * x)\n",
    "        X.append(x)\n",
    "        \n",
    "    return np.array(X).T, y, np.array(cat_feat, dtype=np.int64)"
   ]
  },
  {
   "cell_type": "markdown",
   "metadata": {},
   "source": [
    "# Experiment"
   ]
  },
  {
   "cell_type": "code",
   "execution_count": null,
   "metadata": {},
   "outputs": [],
   "source": [
    "n_samples = np.logspace(1, 4, num=20, dtype=np.int64)\n",
    "n_features = np.logspace(0, 2.8, num=20, dtype=np.int64) + 1\n",
    "\n",
    "results = []\n",
    "for n_sample in tqdm(n_samples):\n",
    "    for n_feature in tqdm(n_features):\n",
    "        for random_seed in range(5):\n",
    "            np.random.seed(random_seed)\n",
    "            X, y, cat_feat = generate_data(n_sample, n_feature)\n",
    "            pilot = PILOT(max_depth=10, min_sample_split=2, min_sample_leaf=1, truncation_factor=1, rel_tolerance=0.01, min_unique_values_regression=2)\n",
    "            start = time.time()\n",
    "            pilot.fit(X, y, cat_feat)\n",
    "            end = time.time()\n",
    "            results.append(dict(n_samples=n_sample, n_features=n_feature, time_elapsed=end - start, **pilot.model_tree.nodes_selected()))\n",
    "pd.DataFrame(results).to_csv('/home/servot82/PILOT/Output/pilot_computation_time_simulation.csv', index=False)"
   ]
  },
  {
   "cell_type": "code",
   "execution_count": 20,
   "metadata": {},
   "outputs": [
    {
     "data": {
      "application/vnd.jupyter.widget-view+json": {
       "model_id": "d1911c15534e4ec7b6b1639194deac51",
       "version_major": 2,
       "version_minor": 0
      },
      "text/plain": [
       "  0%|          | 0/20 [00:00<?, ?it/s]"
      ]
     },
     "metadata": {},
     "output_type": "display_data"
    },
    {
     "data": {
      "application/vnd.jupyter.widget-view+json": {
       "model_id": "60de840598e24a64a73a566729359834",
       "version_major": 2,
       "version_minor": 0
      },
      "text/plain": [
       "  0%|          | 0/20 [00:00<?, ?it/s]"
      ]
     },
     "metadata": {},
     "output_type": "display_data"
    },
    {
     "data": {
      "application/vnd.jupyter.widget-view+json": {
       "model_id": "a5d8eb5f238e4c9ab3169167ea262f9b",
       "version_major": 2,
       "version_minor": 0
      },
      "text/plain": [
       "  0%|          | 0/20 [00:00<?, ?it/s]"
      ]
     },
     "metadata": {},
     "output_type": "display_data"
    },
    {
     "data": {
      "application/vnd.jupyter.widget-view+json": {
       "model_id": "e4fa1a96fa014a29a7ae3487242b1df6",
       "version_major": 2,
       "version_minor": 0
      },
      "text/plain": [
       "  0%|          | 0/20 [00:00<?, ?it/s]"
      ]
     },
     "metadata": {},
     "output_type": "display_data"
    },
    {
     "data": {
      "application/vnd.jupyter.widget-view+json": {
       "model_id": "61e48e1d9e044724883e454fe6a18f36",
       "version_major": 2,
       "version_minor": 0
      },
      "text/plain": [
       "  0%|          | 0/20 [00:00<?, ?it/s]"
      ]
     },
     "metadata": {},
     "output_type": "display_data"
    },
    {
     "data": {
      "application/vnd.jupyter.widget-view+json": {
       "model_id": "ad3c242112da442d9c27576307208c00",
       "version_major": 2,
       "version_minor": 0
      },
      "text/plain": [
       "  0%|          | 0/20 [00:00<?, ?it/s]"
      ]
     },
     "metadata": {},
     "output_type": "display_data"
    },
    {
     "data": {
      "application/vnd.jupyter.widget-view+json": {
       "model_id": "1a38555b9cb74af5b7aa7db27f39d022",
       "version_major": 2,
       "version_minor": 0
      },
      "text/plain": [
       "  0%|          | 0/20 [00:00<?, ?it/s]"
      ]
     },
     "metadata": {},
     "output_type": "display_data"
    },
    {
     "data": {
      "application/vnd.jupyter.widget-view+json": {
       "model_id": "ed856d036fbc48a8b193c5560a0fdf61",
       "version_major": 2,
       "version_minor": 0
      },
      "text/plain": [
       "  0%|          | 0/20 [00:00<?, ?it/s]"
      ]
     },
     "metadata": {},
     "output_type": "display_data"
    },
    {
     "data": {
      "application/vnd.jupyter.widget-view+json": {
       "model_id": "b405ce68ad7f4999b9cdf1e7722a0c99",
       "version_major": 2,
       "version_minor": 0
      },
      "text/plain": [
       "  0%|          | 0/20 [00:00<?, ?it/s]"
      ]
     },
     "metadata": {},
     "output_type": "display_data"
    },
    {
     "data": {
      "application/vnd.jupyter.widget-view+json": {
       "model_id": "ec653cf8054f43769cb456dc724b95e1",
       "version_major": 2,
       "version_minor": 0
      },
      "text/plain": [
       "  0%|          | 0/20 [00:00<?, ?it/s]"
      ]
     },
     "metadata": {},
     "output_type": "display_data"
    },
    {
     "data": {
      "application/vnd.jupyter.widget-view+json": {
       "model_id": "341be0e41eb94e268ddeba3029b00d8f",
       "version_major": 2,
       "version_minor": 0
      },
      "text/plain": [
       "  0%|          | 0/20 [00:00<?, ?it/s]"
      ]
     },
     "metadata": {},
     "output_type": "display_data"
    },
    {
     "data": {
      "application/vnd.jupyter.widget-view+json": {
       "model_id": "2935c00a493e4a9aafe7056ecfa8b10b",
       "version_major": 2,
       "version_minor": 0
      },
      "text/plain": [
       "  0%|          | 0/20 [00:00<?, ?it/s]"
      ]
     },
     "metadata": {},
     "output_type": "display_data"
    },
    {
     "data": {
      "application/vnd.jupyter.widget-view+json": {
       "model_id": "735032b240ee4510a7ce2570db61c974",
       "version_major": 2,
       "version_minor": 0
      },
      "text/plain": [
       "  0%|          | 0/20 [00:00<?, ?it/s]"
      ]
     },
     "metadata": {},
     "output_type": "display_data"
    },
    {
     "data": {
      "application/vnd.jupyter.widget-view+json": {
       "model_id": "54e862c8023d4a6e9a3c2f0256c2541b",
       "version_major": 2,
       "version_minor": 0
      },
      "text/plain": [
       "  0%|          | 0/20 [00:00<?, ?it/s]"
      ]
     },
     "metadata": {},
     "output_type": "display_data"
    },
    {
     "data": {
      "application/vnd.jupyter.widget-view+json": {
       "model_id": "dbee913d195f4f099735cabfa8f0546c",
       "version_major": 2,
       "version_minor": 0
      },
      "text/plain": [
       "  0%|          | 0/20 [00:00<?, ?it/s]"
      ]
     },
     "metadata": {},
     "output_type": "display_data"
    },
    {
     "data": {
      "application/vnd.jupyter.widget-view+json": {
       "model_id": "bf338d3d149e404e8c78e3193f556914",
       "version_major": 2,
       "version_minor": 0
      },
      "text/plain": [
       "  0%|          | 0/20 [00:00<?, ?it/s]"
      ]
     },
     "metadata": {},
     "output_type": "display_data"
    },
    {
     "data": {
      "application/vnd.jupyter.widget-view+json": {
       "model_id": "35787afb1b594bdfbcc3791f9d09ec75",
       "version_major": 2,
       "version_minor": 0
      },
      "text/plain": [
       "  0%|          | 0/20 [00:00<?, ?it/s]"
      ]
     },
     "metadata": {},
     "output_type": "display_data"
    },
    {
     "data": {
      "application/vnd.jupyter.widget-view+json": {
       "model_id": "73ab6ead5cd7409aa8f891ea8b1de747",
       "version_major": 2,
       "version_minor": 0
      },
      "text/plain": [
       "  0%|          | 0/20 [00:00<?, ?it/s]"
      ]
     },
     "metadata": {},
     "output_type": "display_data"
    },
    {
     "data": {
      "application/vnd.jupyter.widget-view+json": {
       "model_id": "d126ca1c598c4daeb99ceaf9b54b5dee",
       "version_major": 2,
       "version_minor": 0
      },
      "text/plain": [
       "  0%|          | 0/20 [00:00<?, ?it/s]"
      ]
     },
     "metadata": {},
     "output_type": "display_data"
    },
    {
     "data": {
      "application/vnd.jupyter.widget-view+json": {
       "model_id": "ef6062c475f5437998a5daeb93eb4116",
       "version_major": 2,
       "version_minor": 0
      },
      "text/plain": [
       "  0%|          | 0/20 [00:00<?, ?it/s]"
      ]
     },
     "metadata": {},
     "output_type": "display_data"
    },
    {
     "data": {
      "application/vnd.jupyter.widget-view+json": {
       "model_id": "29dbc5e69b3a4b1d91da5009cb70ccac",
       "version_major": 2,
       "version_minor": 0
      },
      "text/plain": [
       "  0%|          | 0/20 [00:00<?, ?it/s]"
      ]
     },
     "metadata": {},
     "output_type": "display_data"
    }
   ],
   "source": [
    "n_samples = np.logspace(1, 4, num=20, dtype=np.int64)\n",
    "n_features = np.logspace(0, 2.8, num=20, dtype=np.int64) + 1\n",
    "\n",
    "results = []\n",
    "for n_sample in tqdm(n_samples):\n",
    "    for n_feature in tqdm(n_features):\n",
    "        for random_seed in range(5):\n",
    "            np.random.seed(random_seed)\n",
    "            X, y, cat_feat = generate_data(n_sample, n_feature)\n",
    "            tree = DecisionTreeRegressor(max_depth=10, min_samples_split=2, min_samples_leaf=1)\n",
    "            start = time.time()\n",
    "            tree.fit(X, y)\n",
    "            end = time.time()\n",
    "            results.append(dict(n_samples=n_sample, n_features=n_feature, time_elapsed=end - start))\n",
    "pd.DataFrame(results).to_csv('/home/servot82/PILOT/Output/decision_tree_computation_time_simulation.csv', index=False)"
   ]
  },
  {
   "cell_type": "markdown",
   "metadata": {},
   "source": [
    "# Analysis"
   ]
  },
  {
   "cell_type": "code",
   "execution_count": 9,
   "metadata": {},
   "outputs": [],
   "source": [
    "results = pd.read_csv('/home/servot82/PILOT/Output/pilot_computation_time_simulation.csv')\n",
    "\n",
    "results = results.assign(\n",
    "    log_t=np.log(results['time_elapsed']),\n",
    "    log_n=np.log(results['n_samples']),\n",
    "    log_p=np.log(results['n_features']),\n",
    "    log__nlog_n=np.log(np.log(results['n_samples'])*results['n_samples']),\n",
    "    log__plog_p=np.log(np.log(results['n_features'])*results['n_features']),\n",
    ")"
   ]
  },
  {
   "cell_type": "code",
   "execution_count": 21,
   "metadata": {},
   "outputs": [],
   "source": [
    "results = pd.read_csv('/home/servot82/PILOT/Output/decision_tree_computation_time_simulation.csv')\n",
    "\n",
    "results = results.assign(\n",
    "    log_t=np.log(results['time_elapsed']),\n",
    "    log_n=np.log(results['n_samples']),\n",
    "    log_p=np.log(results['n_features']),\n",
    "    log__nlog_n=np.log(np.log(results['n_samples'])*results['n_samples']),\n",
    "    log__plog_p=np.log(np.log(results['n_features'])*results['n_features']),\n",
    ")"
   ]
  },
  {
   "cell_type": "markdown",
   "metadata": {},
   "source": [
    "## Log t ~ Log n +  Log p"
   ]
  },
  {
   "cell_type": "code",
   "execution_count": 22,
   "metadata": {},
   "outputs": [
    {
     "data": {
      "text/plain": [
       "<bound method Axes.axline of <AxesSubplot: xlabel='log_n', ylabel='log_t'>>"
      ]
     },
     "execution_count": 22,
     "metadata": {},
     "output_type": "execute_result"
    },
    {
     "data": {
      "image/png": "[encoded data removed]",
      "text/plain": [
       "<Figure size 640x480 with 1 Axes>"
      ]
     },
     "metadata": {},
     "output_type": "display_data"
    }
   ],
   "source": [
    "ax = sns.scatterplot(results, x='log_n', y='log_t', hue='log_p')\n",
    "ax.axline"
   ]
  },
  {
   "cell_type": "code",
   "execution_count": 23,
   "metadata": {},
   "outputs": [
    {
     "name": "stdout",
     "output_type": "stream",
     "text": [
      "                            OLS Regression Results                            \n",
      "==============================================================================\n",
      "Dep. Variable:                  log_t   R-squared:                       0.928\n",
      "Model:                            OLS   Adj. R-squared:                  0.928\n",
      "Method:                 Least Squares   F-statistic:                 1.286e+04\n",
      "Date:                Mon, 31 Jul 2023   Prob (F-statistic):               0.00\n",
      "Time:                        09:13:34   Log-Likelihood:                -1945.9\n",
      "No. Observations:                2000   AIC:                             3898.\n",
      "Df Residuals:                    1997   BIC:                             3915.\n",
      "Df Model:                           2                                         \n",
      "Covariance Type:            nonrobust                                         \n",
      "==============================================================================\n",
      "                 coef    std err          t      P>|t|      [0.025      0.975]\n",
      "------------------------------------------------------------------------------\n",
      "const        -12.8362      0.049   -263.157      0.000     -12.932     -12.741\n",
      "log_n          0.8882      0.007    130.428      0.000       0.875       0.902\n",
      "log_p          0.7161      0.008     93.269      0.000       0.701       0.731\n",
      "==============================================================================\n",
      "Omnibus:                      449.976   Durbin-Watson:                   0.243\n",
      "Prob(Omnibus):                  0.000   Jarque-Bera (JB):             1593.958\n",
      "Skew:                           1.083   Prob(JB):                         0.00\n",
      "Kurtosis:                       6.800   Cond. No.                         24.1\n",
      "==============================================================================\n",
      "\n",
      "Notes:\n",
      "[1] Standard Errors assume that the covariance matrix of the errors is correctly specified.\n"
     ]
    }
   ],
   "source": [
    "m = OLS(endog=results['log_t'], exog=sm.add_constant(results[['log_n', 'log_p']])).fit()\n",
    "\n",
    "print(m.summary())"
   ]
  },
  {
   "cell_type": "markdown",
   "metadata": {},
   "source": [
    "## Log t ~ n Log n + Log p"
   ]
  },
  {
   "cell_type": "code",
   "execution_count": 24,
   "metadata": {},
   "outputs": [
    {
     "name": "stdout",
     "output_type": "stream",
     "text": [
      "                            OLS Regression Results                            \n",
      "==============================================================================\n",
      "Dep. Variable:                  log_t   R-squared:                       0.923\n",
      "Model:                            OLS   Adj. R-squared:                  0.923\n",
      "Method:                 Least Squares   F-statistic:                 1.196e+04\n",
      "Date:                Mon, 31 Jul 2023   Prob (F-statistic):               0.00\n",
      "Time:                        09:13:38   Log-Likelihood:                -2012.6\n",
      "No. Observations:                2000   AIC:                             4031.\n",
      "Df Residuals:                    1997   BIC:                             4048.\n",
      "Df Model:                           2                                         \n",
      "Covariance Type:            nonrobust                                         \n",
      "===============================================================================\n",
      "                  coef    std err          t      P>|t|      [0.025      0.975]\n",
      "-------------------------------------------------------------------------------\n",
      "const         -13.2394      0.053   -248.957      0.000     -13.344     -13.135\n",
      "log__nlog_n     0.7424      0.006    125.636      0.000       0.731       0.754\n",
      "log_p           0.7161      0.008     90.208      0.000       0.701       0.732\n",
      "==============================================================================\n",
      "Omnibus:                      459.376   Durbin-Watson:                   0.226\n",
      "Prob(Omnibus):                  0.000   Jarque-Bera (JB):             1481.144\n",
      "Skew:                           1.138   Prob(JB):                         0.00\n",
      "Kurtosis:                       6.549   Cond. No.                         30.8\n",
      "==============================================================================\n",
      "\n",
      "Notes:\n",
      "[1] Standard Errors assume that the covariance matrix of the errors is correctly specified.\n"
     ]
    }
   ],
   "source": [
    "m = OLS(endog=results['log_t'], exog=sm.add_constant(results[['log__nlog_n', 'log_p']])).fit()\n",
    "\n",
    "print(m.summary())"
   ]
  },
  {
   "cell_type": "markdown",
   "metadata": {},
   "source": [
    "## Log t ~ Log n +  p Log p"
   ]
  },
  {
   "cell_type": "code",
   "execution_count": 25,
   "metadata": {},
   "outputs": [
    {
     "name": "stdout",
     "output_type": "stream",
     "text": [
      "                            OLS Regression Results                            \n",
      "==============================================================================\n",
      "Dep. Variable:                  log_t   R-squared:                       0.920\n",
      "Model:                            OLS   Adj. R-squared:                  0.920\n",
      "Method:                 Least Squares   F-statistic:                 1.144e+04\n",
      "Date:                Mon, 31 Jul 2023   Prob (F-statistic):               0.00\n",
      "Time:                        09:13:42   Log-Likelihood:                -2054.0\n",
      "No. Observations:                2000   AIC:                             4114.\n",
      "Df Residuals:                    1997   BIC:                             4131.\n",
      "Df Model:                           2                                         \n",
      "Covariance Type:            nonrobust                                         \n",
      "===============================================================================\n",
      "                  coef    std err          t      P>|t|      [0.025      0.975]\n",
      "-------------------------------------------------------------------------------\n",
      "const         -12.6566      0.051   -250.007      0.000     -12.756     -12.557\n",
      "log_n           0.8882      0.007    123.563      0.000       0.874       0.902\n",
      "log__plog_p     0.5112      0.006     87.194      0.000       0.500       0.523\n",
      "==============================================================================\n",
      "Omnibus:                      492.062   Durbin-Watson:                   0.221\n",
      "Prob(Omnibus):                  0.000   Jarque-Bera (JB):             1503.552\n",
      "Skew:                           1.239   Prob(JB):                         0.00\n",
      "Kurtosis:                       6.450   Cond. No.                         25.6\n",
      "==============================================================================\n",
      "\n",
      "Notes:\n",
      "[1] Standard Errors assume that the covariance matrix of the errors is correctly specified.\n"
     ]
    }
   ],
   "source": [
    "m = OLS(endog=results['log_t'], exog=sm.add_constant(results[['log_n', 'log__plog_p']])).fit()\n",
    "\n",
    "print(m.summary())"
   ]
  },
  {
   "cell_type": "markdown",
   "metadata": {},
   "source": [
    "## Log t ~ n Log n +  p Log p"
   ]
  },
  {
   "cell_type": "code",
   "execution_count": 26,
   "metadata": {},
   "outputs": [
    {
     "name": "stdout",
     "output_type": "stream",
     "text": [
      "                            OLS Regression Results                            \n",
      "==============================================================================\n",
      "Dep. Variable:                  log_t   R-squared:                       0.915\n",
      "Model:                            OLS   Adj. R-squared:                  0.915\n",
      "Method:                 Least Squares   F-statistic:                 1.071e+04\n",
      "Date:                Mon, 31 Jul 2023   Prob (F-statistic):               0.00\n",
      "Time:                        09:13:44   Log-Likelihood:                -2114.1\n",
      "No. Observations:                2000   AIC:                             4234.\n",
      "Df Residuals:                    1997   BIC:                             4251.\n",
      "Df Model:                           2                                         \n",
      "Covariance Type:            nonrobust                                         \n",
      "===============================================================================\n",
      "                  coef    std err          t      P>|t|      [0.025      0.975]\n",
      "-------------------------------------------------------------------------------\n",
      "const         -13.0597      0.055   -236.996      0.000     -13.168     -12.952\n",
      "log__nlog_n     0.7424      0.006    119.419      0.000       0.730       0.755\n",
      "log__plog_p     0.5112      0.006     84.613      0.000       0.499       0.523\n",
      "==============================================================================\n",
      "Omnibus:                      494.059   Durbin-Watson:                   0.206\n",
      "Prob(Omnibus):                  0.000   Jarque-Bera (JB):             1442.948\n",
      "Skew:                           1.261   Prob(JB):                         0.00\n",
      "Kurtosis:                       6.310   Cond. No.                         31.9\n",
      "==============================================================================\n",
      "\n",
      "Notes:\n",
      "[1] Standard Errors assume that the covariance matrix of the errors is correctly specified.\n"
     ]
    }
   ],
   "source": [
    "m = OLS(endog=results['log_t'], exog=sm.add_constant(results[['log__nlog_n', 'log__plog_p']])).fit()\n",
    "\n",
    "print(m.summary())"
   ]
  },
  {
   "cell_type": "markdown",
   "metadata": {},
   "source": [
    "## Pilot vs CART"
   ]
  },
  {
   "cell_type": "code",
   "execution_count": 27,
   "metadata": {},
   "outputs": [],
   "source": [
    "results_pilot = pd.read_csv('/home/servot82/PILOT/Output/pilot_computation_time_simulation.csv')\n",
    "results_cart = pd.read_csv('/home/servot82/PILOT/Output/decision_tree_computation_time_simulation.csv')"
   ]
  },
  {
   "cell_type": "code",
   "execution_count": 35,
   "metadata": {},
   "outputs": [
    {
     "data": {
      "text/html": [
       "<div>\n",
       "<style scoped>\n",
       "    .dataframe tbody tr th:only-of-type {\n",
       "        vertical-align: middle;\n",
       "    }\n",
       "\n",
       "    .dataframe tbody tr th {\n",
       "        vertical-align: top;\n",
       "    }\n",
       "\n",
       "    .dataframe thead th {\n",
       "        text-align: right;\n",
       "    }\n",
       "</style>\n",
       "<table border=\"1\" class=\"dataframe\">\n",
       "  <thead>\n",
       "    <tr style=\"text-align: right;\">\n",
       "      <th></th>\n",
       "      <th></th>\n",
       "      <th>pilot</th>\n",
       "      <th>cart</th>\n",
       "      <th>ratio</th>\n",
       "    </tr>\n",
       "    <tr>\n",
       "      <th>n_samples</th>\n",
       "      <th>n_features</th>\n",
       "      <th></th>\n",
       "      <th></th>\n",
       "      <th></th>\n",
       "    </tr>\n",
       "  </thead>\n",
       "  <tbody>\n",
       "    <tr>\n",
       "      <th>61</th>\n",
       "      <th>450</th>\n",
       "      <td>4.025927</td>\n",
       "      <td>0.006035</td>\n",
       "      <td>667.118245</td>\n",
       "    </tr>\n",
       "    <tr>\n",
       "      <th>127</th>\n",
       "      <th>450</th>\n",
       "      <td>12.911554</td>\n",
       "      <td>0.016737</td>\n",
       "      <td>771.449479</td>\n",
       "    </tr>\n",
       "    <tr>\n",
       "      <th>1623</th>\n",
       "      <th>59</th>\n",
       "      <td>6.987675</td>\n",
       "      <td>0.038411</td>\n",
       "      <td>181.919510</td>\n",
       "    </tr>\n",
       "    <tr>\n",
       "      <th>20</th>\n",
       "      <th>321</th>\n",
       "      <td>0.415357</td>\n",
       "      <td>0.001094</td>\n",
       "      <td>379.699011</td>\n",
       "    </tr>\n",
       "    <tr>\n",
       "      <th>10</th>\n",
       "      <th>4</th>\n",
       "      <td>0.002616</td>\n",
       "      <td>0.000209</td>\n",
       "      <td>12.490665</td>\n",
       "    </tr>\n",
       "  </tbody>\n",
       "</table>\n",
       "</div>"
      ],
      "text/plain": [
       "                          pilot      cart       ratio\n",
       "n_samples n_features                                 \n",
       "61        450          4.025927  0.006035  667.118245\n",
       "127       450         12.911554  0.016737  771.449479\n",
       "1623      59           6.987675  0.038411  181.919510\n",
       "20        321          0.415357  0.001094  379.699011\n",
       "10        4            0.002616  0.000209   12.490665"
      ]
     },
     "execution_count": 35,
     "metadata": {},
     "output_type": "execute_result"
    }
   ],
   "source": [
    "results_pilot.groupby(['n_samples', 'n_features'])['time_elapsed'].mean().rename('pilot').to_frame().join(\n",
    "    results_cart.groupby(['n_samples', 'n_features'])['time_elapsed'].mean().rename('cart')\n",
    "    ).assign(ratio=lambda x: x['pilot'] / x['cart']).sample(5)"
   ]
  },
  {
   "cell_type": "code",
   "execution_count": null,
   "metadata": {},
   "outputs": [],
   "source": []
  }
 ],
 "metadata": {
  "kernelspec": {
   "display_name": "pilot",
   "language": "python",
   "name": "python3"
  },
  "language_info": {
   "codemirror_mode": {
    "name": "ipython",
    "version": 3
   },
   "file_extension": ".py",
   "mimetype": "text/x-python",
   "name": "python",
   "nbconvert_exporter": "python",
   "pygments_lexer": "ipython3",
   "version": "3.10.9"
  },
  "orig_nbformat": 4
 },
 "nbformat": 4,
 "nbformat_minor": 2
}
