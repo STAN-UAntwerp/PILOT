{
 "cells": [
  {
   "cell_type": "markdown",
   "metadata": {},
   "source": [
    "# Imports"
   ]
  },
  {
   "cell_type": "code",
   "execution_count": 1,
   "metadata": {},
   "outputs": [],
   "source": [
    "import os\n",
    "os.environ['NUMPY_EXPERIMENTAL_ARRAY_FUNCTION'] = '0'\n",
    "import warnings\n",
    "warnings.filterwarnings(\"ignore\")\n",
    "import sys, pathlib\n",
    "path = (pathlib.Path.home() / 'PILOT').as_posix()\n",
    "if path not in sys.path:\n",
    "    sys.path.append(path)\n",
    "    \n",
    "import pandas as pd\n",
    "import numpy as np\n",
    "import time\n",
    "\n",
    "from sklearn.metrics import r2_score\n",
    "from sklearn.tree import DecisionTreeRegressor\n",
    "from tqdm.notebook import tqdm\n",
    "    \n",
    "from pilot.pypilot import PILOT\n",
    "from pilot import Pilot\n",
    "\n",
    "%load_ext line_profiler\n",
    "%load_ext autoreload\n",
    "%autoreload 2"
   ]
  },
  {
   "cell_type": "markdown",
   "metadata": {},
   "source": [
    "# Load data"
   ]
  },
  {
   "cell_type": "code",
   "execution_count": 2,
   "metadata": {},
   "outputs": [],
   "source": [
    "df = pd.read_csv(pathlib.Path.home() / 'PILOT' / 'Data' / 'abalone.csv')\n",
    "X = df.drop(columns='target').values\n",
    "y = df['target'].values\n",
    "\n",
    "categorical = [0]"
   ]
  },
  {
   "cell_type": "code",
   "execution_count": 2,
   "metadata": {},
   "outputs": [],
   "source": [
    "def generate_data(n_sample, n_feature) -> tuple[np.ndarray, np.ndarray, np.ndarray]:\n",
    "    X = []\n",
    "    y = np.random.randn(n_sample)\n",
    "    cat_feat = []\n",
    "    for feature in range(n_feature):\n",
    "        if np.random.choice(['cat', 'num'], p=[0.1, 0.9]) == 'cat':\n",
    "            x = np.random.choice([0, 1, 2], size=n_sample)\n",
    "            if np.random.choice(['p_conc', 'nothing']) == 'p_conc':\n",
    "                y = y + np.where(x == 0, 1, np.where(x == 1, -1, 0))\n",
    "            cat_feat.append(feature)\n",
    "        else:\n",
    "            kind = np.random.choice(['pcon', 'plin', 'blin', 'lin', 'nothing'])\n",
    "            x = np.random.randn(n_sample) * np.random.randint(1, 10) + np.random.randint(1, 10)\n",
    "            split = np.random.choice(x)\n",
    "            if kind == 'pcon':\n",
    "                y = y + np.where(x < split, 1, -1)\n",
    "            elif kind == 'lin':\n",
    "                y = y + 0.1 + x * 0.1\n",
    "            elif kind == 'plin':\n",
    "                y = y + np.where(x < split, 0.1 - 0.1 * x, 0.1 + 0.1 * x)\n",
    "            elif kind == 'blin':\n",
    "                crossing_y = 0.1 - 0.1 * split\n",
    "                second_intercept = crossing_y - 0.1 * split\n",
    "                y = y + np.where(x < split, 0.1 - 0.1 * x, second_intercept + 0.1 * x)\n",
    "        X.append(x)\n",
    "        \n",
    "    return np.array(X).T, y, np.array(cat_feat, dtype=np.int64)"
   ]
  },
  {
   "cell_type": "markdown",
   "metadata": {},
   "source": [
    "# Experiment"
   ]
  },
  {
   "cell_type": "markdown",
   "metadata": {},
   "source": [
    "## Full"
   ]
  },
  {
   "cell_type": "code",
   "execution_count": null,
   "metadata": {},
   "outputs": [],
   "source": [
    "n_samples = np.logspace(1, 4, num=20, dtype=np.int64)\n",
    "n_features = np.logspace(0, 2.8, num=20, dtype=np.int64) + 1\n",
    "\n",
    "results = []\n",
    "for n_sample in tqdm(n_samples):\n",
    "    for n_feature in tqdm(n_features):\n",
    "        for random_seed in range(5):\n",
    "            np.random.seed(random_seed)\n",
    "            X, y, cat_feat = generate_data(n_sample, n_feature)\n",
    "            pilot = PILOT(max_depth=10, min_sample_split=2, min_sample_leaf=1, truncation_factor=1, rel_tolerance=0.01, min_unique_values_regression=2)\n",
    "            start = time.time()\n",
    "            pilot.fit(X, y, cat_feat)\n",
    "            end = time.time()\n",
    "            results.append(dict(n_samples=n_sample, n_features=n_feature, time_elapsed=end - start, **pilot.model_tree.nodes_selected(), kind='pilot'))\n",
    "            tree = DecisionTreeRegressor(max_depth=10, min_samples_split=2, min_samples_leaf=1)\n",
    "            start = time.time()\n",
    "            tree.fit(X, y)\n",
    "            end = time.time()\n",
    "            results.append(dict(n_samples=n_sample, n_features=n_feature, time_elapsed=end - start, kind='CART'))\n",
    "pd.DataFrame(results).to_csv('/home/servot82/PILOT/Output/pilot_computation_time_simulation.csv', index=False)"
   ]
  },
  {
   "cell_type": "code",
   "execution_count": 6,
   "metadata": {},
   "outputs": [
    {
     "data": {
      "text/html": [
       "<div>\n",
       "<style scoped>\n",
       "    .dataframe tbody tr th:only-of-type {\n",
       "        vertical-align: middle;\n",
       "    }\n",
       "\n",
       "    .dataframe tbody tr th {\n",
       "        vertical-align: top;\n",
       "    }\n",
       "\n",
       "    .dataframe thead th {\n",
       "        text-align: right;\n",
       "    }\n",
       "</style>\n",
       "<table border=\"1\" class=\"dataframe\">\n",
       "  <thead>\n",
       "    <tr style=\"text-align: right;\">\n",
       "      <th></th>\n",
       "      <th>kind</th>\n",
       "      <th>CART</th>\n",
       "      <th>pilot</th>\n",
       "    </tr>\n",
       "    <tr>\n",
       "      <th>n_samples</th>\n",
       "      <th>n_features</th>\n",
       "      <th></th>\n",
       "      <th></th>\n",
       "    </tr>\n",
       "  </thead>\n",
       "  <tbody>\n",
       "    <tr>\n",
       "      <th rowspan=\"5\" valign=\"top\">10</th>\n",
       "      <th>2</th>\n",
       "      <td>0.000184</td>\n",
       "      <td>0.003707</td>\n",
       "    </tr>\n",
       "    <tr>\n",
       "      <th>3</th>\n",
       "      <td>0.000172</td>\n",
       "      <td>0.008291</td>\n",
       "    </tr>\n",
       "    <tr>\n",
       "      <th>4</th>\n",
       "      <td>0.000178</td>\n",
       "      <td>0.014538</td>\n",
       "    </tr>\n",
       "    <tr>\n",
       "      <th>6</th>\n",
       "      <td>0.000189</td>\n",
       "      <td>0.014877</td>\n",
       "    </tr>\n",
       "    <tr>\n",
       "      <th>8</th>\n",
       "      <td>0.000246</td>\n",
       "      <td>0.025492</td>\n",
       "    </tr>\n",
       "    <tr>\n",
       "      <th>...</th>\n",
       "      <th>...</th>\n",
       "      <td>...</td>\n",
       "      <td>...</td>\n",
       "    </tr>\n",
       "    <tr>\n",
       "      <th rowspan=\"5\" valign=\"top\">88</th>\n",
       "      <th>116</th>\n",
       "      <td>0.002249</td>\n",
       "      <td>7.473681</td>\n",
       "    </tr>\n",
       "    <tr>\n",
       "      <th>163</th>\n",
       "      <td>0.003259</td>\n",
       "      <td>17.716648</td>\n",
       "    </tr>\n",
       "    <tr>\n",
       "      <th>228</th>\n",
       "      <td>0.004628</td>\n",
       "      <td>31.770261</td>\n",
       "    </tr>\n",
       "    <tr>\n",
       "      <th>321</th>\n",
       "      <td>0.005860</td>\n",
       "      <td>73.325343</td>\n",
       "    </tr>\n",
       "    <tr>\n",
       "      <th>450</th>\n",
       "      <td>0.008874</td>\n",
       "      <td>205.549798</td>\n",
       "    </tr>\n",
       "  </tbody>\n",
       "</table>\n",
       "<p>125 rows × 2 columns</p>\n",
       "</div>"
      ],
      "text/plain": [
       "kind                      CART       pilot\n",
       "n_samples n_features                      \n",
       "10        2           0.000184    0.003707\n",
       "          3           0.000172    0.008291\n",
       "          4           0.000178    0.014538\n",
       "          6           0.000189    0.014877\n",
       "          8           0.000246    0.025492\n",
       "...                        ...         ...\n",
       "88        116         0.002249    7.473681\n",
       "          163         0.003259   17.716648\n",
       "          228         0.004628   31.770261\n",
       "          321         0.005860   73.325343\n",
       "          450         0.008874  205.549798\n",
       "\n",
       "[125 rows x 2 columns]"
      ]
     },
     "execution_count": 6,
     "metadata": {},
     "output_type": "execute_result"
    }
   ],
   "source": [
    "results = pd.read_csv('/home/servot82/PILOT/Output/pilot_plain_python_computation_time_simulation.csv')\n",
    "\n",
    "results = results.assign(\n",
    "    log_t=np.log(results['time_elapsed']),\n",
    "    log_n=np.log(results['n_samples']),\n",
    "    log_p=np.log(results['n_features']),\n",
    "    log__nlog_n=np.log(np.log(results['n_samples'])*results['n_samples']),\n",
    "    log__plog_p=np.log(np.log(results['n_features'])*results['n_features']),\n",
    ")\n",
    "\n",
    "summary = results.groupby(['n_samples', 'n_features', 'kind'])['time_elapsed'].mean().unstack()\n",
    "summary"
   ]
  },
  {
   "cell_type": "code",
   "execution_count": 7,
   "metadata": {},
   "outputs": [
    {
     "data": {
      "text/plain": [
       "kind\n",
       "CART      0.005446\n",
       "pilot    45.345239\n",
       "Name: (61, 450), dtype: float64"
      ]
     },
     "execution_count": 7,
     "metadata": {},
     "output_type": "execute_result"
    }
   ],
   "source": [
    "summary.loc[61, 450]"
   ]
  },
  {
   "cell_type": "markdown",
   "metadata": {},
   "source": [
    "## Pcon only"
   ]
  },
  {
   "cell_type": "code",
   "execution_count": 7,
   "metadata": {},
   "outputs": [
    {
     "data": {
      "application/vnd.jupyter.widget-view+json": {
       "model_id": "9d8ecca06b504b39ab751be5673b4edf",
       "version_major": 2,
       "version_minor": 0
      },
      "text/plain": [
       "  0%|          | 0/10 [00:00<?, ?it/s]"
      ]
     },
     "metadata": {},
     "output_type": "display_data"
    },
    {
     "data": {
      "application/vnd.jupyter.widget-view+json": {
       "model_id": "d3c6bbe05bb54d5d9df0cdc7c1e4903c",
       "version_major": 2,
       "version_minor": 0
      },
      "text/plain": [
       "  0%|          | 0/10 [00:00<?, ?it/s]"
      ]
     },
     "metadata": {},
     "output_type": "display_data"
    },
    {
     "data": {
      "application/vnd.jupyter.widget-view+json": {
       "model_id": "e05be7df610046f584cf9dedc767cc54",
       "version_major": 2,
       "version_minor": 0
      },
      "text/plain": [
       "  0%|          | 0/10 [00:00<?, ?it/s]"
      ]
     },
     "metadata": {},
     "output_type": "display_data"
    },
    {
     "data": {
      "application/vnd.jupyter.widget-view+json": {
       "model_id": "de19693149e344ff982e8e3a9d6a03b7",
       "version_major": 2,
       "version_minor": 0
      },
      "text/plain": [
       "  0%|          | 0/10 [00:00<?, ?it/s]"
      ]
     },
     "metadata": {},
     "output_type": "display_data"
    },
    {
     "data": {
      "application/vnd.jupyter.widget-view+json": {
       "model_id": "1d5771e412144a36bb913fed54741dc2",
       "version_major": 2,
       "version_minor": 0
      },
      "text/plain": [
       "  0%|          | 0/10 [00:00<?, ?it/s]"
      ]
     },
     "metadata": {},
     "output_type": "display_data"
    },
    {
     "data": {
      "application/vnd.jupyter.widget-view+json": {
       "model_id": "3c6a77c6ef63445a8b418d10fe4503d8",
       "version_major": 2,
       "version_minor": 0
      },
      "text/plain": [
       "  0%|          | 0/10 [00:00<?, ?it/s]"
      ]
     },
     "metadata": {},
     "output_type": "display_data"
    },
    {
     "data": {
      "application/vnd.jupyter.widget-view+json": {
       "model_id": "66ad4f5a5b984aeaa3a656061092657e",
       "version_major": 2,
       "version_minor": 0
      },
      "text/plain": [
       "  0%|          | 0/10 [00:00<?, ?it/s]"
      ]
     },
     "metadata": {},
     "output_type": "display_data"
    },
    {
     "data": {
      "application/vnd.jupyter.widget-view+json": {
       "model_id": "7a45e22f8ccf4941a9bfc3b004111b59",
       "version_major": 2,
       "version_minor": 0
      },
      "text/plain": [
       "  0%|          | 0/10 [00:00<?, ?it/s]"
      ]
     },
     "metadata": {},
     "output_type": "display_data"
    },
    {
     "data": {
      "application/vnd.jupyter.widget-view+json": {
       "model_id": "487c2d63aa1f4b54aebc50ff9a13f796",
       "version_major": 2,
       "version_minor": 0
      },
      "text/plain": [
       "  0%|          | 0/10 [00:00<?, ?it/s]"
      ]
     },
     "metadata": {},
     "output_type": "display_data"
    },
    {
     "data": {
      "application/vnd.jupyter.widget-view+json": {
       "model_id": "9784296374d44dbfaa5f9a26d889d50f",
       "version_major": 2,
       "version_minor": 0
      },
      "text/plain": [
       "  0%|          | 0/10 [00:00<?, ?it/s]"
      ]
     },
     "metadata": {},
     "output_type": "display_data"
    },
    {
     "data": {
      "application/vnd.jupyter.widget-view+json": {
       "model_id": "2808584243a14000a9a41404b5aa7eca",
       "version_major": 2,
       "version_minor": 0
      },
      "text/plain": [
       "  0%|          | 0/10 [00:00<?, ?it/s]"
      ]
     },
     "metadata": {},
     "output_type": "display_data"
    }
   ],
   "source": [
    "n_samples = np.logspace(1, 3, num=10, dtype=np.int64)\n",
    "n_features = np.logspace(0, 1.6, num=10, dtype=np.int64) + 1\n",
    "\n",
    "results = []\n",
    "for n_sample in tqdm(n_samples):\n",
    "    for n_feature in tqdm(n_features):\n",
    "        for random_seed in range(5):\n",
    "            np.random.seed(random_seed)\n",
    "            X, y, cat_feat = generate_data(n_sample, n_feature)\n",
    "            pilot = Pilot.PILOT(max_depth=10, min_sample_split=2, min_sample_leaf=1, truncation_factor=1, rel_tolerance=0.01, min_unique_values_regression=2, regression_nodes=['pcon'])\n",
    "            start = time.time()\n",
    "            pilot.fit(X, y, cat_feat)\n",
    "            end = time.time()\n",
    "            results.append(dict(n_samples=n_sample, n_features=n_feature, time_elapsed=end - start, **pilot.model_tree.nodes_selected(), kind='pilot'))\n",
    "            tree = DecisionTreeRegressor(max_depth=10, min_samples_split=2, min_samples_leaf=1)\n",
    "            start = time.time()\n",
    "            tree.fit(X, y)\n",
    "            end = time.time()\n",
    "            results.append(dict(n_samples=n_sample, n_features=n_feature, time_elapsed=end - start, kind='CART'))\n",
    "pd.DataFrame(results).to_csv('/home/servot82/PILOT/Output/pilot_pcon_computation_time_simulation.csv', index=False)"
   ]
  },
  {
   "cell_type": "code",
   "execution_count": 9,
   "metadata": {},
   "outputs": [
    {
     "data": {
      "text/html": [
       "<div>\n",
       "<style scoped>\n",
       "    .dataframe tbody tr th:only-of-type {\n",
       "        vertical-align: middle;\n",
       "    }\n",
       "\n",
       "    .dataframe tbody tr th {\n",
       "        vertical-align: top;\n",
       "    }\n",
       "\n",
       "    .dataframe thead th {\n",
       "        text-align: right;\n",
       "    }\n",
       "</style>\n",
       "<table border=\"1\" class=\"dataframe\">\n",
       "  <thead>\n",
       "    <tr style=\"text-align: right;\">\n",
       "      <th></th>\n",
       "      <th>kind</th>\n",
       "      <th>CART</th>\n",
       "      <th>pilot</th>\n",
       "      <th>ratio</th>\n",
       "    </tr>\n",
       "    <tr>\n",
       "      <th>n_samples</th>\n",
       "      <th>n_features</th>\n",
       "      <th></th>\n",
       "      <th></th>\n",
       "      <th></th>\n",
       "    </tr>\n",
       "  </thead>\n",
       "  <tbody>\n",
       "    <tr>\n",
       "      <th rowspan=\"5\" valign=\"top\">10</th>\n",
       "      <th>2</th>\n",
       "      <td>0.000163</td>\n",
       "      <td>0.035932</td>\n",
       "      <td>219.887803</td>\n",
       "    </tr>\n",
       "    <tr>\n",
       "      <th>3</th>\n",
       "      <td>0.000142</td>\n",
       "      <td>0.002127</td>\n",
       "      <td>14.956084</td>\n",
       "    </tr>\n",
       "    <tr>\n",
       "      <th>4</th>\n",
       "      <td>0.000169</td>\n",
       "      <td>0.002603</td>\n",
       "      <td>15.424979</td>\n",
       "    </tr>\n",
       "    <tr>\n",
       "      <th>6</th>\n",
       "      <td>0.000167</td>\n",
       "      <td>0.002596</td>\n",
       "      <td>15.505554</td>\n",
       "    </tr>\n",
       "    <tr>\n",
       "      <th>8</th>\n",
       "      <td>0.000191</td>\n",
       "      <td>0.003514</td>\n",
       "      <td>18.398002</td>\n",
       "    </tr>\n",
       "    <tr>\n",
       "      <th>...</th>\n",
       "      <th>...</th>\n",
       "      <td>...</td>\n",
       "      <td>...</td>\n",
       "      <td>...</td>\n",
       "    </tr>\n",
       "    <tr>\n",
       "      <th rowspan=\"5\" valign=\"top\">1000</th>\n",
       "      <th>8</th>\n",
       "      <td>0.004232</td>\n",
       "      <td>0.347446</td>\n",
       "      <td>82.107648</td>\n",
       "    </tr>\n",
       "    <tr>\n",
       "      <th>12</th>\n",
       "      <td>0.006290</td>\n",
       "      <td>0.551456</td>\n",
       "      <td>87.672421</td>\n",
       "    </tr>\n",
       "    <tr>\n",
       "      <th>18</th>\n",
       "      <td>0.008939</td>\n",
       "      <td>0.713557</td>\n",
       "      <td>79.827482</td>\n",
       "    </tr>\n",
       "    <tr>\n",
       "      <th>27</th>\n",
       "      <td>0.012820</td>\n",
       "      <td>1.089844</td>\n",
       "      <td>85.011177</td>\n",
       "    </tr>\n",
       "    <tr>\n",
       "      <th>40</th>\n",
       "      <td>0.018944</td>\n",
       "      <td>1.605849</td>\n",
       "      <td>84.767873</td>\n",
       "    </tr>\n",
       "  </tbody>\n",
       "</table>\n",
       "<p>90 rows × 3 columns</p>\n",
       "</div>"
      ],
      "text/plain": [
       "kind                      CART     pilot       ratio\n",
       "n_samples n_features                                \n",
       "10        2           0.000163  0.035932  219.887803\n",
       "          3           0.000142  0.002127   14.956084\n",
       "          4           0.000169  0.002603   15.424979\n",
       "          6           0.000167  0.002596   15.505554\n",
       "          8           0.000191  0.003514   18.398002\n",
       "...                        ...       ...         ...\n",
       "1000      8           0.004232  0.347446   82.107648\n",
       "          12          0.006290  0.551456   87.672421\n",
       "          18          0.008939  0.713557   79.827482\n",
       "          27          0.012820  1.089844   85.011177\n",
       "          40          0.018944  1.605849   84.767873\n",
       "\n",
       "[90 rows x 3 columns]"
      ]
     },
     "execution_count": 9,
     "metadata": {},
     "output_type": "execute_result"
    }
   ],
   "source": [
    "results = pd.read_csv('/home/servot82/PILOT/Output/pilot_pcon_computation_time_simulation.csv')\n",
    "\n",
    "results = results.assign(\n",
    "    log_t=np.log(results['time_elapsed']),\n",
    "    log_n=np.log(results['n_samples']),\n",
    "    log_p=np.log(results['n_features']),\n",
    "    log__nlog_n=np.log(np.log(results['n_samples'])*results['n_samples']),\n",
    "    log__plog_p=np.log(np.log(results['n_features'])*results['n_features']),\n",
    ")\n",
    "\n",
    "summary = results.groupby(['n_samples', 'n_features', 'kind'])['time_elapsed'].mean().unstack()\n",
    "summary.assign(ratio=summary['pilot'] / summary['CART'])"
   ]
  },
  {
   "cell_type": "markdown",
   "metadata": {},
   "source": [
    "# Profiling"
   ]
  },
  {
   "cell_type": "code",
   "execution_count": 3,
   "metadata": {},
   "outputs": [],
   "source": [
    "X, y, cat = generate_data(1000, 20)"
   ]
  },
  {
   "cell_type": "code",
   "execution_count": 10,
   "metadata": {},
   "outputs": [],
   "source": [
    "p = PILOT(regression_nodes=['pcon'])"
   ]
  },
  {
   "cell_type": "code",
   "execution_count": 14,
   "metadata": {},
   "outputs": [
    {
     "name": "stdout",
     "output_type": "stream",
     "text": [
      "Fri Jun 21 16:59:43 2024    profile_results\n",
      "\n",
      "         27019194 function calls (27019170 primitive calls) in 37.601 seconds\n",
      "\n",
      "   Ordered by: cumulative time\n",
      "\n",
      "   ncalls  tottime  percall  cumtime  percall filename:lineno(function)\n",
      "        1    0.000    0.000   37.601   37.601 {built-in method builtins.exec}\n",
      "        1    0.000    0.000   37.601   37.601 <string>:1(<module>)\n",
      "        1    0.000    0.000   37.601   37.601 pypilot.py:814(fit)\n",
      "     25/1    0.002    0.000   37.599   37.599 pypilot.py:657(build_tree)\n",
      "       25   10.818    0.433   37.593    1.504 pypilot.py:162(best_split)\n",
      "   466180    3.659    0.000   15.837    0.000 pypilot.py:145(update_moments)\n",
      "  2387673    2.945    0.000   11.156    0.000 fromnumeric.py:2123(sum)\n",
      "  2851527    4.273    0.000    9.044    0.000 fromnumeric.py:69(_wrapreduction)\n",
      "  4760892    4.451    0.000    4.451    0.000 {method 'reduce' of 'numpy.ufunc' objects}\n",
      "   953654    0.743    0.000    2.236    0.000 {method 'sum' of 'numpy.ndarray' objects}\n",
      "   927680    0.665    0.000    2.017    0.000 {method 'all' of 'numpy.ndarray' objects}\n",
      "   463829    0.456    0.000    1.973    0.000 fromnumeric.py:2763(amin)\n",
      "   489814    1.936    0.000    1.936    0.000 pypilot.py:38(loss_fun)\n",
      "    26986    0.021    0.000    1.850    0.000 pypilot.py:22(isin)\n",
      "    26986    0.051    0.000    1.829    0.000 arraysetops.py:640(isin)\n",
      "    26986    0.269    0.000    1.758    0.000 arraysetops.py:519(in1d)\n",
      "   953654    0.597    0.000    1.493    0.000 _methods.py:46(_sum)\n",
      "  1958736    1.465    0.000    1.465    0.000 {built-in method numpy.array}\n",
      "   927680    0.585    0.000    1.352    0.000 _methods.py:60(_all)\n",
      "  2851527    1.247    0.000    1.247    0.000 fromnumeric.py:70(<dictcomp>)\n",
      "    52608    0.085    0.000    1.243    0.000 arraysetops.py:138(unique)\n",
      "    52608    0.363    0.000    1.095    0.000 arraysetops.py:320(_unique1d)\n",
      "  2851527    0.764    0.000    0.764    0.000 {method 'items' of 'dict' objects}\n",
      "  2413708    0.691    0.000    0.691    0.000 {built-in method builtins.isinstance}\n",
      "    26804    0.378    0.000    0.378    0.000 {method 'sort' of 'numpy.ndarray' objects}\n",
      "    51698    0.240    0.000    0.240    0.000 {method 'argsort' of 'numpy.ndarray' objects}\n",
      "    26024    0.027    0.000    0.231    0.000 fromnumeric.py:3322(mean)\n",
      "   494141    0.213    0.000    0.213    0.000 {method 'reshape' of 'numpy.ndarray' objects}\n",
      "    26025    0.081    0.000    0.204    0.000 _methods.py:162(_mean)\n",
      "    25804    0.024    0.000    0.152    0.000 fromnumeric.py:2458(cumsum)\n",
      "    25894    0.029    0.000    0.130    0.000 fromnumeric.py:51(_wrapfunc)\n",
      "    25804    0.090    0.000    0.090    0.000 {method 'cumsum' of 'numpy.ndarray' objects}\n",
      "    51609    0.060    0.000    0.060    0.000 {built-in method numpy.concatenate}\n",
      "    26025    0.044    0.000    0.059    0.000 _methods.py:66(_count_reduce_items)\n",
      "    52608    0.033    0.000    0.048    0.000 arraysetops.py:125(_unpack_tuple)\n",
      "   104216    0.047    0.000    0.047    0.000 {built-in method numpy.empty}\n",
      "    53972    0.040    0.000    0.040    0.000 {method 'ravel' of 'numpy.ndarray' objects}\n",
      "   131241    0.035    0.000    0.035    0.000 {built-in method numpy.asanyarray}\n",
      "    52648    0.034    0.000    0.034    0.000 {method 'flatten' of 'numpy.ndarray' objects}\n",
      "   108778    0.031    0.000    0.031    0.000 {built-in method builtins.len}\n",
      "    80958    0.022    0.000    0.022    0.000 {built-in method numpy.asarray}\n",
      "     9640    0.016    0.000    0.016    0.000 {method 'copy' of 'numpy.ndarray' objects}\n",
      "    52050    0.015    0.000    0.015    0.000 {built-in method numpy.core._multiarray_umath.normalize_axis_index}\n",
      "    52050    0.014    0.000    0.014    0.000 {built-in method builtins.issubclass}\n",
      "    32636    0.010    0.000    0.010    0.000 {method 'item' of 'numpy.ndarray' objects}\n",
      "    25919    0.009    0.000    0.009    0.000 {built-in method builtins.getattr}\n",
      "    26025    0.008    0.000    0.008    0.000 {built-in method builtins.hasattr}\n",
      "     1001    0.003    0.000    0.006    0.000 nanfunctions.py:228(nanmin)\n",
      "     6689    0.004    0.000    0.004    0.000 {method 'astype' of 'numpy.ndarray' objects}\n",
      "       90    0.000    0.000    0.003    0.000 fromnumeric.py:1006(argsort)\n",
      "     1001    0.001    0.000    0.003    0.000 {method 'any' of 'numpy.generic' objects}\n",
      "        1    0.000    0.000    0.002    0.002 pypilot.py:870(<listcomp>)\n",
      "     1001    0.001    0.000    0.002    0.000 _methods.py:54(_any)\n",
      "     1332    0.001    0.000    0.001    0.000 {built-in method numpy.zeros}\n",
      "       25    0.000    0.000    0.001    0.000 pypilot.py:18(random_sample)\n",
      "       25    0.000    0.000    0.001    0.000 {method 'choice' of 'numpy.random.mtrand.RandomState' objects}\n",
      "     1001    0.001    0.000    0.001    0.000 {built-in method numpy.where}\n",
      "       25    0.000    0.000    0.000    0.000 fromnumeric.py:2933(prod)\n",
      "       12    0.000    0.000    0.000    0.000 {built-in method _warnings.warn}\n",
      "        1    0.000    0.000    0.000    0.000 index_tricks.py:323(__getitem__)\n",
      "       26    0.000    0.000    0.000    0.000 {built-in method numpy.arange}\n",
      "       25    0.000    0.000    0.000    0.000 Tree.py:43(__init__)\n",
      "        1    0.000    0.000    0.000    0.000 numerictypes.py:599(find_common_type)\n",
      "        2    0.000    0.000    0.000    0.000 numerictypes.py:575(_can_coerce_all)\n",
      "        1    0.000    0.000    0.000    0.000 {method 'mean' of 'numpy.ndarray' objects}\n",
      "        2    0.000    0.000    0.000    0.000 {method 'max' of 'numpy.ndarray' objects}\n",
      "       13    0.000    0.000    0.000    0.000 pypilot.py:634(stop_criterion)\n",
      "        2    0.000    0.000    0.000    0.000 _methods.py:38(_amax)\n",
      "       13    0.000    0.000    0.000    0.000 {built-in method builtins.max}\n",
      "       14    0.000    0.000    0.000    0.000 numerictypes.py:584(<listcomp>)\n",
      "        2    0.000    0.000    0.000    0.000 {method 'min' of 'numpy.ndarray' objects}\n",
      "        2    0.000    0.000    0.000    0.000 _methods.py:42(_amin)\n",
      "        1    0.000    0.000    0.000    0.000 numerictypes.py:651(<listcomp>)\n",
      "        1    0.000    0.000    0.000    0.000 {method 'transpose' of 'numpy.ndarray' objects}\n",
      "        2    0.000    0.000    0.000    0.000 fromnumeric.py:3127(ndim)\n",
      "        4    0.000    0.000    0.000    0.000 {method 'append' of 'list' objects}\n",
      "        1    0.000    0.000    0.000    0.000 {method 'disable' of '_lsprof.Profiler' objects}\n",
      "        1    0.000    0.000    0.000    0.000 numerictypes.py:652(<listcomp>)\n",
      "\n",
      "\n"
     ]
    },
    {
     "data": {
      "text/plain": [
       "<pstats.Stats at 0x7f3dc03b8ac0>"
      ]
     },
     "execution_count": 14,
     "metadata": {},
     "output_type": "execute_result"
    }
   ],
   "source": [
    "import cProfile\n",
    "import pstats\n",
    "\n",
    "cProfile.run('p.fit(X, y, cat)','profile_results')\n",
    "stats = pstats.Stats('profile_results')\n",
    "stats.strip_dirs().sort_stats('cumtime').print_stats()"
   ]
  },
  {
   "cell_type": "markdown",
   "metadata": {},
   "source": []
  }
 ],
 "metadata": {
  "kernelspec": {
   "display_name": "pilot",
   "language": "python",
   "name": "python3"
  },
  "language_info": {
   "codemirror_mode": {
    "name": "ipython",
    "version": 3
   },
   "file_extension": ".py",
   "mimetype": "text/x-python",
   "name": "python",
   "nbconvert_exporter": "python",
   "pygments_lexer": "ipython3",
   "version": "3.10.12"
  }
 },
 "nbformat": 4,
 "nbformat_minor": 2
}
