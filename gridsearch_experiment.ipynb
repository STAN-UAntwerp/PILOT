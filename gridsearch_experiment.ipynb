{
 "cells": [
  {
   "attachments": {},
   "cell_type": "markdown",
   "metadata": {},
   "source": [
    "# Imports"
   ]
  },
  {
   "cell_type": "code",
   "execution_count": 1,
   "metadata": {},
   "outputs": [],
   "source": [
    "import sys\n",
    "import pathlib\n",
    "import joblib\n",
    "import warnings\n",
    "warnings.filterwarnings('ignore')\n",
    "import pandas as pd\n",
    "import numpy as np\n",
    "import matplotlib.pyplot as plt\n",
    "\n",
    "from functools import partial\n",
    "from sklearn.tree import DecisionTreeRegressor\n",
    "from sklearn.linear_model import LinearRegression, Lasso\n",
    "from sklearn.ensemble import RandomForestRegressor\n",
    "from sklearn.model_selection import train_test_split, GridSearchCV, KFold, cross_val_score, cross_validate\n",
    "from sklearn.metrics import mean_squared_error, r2_score\n",
    "from sklearn.preprocessing import OneHotEncoder\n",
    "\n",
    "if pathlib.Path().parent.resolve().absolute().as_posix() not in sys.path:\n",
    "    sys.path.append(pathlib.Path().parent.resolve().absolute().as_posix())\n",
    "\n",
    "from pilot import Pilot, ensemble\n",
    "\n",
    "%load_ext autoreload\n",
    "%autoreload 2"
   ]
  },
  {
   "attachments": {},
   "cell_type": "markdown",
   "metadata": {},
   "source": [
    "# Load data"
   ]
  },
  {
   "cell_type": "code",
   "execution_count": 2,
   "metadata": {},
   "outputs": [],
   "source": [
    "DATAPATH = pathlib.Path().absolute() / 'Data'\n",
    "datasets = {\n",
    "    'abalone': {'categorical': [0]}, # sex\n",
    "    'airfoil': {'categorical': [-1]},\n",
    "    'Bias_correction_ucl': {'categorical': [0]}, # station \n",
    "    'bodyfat_preprocessed': {'categorical': [-1]},\n",
    "    'boston': {'categorical': [3]}, # Charles river dummy\n",
    "    'communities': {'categorical': [-1]}, # 119 = LemasGangUnitDeploy\n",
    "    'concrete': {'categorical': [-1]},\n",
    "    'diabetes': {'categorical': [-1]},\n",
    "    'electricity': {'categorical': [-1]},\n",
    "    'energy': {'categorical': [5]}, # Orientation (X6)\n",
    "    'ga_preprocessed': {'categorical': [6]}, # Research\n",
    "    'housing': {'categorical': [-1]},\n",
    "    'ozone_preprocessed': {'categorical': [10, 11]},\n",
    "    'residential': {'categorical': [-1]},\n",
    "    'ribo_preprocessed': {'categorical': [-1]},\n",
    "    'SeoulBikeData': {'categorical': [-1]}, # 10 = seasons\n",
    "    'skills': {'categorical': [-1]},\n",
    "    'superconductor': {'categorical': [-1]},\n",
    "    'Walmart_preprocessed': {'categorical': [0]},\n",
    "    'wine': {'categorical': [-1]}\n",
    "}"
   ]
  },
  {
   "cell_type": "code",
   "execution_count": 3,
   "metadata": {},
   "outputs": [],
   "source": [
    "for d in datasets:\n",
    "    df = pd.read_csv(DATAPATH / f'{d}.csv')\n",
    "    X = df.drop(columns='target').values\n",
    "    y = df['target'].values\n",
    "    datasets[d]['data'] = X, y"
   ]
  },
  {
   "attachments": {},
   "cell_type": "markdown",
   "metadata": {},
   "source": [
    "# Fit baseline model"
   ]
  },
  {
   "cell_type": "code",
   "execution_count": 21,
   "metadata": {},
   "outputs": [
    {
     "name": "stdout",
     "output_type": "stream",
     "text": [
      "abalone 0.53 0.76\n",
      "airfoil 0.87 0.91\n",
      "Bias_correction_ucl 0.91 0.94\n",
      "bodyfat_preprocessed 0.7 0.84\n",
      "boston 0.88 0.94\n",
      "communities 0.69 0.9\n",
      "concrete 0.9 0.94\n",
      "diabetes 0.48 0.77\n",
      "electricity 0.88 0.93\n",
      "energy 0.97 0.97\n",
      "ga_preprocessed 0.81 0.89\n",
      "housing 0.85 0.86\n",
      "ozone_preprocessed 0.76 0.9\n",
      "residential 0.99 0.98\n",
      "SeoulBikeData 0.89 0.93\n",
      "skills 0.6 0.83\n",
      "superconductor 0.93 0.93\n",
      "Walmart_preprocessed 0.95 0.97\n",
      "wine 0.39 0.7\n"
     ]
    }
   ],
   "source": [
    "for d, data in datasets.items():\n",
    "    model = Pilot.PILOT()\n",
    "    tree = DecisionTreeRegressor(max_depth=12, min_samples_leaf=5, min_samples_split=10)\n",
    "    X, y = data['data']\n",
    "    model.fit(X, y, categorical=np.array(data['categorical']))\n",
    "    tree.fit(X, y)\n",
    "    print(\n",
    "        d, \n",
    "        round(r2_score(y, model.predict(X)), 2),\n",
    "        round(r2_score(y, tree.predict(X)), 2)\n",
    "    )\n",
    "    "
   ]
  },
  {
   "attachments": {},
   "cell_type": "markdown",
   "metadata": {},
   "source": [
    "# Hyperparameter tuning : truncation factor"
   ]
  },
  {
   "cell_type": "code",
   "execution_count": 20,
   "metadata": {},
   "outputs": [
    {
     "name": "stdout",
     "output_type": "stream",
     "text": [
      "abalone 0.42 0.09 0.41\n",
      "airfoil 0.54 0.57 0.41\n",
      "Bias_correction_ucl 0.62 0.51 0.69\n",
      "bodyfat_preprocessed 0.59 -0.01 0.58\n",
      "boston 0.48 0.1 0.35\n",
      "communities 0.62 0.3 -2.89\n",
      "concrete 0.58 0.27 0.46\n",
      "diabetes 0.46 -0.12 0.48\n",
      "electricity 0.87 0.74 0.65\n",
      "energy 0.94 0.94 0.87\n",
      "ga_preprocessed 0.79 0.6 0.81\n",
      "housing 0.48 -0.34 0.5\n",
      "ozone_preprocessed 0.41 0.08 0.51\n",
      "residential 0.95 0.87 0.92\n",
      "ribo_preprocessed -0.46 -0.34 0.53\n",
      "SeoulBikeData 0.32 0.48 -0.49\n",
      "skills 0.57 0.31 0.56\n",
      "Walmart_preprocessed -5.63 -1.02 -0.28\n",
      "wine 0.29 -0.03 0.25\n"
     ]
    }
   ],
   "source": [
    "results = {}\n",
    "for d, data in datasets.items():\n",
    "    if d == 'superconductor':\n",
    "        continue\n",
    "    pilot = GridSearchCV(estimator=Pilot.PILOT(), param_grid={'max_depth': [10], 'truncation_factor': [1, 1.5, 2, 2.5, 3]}, scoring='r2', cv=5)\n",
    "    tree = GridSearchCV(estimator=DecisionTreeRegressor(), param_grid={'max_depth': [10]}, scoring='r2', cv=5)\n",
    "    lr = GridSearchCV(estimator=LinearRegression(), param_grid={}, scoring='r2', cv=5)\n",
    "    X, y = data['data']\n",
    "    pilot.fit(X, y, categorical=np.array(data['categorical']))\n",
    "    tree.fit(X, y)\n",
    "    lr.fit(X, y)\n",
    "    print(\n",
    "        d, \n",
    "        round(pilot.best_score_, 2),\n",
    "        round(tree.best_score_, 2),\n",
    "        round(lr.best_score_, 2)\n",
    "    )\n",
    "    results[d] = pilot.cv_results_"
   ]
  },
  {
   "cell_type": "code",
   "execution_count": 30,
   "metadata": {},
   "outputs": [
    {
     "data": {
      "text/html": [
       "<div>\n",
       "<style scoped>\n",
       "    .dataframe tbody tr th:only-of-type {\n",
       "        vertical-align: middle;\n",
       "    }\n",
       "\n",
       "    .dataframe tbody tr th {\n",
       "        vertical-align: top;\n",
       "    }\n",
       "\n",
       "    .dataframe thead th {\n",
       "        text-align: right;\n",
       "    }\n",
       "</style>\n",
       "<table border=\"1\" class=\"dataframe\">\n",
       "  <thead>\n",
       "    <tr style=\"text-align: right;\">\n",
       "      <th>param_truncation_factor</th>\n",
       "      <th>1.0</th>\n",
       "      <th>1.5</th>\n",
       "      <th>2.0</th>\n",
       "      <th>2.5</th>\n",
       "      <th>3.0</th>\n",
       "    </tr>\n",
       "  </thead>\n",
       "  <tbody>\n",
       "    <tr>\n",
       "      <th>abalone</th>\n",
       "      <td>0.422345</td>\n",
       "      <td>0.422345</td>\n",
       "      <td>0.422345</td>\n",
       "      <td>0.422345</td>\n",
       "      <td>0.422345</td>\n",
       "    </tr>\n",
       "    <tr>\n",
       "      <th>airfoil</th>\n",
       "      <td>0.541550</td>\n",
       "      <td>0.542491</td>\n",
       "      <td>0.542491</td>\n",
       "      <td>0.542491</td>\n",
       "      <td>0.539009</td>\n",
       "    </tr>\n",
       "    <tr>\n",
       "      <th>Bias_correction_ucl</th>\n",
       "      <td>0.619869</td>\n",
       "      <td>0.621468</td>\n",
       "      <td>0.621468</td>\n",
       "      <td>0.621468</td>\n",
       "      <td>0.621468</td>\n",
       "    </tr>\n",
       "    <tr>\n",
       "      <th>bodyfat_preprocessed</th>\n",
       "      <td>0.580666</td>\n",
       "      <td>0.586711</td>\n",
       "      <td>0.586711</td>\n",
       "      <td>0.586711</td>\n",
       "      <td>0.586711</td>\n",
       "    </tr>\n",
       "    <tr>\n",
       "      <th>boston</th>\n",
       "      <td>0.477665</td>\n",
       "      <td>0.472961</td>\n",
       "      <td>0.472961</td>\n",
       "      <td>0.472961</td>\n",
       "      <td>0.472961</td>\n",
       "    </tr>\n",
       "    <tr>\n",
       "      <th>communities</th>\n",
       "      <td>0.619019</td>\n",
       "      <td>0.617436</td>\n",
       "      <td>0.617211</td>\n",
       "      <td>0.617211</td>\n",
       "      <td>0.617211</td>\n",
       "    </tr>\n",
       "    <tr>\n",
       "      <th>concrete</th>\n",
       "      <td>0.581790</td>\n",
       "      <td>0.579031</td>\n",
       "      <td>0.576597</td>\n",
       "      <td>0.579031</td>\n",
       "      <td>0.579031</td>\n",
       "    </tr>\n",
       "    <tr>\n",
       "      <th>diabetes</th>\n",
       "      <td>0.458325</td>\n",
       "      <td>0.458325</td>\n",
       "      <td>0.458325</td>\n",
       "      <td>0.458325</td>\n",
       "      <td>0.458325</td>\n",
       "    </tr>\n",
       "    <tr>\n",
       "      <th>electricity</th>\n",
       "      <td>0.873663</td>\n",
       "      <td>0.872209</td>\n",
       "      <td>0.872209</td>\n",
       "      <td>0.872209</td>\n",
       "      <td>0.872209</td>\n",
       "    </tr>\n",
       "    <tr>\n",
       "      <th>energy</th>\n",
       "      <td>0.936738</td>\n",
       "      <td>0.936738</td>\n",
       "      <td>0.936738</td>\n",
       "      <td>0.936738</td>\n",
       "      <td>0.936738</td>\n",
       "    </tr>\n",
       "    <tr>\n",
       "      <th>ga_preprocessed</th>\n",
       "      <td>0.792103</td>\n",
       "      <td>0.794850</td>\n",
       "      <td>0.794850</td>\n",
       "      <td>0.794850</td>\n",
       "      <td>0.794850</td>\n",
       "    </tr>\n",
       "    <tr>\n",
       "      <th>housing</th>\n",
       "      <td>0.475289</td>\n",
       "      <td>0.394838</td>\n",
       "      <td>0.395282</td>\n",
       "      <td>0.395282</td>\n",
       "      <td>0.395282</td>\n",
       "    </tr>\n",
       "    <tr>\n",
       "      <th>ozone_preprocessed</th>\n",
       "      <td>0.413180</td>\n",
       "      <td>0.408638</td>\n",
       "      <td>0.408638</td>\n",
       "      <td>0.408638</td>\n",
       "      <td>0.408638</td>\n",
       "    </tr>\n",
       "    <tr>\n",
       "      <th>residential</th>\n",
       "      <td>0.951097</td>\n",
       "      <td>0.943171</td>\n",
       "      <td>0.945113</td>\n",
       "      <td>0.945113</td>\n",
       "      <td>0.945113</td>\n",
       "    </tr>\n",
       "    <tr>\n",
       "      <th>ribo_preprocessed</th>\n",
       "      <td>-0.489872</td>\n",
       "      <td>-0.459946</td>\n",
       "      <td>-0.459946</td>\n",
       "      <td>-0.459946</td>\n",
       "      <td>-0.459946</td>\n",
       "    </tr>\n",
       "    <tr>\n",
       "      <th>SeoulBikeData</th>\n",
       "      <td>0.324944</td>\n",
       "      <td>0.034813</td>\n",
       "      <td>0.021693</td>\n",
       "      <td>0.021680</td>\n",
       "      <td>0.021680</td>\n",
       "    </tr>\n",
       "    <tr>\n",
       "      <th>skills</th>\n",
       "      <td>0.570789</td>\n",
       "      <td>0.570322</td>\n",
       "      <td>0.570322</td>\n",
       "      <td>0.570322</td>\n",
       "      <td>0.570322</td>\n",
       "    </tr>\n",
       "    <tr>\n",
       "      <th>Walmart_preprocessed</th>\n",
       "      <td>-5.629113</td>\n",
       "      <td>-5.629113</td>\n",
       "      <td>-5.629113</td>\n",
       "      <td>-5.629113</td>\n",
       "      <td>-5.629113</td>\n",
       "    </tr>\n",
       "    <tr>\n",
       "      <th>wine</th>\n",
       "      <td>0.293479</td>\n",
       "      <td>0.293450</td>\n",
       "      <td>0.293450</td>\n",
       "      <td>0.293450</td>\n",
       "      <td>0.293450</td>\n",
       "    </tr>\n",
       "  </tbody>\n",
       "</table>\n",
       "</div>"
      ],
      "text/plain": [
       "param_truncation_factor       1.0       1.5       2.0       2.5       3.0\n",
       "abalone                  0.422345  0.422345  0.422345  0.422345  0.422345\n",
       "airfoil                  0.541550  0.542491  0.542491  0.542491  0.539009\n",
       "Bias_correction_ucl      0.619869  0.621468  0.621468  0.621468  0.621468\n",
       "bodyfat_preprocessed     0.580666  0.586711  0.586711  0.586711  0.586711\n",
       "boston                   0.477665  0.472961  0.472961  0.472961  0.472961\n",
       "communities              0.619019  0.617436  0.617211  0.617211  0.617211\n",
       "concrete                 0.581790  0.579031  0.576597  0.579031  0.579031\n",
       "diabetes                 0.458325  0.458325  0.458325  0.458325  0.458325\n",
       "electricity              0.873663  0.872209  0.872209  0.872209  0.872209\n",
       "energy                   0.936738  0.936738  0.936738  0.936738  0.936738\n",
       "ga_preprocessed          0.792103  0.794850  0.794850  0.794850  0.794850\n",
       "housing                  0.475289  0.394838  0.395282  0.395282  0.395282\n",
       "ozone_preprocessed       0.413180  0.408638  0.408638  0.408638  0.408638\n",
       "residential              0.951097  0.943171  0.945113  0.945113  0.945113\n",
       "ribo_preprocessed       -0.489872 -0.459946 -0.459946 -0.459946 -0.459946\n",
       "SeoulBikeData            0.324944  0.034813  0.021693  0.021680  0.021680\n",
       "skills                   0.570789  0.570322  0.570322  0.570322  0.570322\n",
       "Walmart_preprocessed    -5.629113 -5.629113 -5.629113 -5.629113 -5.629113\n",
       "wine                     0.293479  0.293450  0.293450  0.293450  0.293450"
      ]
     },
     "execution_count": 30,
     "metadata": {},
     "output_type": "execute_result"
    }
   ],
   "source": [
    "df = pd.concat([\n",
    "    pd.DataFrame(results[d])[['param_truncation_factor', *[f'split{i}_test_score' for i in range(5)]]].melt(\n",
    "        id_vars='param_truncation_factor'\n",
    "    ).groupby('param_truncation_factor')['value'].mean().rename(d)\n",
    "    for d in results\n",
    "    ], axis=1).T\n",
    "\n",
    "df"
   ]
  },
  {
   "cell_type": "code",
   "execution_count": 16,
   "metadata": {},
   "outputs": [],
   "source": [
    "def highlight(data, kind='max', color='black', background_color='lightgreen'):\n",
    "    '''\n",
    "    highlight the maximum in a Series or DataFrame\n",
    "    '''\n",
    "    attr = 'color: {}; background-color: {}'.format(color, background_color)\n",
    "    #remove % and cast to float\n",
    "    data = data.replace('%','', regex=True).astype(float)\n",
    "    if data.ndim == 1:  # Series from .apply(axis=0) or axis=1\n",
    "        if kind == 'max':\n",
    "            highlight = data == data.max()\n",
    "        elif kind == 'min':\n",
    "            highlight = data == data.min()\n",
    "        return [attr if v else '' for v in highlight]\n",
    "    else:  # from .apply(axis=None)\n",
    "        if kind == 'max':\n",
    "            highlight = data == data.max().max()\n",
    "        elif kind == 'min':\n",
    "            highlight = data == data.min().min()\n",
    "        return pd.DataFrame(np.where(highlight, attr, ''),\n",
    "                            index=data.index, columns=data.columns)"
   ]
  },
  {
   "cell_type": "code",
   "execution_count": null,
   "metadata": {},
   "outputs": [],
   "source": [
    "df.style.apply(partial(highlight, kind='max'), axis=1).format('{:.3f}')\n"
   ]
  },
  {
   "attachments": {},
   "cell_type": "markdown",
   "metadata": {},
   "source": [
    "\n",
    "# Hyperparameter tuning: Random Forest"
   ]
  },
  {
   "attachments": {},
   "cell_type": "markdown",
   "metadata": {},
   "source": [
    "## Run grid"
   ]
  },
  {
   "cell_type": "code",
   "execution_count": 10,
   "metadata": {},
   "outputs": [],
   "source": [
    "OUTPUTPATH = pathlib.Path().absolute() / 'Output'"
   ]
  },
  {
   "cell_type": "code",
   "execution_count": null,
   "metadata": {},
   "outputs": [],
   "source": [
    "results = {}\n",
    "for i, (d, data) in enumerate(datasets.items()):\n",
    "    print(i)\n",
    "    if d == 'superconductor':\n",
    "        continue\n",
    "    pilot = GridSearchCV(\n",
    "        estimator=ensemble.RandomForestPilot(),\n",
    "        param_grid={\n",
    "            'n_estimators': [50],\n",
    "            'max_depth': [2, 10],\n",
    "            'truncation_factor': [1.5],\n",
    "            'min_sample_split': [2, 10],\n",
    "            'min_sample_leaf':  [1],\n",
    "            'n_features': [1.0]\n",
    "        }, \n",
    "        scoring='neg_mean_squared_error',\n",
    "        cv=5,\n",
    "        n_jobs=-1\n",
    "    )\n",
    "    tree = GridSearchCV(\n",
    "        estimator=RandomForestRegressor(),\n",
    "        param_grid={\n",
    "            'n_estimators': [50],\n",
    "            'max_depth': [2, 10],\n",
    "            'min_samples_split': [2, 10],\n",
    "            'min_samples_leaf':  [1],\n",
    "            'max_features': [1.0]\n",
    "        },\n",
    "        scoring='neg_mean_squared_error', \n",
    "        cv=5,\n",
    "        n_jobs=-1\n",
    "    )\n",
    "\n",
    "    X, y = data['data']\n",
    "    \n",
    "    pilot.fit(X, y, categorical_idx=np.array(data['categorical']))\n",
    "    tree.fit(X, y)\n",
    "\n",
    "    \n",
    "    print(d, round(pilot.best_score_, 2), round(tree.best_score_, 2))\n",
    "    \n",
    "    results[d] = {'pilot': pilot.cv_results_, 'rf': tree.cv_results_}\n",
    "    joblib.dump(results, OUTPUTPATH / 'rf_gridsearch_v2.pkl')"
   ]
  },
  {
   "attachments": {},
   "cell_type": "markdown",
   "metadata": {},
   "source": [
    "## Rerun on Electricity,  Walmart, Boston, Abalone, Communities, Housing, Ribo"
   ]
  },
  {
   "attachments": {},
   "cell_type": "markdown",
   "metadata": {},
   "source": [
    "After adding rel_tolerance parameter to avoid recursion errors"
   ]
  },
  {
   "cell_type": "code",
   "execution_count": 5,
   "metadata": {},
   "outputs": [],
   "source": [
    "OUTPUTPATH = pathlib.Path().absolute() / 'Output'"
   ]
  },
  {
   "cell_type": "code",
   "execution_count": 11,
   "metadata": {},
   "outputs": [
    {
     "data": {
      "text/plain": [
       "dict_keys(['electricity', 'Walmart_preprocessed', 'boston', 'abalone', 'communities', 'housing', 'ribo_preprocessed'])"
      ]
     },
     "execution_count": 11,
     "metadata": {},
     "output_type": "execute_result"
    }
   ],
   "source": [
    "results =  joblib.load(OUTPUTPATH / 'rf_gridsearch_v3.pkl')\n",
    "results.keys()"
   ]
  },
  {
   "cell_type": "code",
   "execution_count": null,
   "metadata": {},
   "outputs": [],
   "source": [
    "# datasets_selected = ['electricity', 'Walmart_preprocessed', 'boston', 'abalone', 'communities', 'housing', 'ribo_preprocessed']\n",
    "datasets_selected = ['ribo_preprocessed']\n",
    "# results = {}\n",
    "for i, d in enumerate(datasets_selected):\n",
    "    print(i)\n",
    "    data = datasets[d]\n",
    "    if d == 'superconductor':\n",
    "        continue\n",
    "    pilot = GridSearchCV(\n",
    "        estimator=ensemble.RandomForestPilot(),\n",
    "        param_grid={\n",
    "            'n_estimators': [50],\n",
    "            'max_depth': [2, 10],\n",
    "            'truncation_factor': [1.5],\n",
    "            'min_sample_split': [2, 10],\n",
    "            'min_sample_leaf':  [1],\n",
    "            'n_features': [1.0],\n",
    "            'rel_tolerance': [0.01],\n",
    "        }, \n",
    "        scoring='neg_mean_squared_error',\n",
    "        cv=KFold(n_splits=5, shuffle=True, random_state=42),\n",
    "        n_jobs=-1\n",
    "    )\n",
    "    tree = GridSearchCV(\n",
    "        estimator=RandomForestRegressor(),\n",
    "        param_grid={\n",
    "            'n_estimators': [50],\n",
    "            'max_depth': [2, 10],\n",
    "            'min_samples_split': [2, 10],\n",
    "            'min_samples_leaf':  [1],\n",
    "            'max_features': [1.0]\n",
    "        },\n",
    "        scoring='neg_mean_squared_error', \n",
    "        cv=KFold(n_splits=5, shuffle=True, random_state=42),\n",
    "        n_jobs=-1\n",
    "    )\n",
    "\n",
    "    X, y = data['data']\n",
    "    \n",
    "    pilot.fit(X, y, categorical_idx=np.array(data['categorical']))\n",
    "    tree.fit(X, y)\n",
    "\n",
    "    \n",
    "    print(d, round(pilot.best_score_, 2), round(tree.best_score_, 2))\n",
    "    \n",
    "    results[d] = {'pilot': pilot.cv_results_, 'rf': tree.cv_results_}\n",
    "    joblib.dump(results, OUTPUTPATH / 'rf_gridsearch_v3.pkl')"
   ]
  },
  {
   "cell_type": "code",
   "execution_count": 12,
   "metadata": {},
   "outputs": [
    {
     "data": {
      "text/plain": [
       "['/home/servot82/PILOT/Output/rf_gridsearch_v4.pkl']"
      ]
     },
     "execution_count": 12,
     "metadata": {},
     "output_type": "execute_result"
    }
   ],
   "source": [
    "previous_results = joblib.load( OUTPUTPATH / 'rf_gridsearch_v2.pkl')\n",
    "previous_results.update(results)\n",
    "\n",
    "joblib.dump(previous_results, OUTPUTPATH / 'rf_gridsearch_v4.pkl')"
   ]
  },
  {
   "attachments": {},
   "cell_type": "markdown",
   "metadata": {},
   "source": [
    "## Inspect results"
   ]
  },
  {
   "cell_type": "code",
   "execution_count": 13,
   "metadata": {},
   "outputs": [],
   "source": [
    "OUTPUTPATH = pathlib.Path().absolute() / 'Output'\n",
    "results = joblib.load( OUTPUTPATH / 'rf_gridsearch_v4.pkl')"
   ]
  },
  {
   "cell_type": "code",
   "execution_count": 14,
   "metadata": {},
   "outputs": [
    {
     "data": {
      "text/plain": [
       "<AxesSubplot: ylabel='dataset'>"
      ]
     },
     "execution_count": 14,
     "metadata": {},
     "output_type": "execute_result"
    },
    {
     "data": {
      "image/png": "[encoded data removed]",
      "text/plain": [
       "<Figure size 640x480 with 1 Axes>"
      ]
     },
     "metadata": {},
     "output_type": "display_data"
    }
   ],
   "source": [
    "normalized_results = pd.DataFrame([{\n",
    "    'dataset': d, \n",
    "    'pilot_mse': -np.nanmax(r['pilot']['mean_test_score']), \n",
    "    'rf_mse': -np.nanmax(r['rf']['mean_test_score'])\n",
    "    } for d, r in results.items()]).set_index('dataset').apply(lambda row: row / row.min(), axis=1)\n",
    "\n",
    "normalized_results.plot.barh()"
   ]
  },
  {
   "cell_type": "code",
   "execution_count": 18,
   "metadata": {},
   "outputs": [
    {
     "data": {
      "text/html": [
       "<style type=\"text/css\">\n",
       "#T_0d916_row0_col1, #T_0d916_row1_col1, #T_0d916_row2_col0, #T_0d916_row3_col0, #T_0d916_row4_col1, #T_0d916_row5_col0, #T_0d916_row6_col0, #T_0d916_row7_col0, #T_0d916_row8_col0, #T_0d916_row9_col1, #T_0d916_row10_col0, #T_0d916_row11_col0, #T_0d916_row12_col0, #T_0d916_row13_col0, #T_0d916_row14_col0, #T_0d916_row15_col1, #T_0d916_row16_col0, #T_0d916_row17_col0, #T_0d916_row18_col0 {\n",
       "  color: black;\n",
       "  background-color: lightgreen;\n",
       "}\n",
       "</style>\n",
       "<table id=\"T_0d916\">\n",
       "  <thead>\n",
       "    <tr>\n",
       "      <th class=\"blank level0\" >&nbsp;</th>\n",
       "      <th id=\"T_0d916_level0_col0\" class=\"col_heading level0 col0\" >pilot_mse</th>\n",
       "      <th id=\"T_0d916_level0_col1\" class=\"col_heading level0 col1\" >rf_mse</th>\n",
       "    </tr>\n",
       "    <tr>\n",
       "      <th class=\"index_name level0\" >dataset</th>\n",
       "      <th class=\"blank col0\" >&nbsp;</th>\n",
       "      <th class=\"blank col1\" >&nbsp;</th>\n",
       "    </tr>\n",
       "  </thead>\n",
       "  <tbody>\n",
       "    <tr>\n",
       "      <th id=\"T_0d916_level0_row0\" class=\"row_heading level0 row0\" >abalone</th>\n",
       "      <td id=\"T_0d916_row0_col0\" class=\"data row0 col0\" >1.021</td>\n",
       "      <td id=\"T_0d916_row0_col1\" class=\"data row0 col1\" >1.000</td>\n",
       "    </tr>\n",
       "    <tr>\n",
       "      <th id=\"T_0d916_level0_row1\" class=\"row_heading level0 row1\" >airfoil</th>\n",
       "      <td id=\"T_0d916_row1_col0\" class=\"data row1 col0\" >1.088</td>\n",
       "      <td id=\"T_0d916_row1_col1\" class=\"data row1 col1\" >1.000</td>\n",
       "    </tr>\n",
       "    <tr>\n",
       "      <th id=\"T_0d916_level0_row2\" class=\"row_heading level0 row2\" >Bias_correction_ucl</th>\n",
       "      <td id=\"T_0d916_row2_col0\" class=\"data row2 col0\" >1.000</td>\n",
       "      <td id=\"T_0d916_row2_col1\" class=\"data row2 col1\" >1.128</td>\n",
       "    </tr>\n",
       "    <tr>\n",
       "      <th id=\"T_0d916_level0_row3\" class=\"row_heading level0 row3\" >bodyfat_preprocessed</th>\n",
       "      <td id=\"T_0d916_row3_col0\" class=\"data row3 col0\" >1.000</td>\n",
       "      <td id=\"T_0d916_row3_col1\" class=\"data row3 col1\" >1.170</td>\n",
       "    </tr>\n",
       "    <tr>\n",
       "      <th id=\"T_0d916_level0_row4\" class=\"row_heading level0 row4\" >boston</th>\n",
       "      <td id=\"T_0d916_row4_col0\" class=\"data row4 col0\" >1.203</td>\n",
       "      <td id=\"T_0d916_row4_col1\" class=\"data row4 col1\" >1.000</td>\n",
       "    </tr>\n",
       "    <tr>\n",
       "      <th id=\"T_0d916_level0_row5\" class=\"row_heading level0 row5\" >communities</th>\n",
       "      <td id=\"T_0d916_row5_col0\" class=\"data row5 col0\" >1.000</td>\n",
       "      <td id=\"T_0d916_row5_col1\" class=\"data row5 col1\" >1.067</td>\n",
       "    </tr>\n",
       "    <tr>\n",
       "      <th id=\"T_0d916_level0_row6\" class=\"row_heading level0 row6\" >concrete</th>\n",
       "      <td id=\"T_0d916_row6_col0\" class=\"data row6 col0\" >1.000</td>\n",
       "      <td id=\"T_0d916_row6_col1\" class=\"data row6 col1\" >1.698</td>\n",
       "    </tr>\n",
       "    <tr>\n",
       "      <th id=\"T_0d916_level0_row7\" class=\"row_heading level0 row7\" >diabetes</th>\n",
       "      <td id=\"T_0d916_row7_col0\" class=\"data row7 col0\" >1.000</td>\n",
       "      <td id=\"T_0d916_row7_col1\" class=\"data row7 col1\" >1.082</td>\n",
       "    </tr>\n",
       "    <tr>\n",
       "      <th id=\"T_0d916_level0_row8\" class=\"row_heading level0 row8\" >electricity</th>\n",
       "      <td id=\"T_0d916_row8_col0\" class=\"data row8 col0\" >1.000</td>\n",
       "      <td id=\"T_0d916_row8_col1\" class=\"data row8 col1\" >1.202</td>\n",
       "    </tr>\n",
       "    <tr>\n",
       "      <th id=\"T_0d916_level0_row9\" class=\"row_heading level0 row9\" >energy</th>\n",
       "      <td id=\"T_0d916_row9_col0\" class=\"data row9 col0\" >1.261</td>\n",
       "      <td id=\"T_0d916_row9_col1\" class=\"data row9 col1\" >1.000</td>\n",
       "    </tr>\n",
       "    <tr>\n",
       "      <th id=\"T_0d916_level0_row10\" class=\"row_heading level0 row10\" >ga_preprocessed</th>\n",
       "      <td id=\"T_0d916_row10_col0\" class=\"data row10 col0\" >1.000</td>\n",
       "      <td id=\"T_0d916_row10_col1\" class=\"data row10 col1\" >1.101</td>\n",
       "    </tr>\n",
       "    <tr>\n",
       "      <th id=\"T_0d916_level0_row11\" class=\"row_heading level0 row11\" >housing</th>\n",
       "      <td id=\"T_0d916_row11_col0\" class=\"data row11 col0\" >1.000</td>\n",
       "      <td id=\"T_0d916_row11_col1\" class=\"data row11 col1\" >1.247</td>\n",
       "    </tr>\n",
       "    <tr>\n",
       "      <th id=\"T_0d916_level0_row12\" class=\"row_heading level0 row12\" >ozone_preprocessed</th>\n",
       "      <td id=\"T_0d916_row12_col0\" class=\"data row12 col0\" >1.000</td>\n",
       "      <td id=\"T_0d916_row12_col1\" class=\"data row12 col1\" >1.034</td>\n",
       "    </tr>\n",
       "    <tr>\n",
       "      <th id=\"T_0d916_level0_row13\" class=\"row_heading level0 row13\" >residential</th>\n",
       "      <td id=\"T_0d916_row13_col0\" class=\"data row13 col0\" >1.000</td>\n",
       "      <td id=\"T_0d916_row13_col1\" class=\"data row13 col1\" >1.597</td>\n",
       "    </tr>\n",
       "    <tr>\n",
       "      <th id=\"T_0d916_level0_row14\" class=\"row_heading level0 row14\" >ribo_preprocessed</th>\n",
       "      <td id=\"T_0d916_row14_col0\" class=\"data row14 col0\" >1.000</td>\n",
       "      <td id=\"T_0d916_row14_col1\" class=\"data row14 col1\" >1.114</td>\n",
       "    </tr>\n",
       "    <tr>\n",
       "      <th id=\"T_0d916_level0_row15\" class=\"row_heading level0 row15\" >SeoulBikeData</th>\n",
       "      <td id=\"T_0d916_row15_col0\" class=\"data row15 col0\" >1.035</td>\n",
       "      <td id=\"T_0d916_row15_col1\" class=\"data row15 col1\" >1.000</td>\n",
       "    </tr>\n",
       "    <tr>\n",
       "      <th id=\"T_0d916_level0_row16\" class=\"row_heading level0 row16\" >skills</th>\n",
       "      <td id=\"T_0d916_row16_col0\" class=\"data row16 col0\" >1.000</td>\n",
       "      <td id=\"T_0d916_row16_col1\" class=\"data row16 col1\" >1.024</td>\n",
       "    </tr>\n",
       "    <tr>\n",
       "      <th id=\"T_0d916_level0_row17\" class=\"row_heading level0 row17\" >Walmart_preprocessed</th>\n",
       "      <td id=\"T_0d916_row17_col0\" class=\"data row17 col0\" >1.000</td>\n",
       "      <td id=\"T_0d916_row17_col1\" class=\"data row17 col1\" >1.124</td>\n",
       "    </tr>\n",
       "    <tr>\n",
       "      <th id=\"T_0d916_level0_row18\" class=\"row_heading level0 row18\" >wine</th>\n",
       "      <td id=\"T_0d916_row18_col0\" class=\"data row18 col0\" >1.000</td>\n",
       "      <td id=\"T_0d916_row18_col1\" class=\"data row18 col1\" >1.023</td>\n",
       "    </tr>\n",
       "  </tbody>\n",
       "</table>\n"
      ],
      "text/plain": [
       "<pandas.io.formats.style.Styler at 0x7fa93a518ee0>"
      ]
     },
     "execution_count": 18,
     "metadata": {},
     "output_type": "execute_result"
    }
   ],
   "source": [
    "normalized_results.style.apply(partial(highlight, kind='min'), axis=1).format('{:.3f}')\n"
   ]
  },
  {
   "attachments": {},
   "cell_type": "markdown",
   "metadata": {},
   "source": [
    "### Deep dive max depth"
   ]
  },
  {
   "cell_type": "code",
   "execution_count": 19,
   "metadata": {},
   "outputs": [
    {
     "data": {
      "text/html": [
       "<style type=\"text/css\">\n",
       "#T_9b08a_row0_col1, #T_9b08a_row1_col1, #T_9b08a_row2_col1, #T_9b08a_row3_col1, #T_9b08a_row4_col1, #T_9b08a_row5_col1, #T_9b08a_row6_col1, #T_9b08a_row7_col1, #T_9b08a_row8_col1, #T_9b08a_row9_col1, #T_9b08a_row10_col1, #T_9b08a_row11_col1, #T_9b08a_row12_col0, #T_9b08a_row13_col1, #T_9b08a_row14_col1, #T_9b08a_row15_col1, #T_9b08a_row16_col1, #T_9b08a_row17_col1, #T_9b08a_row18_col1 {\n",
       "  color: black;\n",
       "  background-color: lightgreen;\n",
       "}\n",
       "</style>\n",
       "<table id=\"T_9b08a\">\n",
       "  <thead>\n",
       "    <tr>\n",
       "      <th class=\"index_name level0\" >param_max_depth</th>\n",
       "      <th id=\"T_9b08a_level0_col0\" class=\"col_heading level0 col0\" >2</th>\n",
       "      <th id=\"T_9b08a_level0_col1\" class=\"col_heading level0 col1\" >10</th>\n",
       "    </tr>\n",
       "    <tr>\n",
       "      <th class=\"index_name level0\" >dataset</th>\n",
       "      <th class=\"blank col0\" >&nbsp;</th>\n",
       "      <th class=\"blank col1\" >&nbsp;</th>\n",
       "    </tr>\n",
       "  </thead>\n",
       "  <tbody>\n",
       "    <tr>\n",
       "      <th id=\"T_9b08a_level0_row0\" class=\"row_heading level0 row0\" >Bias_correction_ucl</th>\n",
       "      <td id=\"T_9b08a_row0_col0\" class=\"data row0 col0\" >1.013</td>\n",
       "      <td id=\"T_9b08a_row0_col1\" class=\"data row0 col1\" >1.000</td>\n",
       "    </tr>\n",
       "    <tr>\n",
       "      <th id=\"T_9b08a_level0_row1\" class=\"row_heading level0 row1\" >SeoulBikeData</th>\n",
       "      <td id=\"T_9b08a_row1_col0\" class=\"data row1 col0\" >2.423</td>\n",
       "      <td id=\"T_9b08a_row1_col1\" class=\"data row1 col1\" >1.000</td>\n",
       "    </tr>\n",
       "    <tr>\n",
       "      <th id=\"T_9b08a_level0_row2\" class=\"row_heading level0 row2\" >Walmart_preprocessed</th>\n",
       "      <td id=\"T_9b08a_row2_col0\" class=\"data row2 col0\" >2.341</td>\n",
       "      <td id=\"T_9b08a_row2_col1\" class=\"data row2 col1\" >1.000</td>\n",
       "    </tr>\n",
       "    <tr>\n",
       "      <th id=\"T_9b08a_level0_row3\" class=\"row_heading level0 row3\" >abalone</th>\n",
       "      <td id=\"T_9b08a_row3_col0\" class=\"data row3 col0\" >1.055</td>\n",
       "      <td id=\"T_9b08a_row3_col1\" class=\"data row3 col1\" >1.000</td>\n",
       "    </tr>\n",
       "    <tr>\n",
       "      <th id=\"T_9b08a_level0_row4\" class=\"row_heading level0 row4\" >airfoil</th>\n",
       "      <td id=\"T_9b08a_row4_col0\" class=\"data row4 col0\" >1.642</td>\n",
       "      <td id=\"T_9b08a_row4_col1\" class=\"data row4 col1\" >1.000</td>\n",
       "    </tr>\n",
       "    <tr>\n",
       "      <th id=\"T_9b08a_level0_row5\" class=\"row_heading level0 row5\" >bodyfat_preprocessed</th>\n",
       "      <td id=\"T_9b08a_row5_col0\" class=\"data row5 col0\" >1.022</td>\n",
       "      <td id=\"T_9b08a_row5_col1\" class=\"data row5 col1\" >1.000</td>\n",
       "    </tr>\n",
       "    <tr>\n",
       "      <th id=\"T_9b08a_level0_row6\" class=\"row_heading level0 row6\" >boston</th>\n",
       "      <td id=\"T_9b08a_row6_col0\" class=\"data row6 col0\" >1.489</td>\n",
       "      <td id=\"T_9b08a_row6_col1\" class=\"data row6 col1\" >1.000</td>\n",
       "    </tr>\n",
       "    <tr>\n",
       "      <th id=\"T_9b08a_level0_row7\" class=\"row_heading level0 row7\" >communities</th>\n",
       "      <td id=\"T_9b08a_row7_col0\" class=\"data row7 col0\" >1.064</td>\n",
       "      <td id=\"T_9b08a_row7_col1\" class=\"data row7 col1\" >1.000</td>\n",
       "    </tr>\n",
       "    <tr>\n",
       "      <th id=\"T_9b08a_level0_row8\" class=\"row_heading level0 row8\" >concrete</th>\n",
       "      <td id=\"T_9b08a_row8_col0\" class=\"data row8 col0\" >1.374</td>\n",
       "      <td id=\"T_9b08a_row8_col1\" class=\"data row8 col1\" >1.000</td>\n",
       "    </tr>\n",
       "    <tr>\n",
       "      <th id=\"T_9b08a_level0_row9\" class=\"row_heading level0 row9\" >diabetes</th>\n",
       "      <td id=\"T_9b08a_row9_col0\" class=\"data row9 col0\" >1.013</td>\n",
       "      <td id=\"T_9b08a_row9_col1\" class=\"data row9 col1\" >1.000</td>\n",
       "    </tr>\n",
       "    <tr>\n",
       "      <th id=\"T_9b08a_level0_row10\" class=\"row_heading level0 row10\" >electricity</th>\n",
       "      <td id=\"T_9b08a_row10_col0\" class=\"data row10 col0\" >3.523</td>\n",
       "      <td id=\"T_9b08a_row10_col1\" class=\"data row10 col1\" >1.000</td>\n",
       "    </tr>\n",
       "    <tr>\n",
       "      <th id=\"T_9b08a_level0_row11\" class=\"row_heading level0 row11\" >energy</th>\n",
       "      <td id=\"T_9b08a_row11_col0\" class=\"data row11 col0\" >2.790</td>\n",
       "      <td id=\"T_9b08a_row11_col1\" class=\"data row11 col1\" >1.000</td>\n",
       "    </tr>\n",
       "    <tr>\n",
       "      <th id=\"T_9b08a_level0_row12\" class=\"row_heading level0 row12\" >ga_preprocessed</th>\n",
       "      <td id=\"T_9b08a_row12_col0\" class=\"data row12 col0\" >1.000</td>\n",
       "      <td id=\"T_9b08a_row12_col1\" class=\"data row12 col1\" >1.003</td>\n",
       "    </tr>\n",
       "    <tr>\n",
       "      <th id=\"T_9b08a_level0_row13\" class=\"row_heading level0 row13\" >housing</th>\n",
       "      <td id=\"T_9b08a_row13_col0\" class=\"data row13 col0\" >2.523</td>\n",
       "      <td id=\"T_9b08a_row13_col1\" class=\"data row13 col1\" >1.000</td>\n",
       "    </tr>\n",
       "    <tr>\n",
       "      <th id=\"T_9b08a_level0_row14\" class=\"row_heading level0 row14\" >ozone_preprocessed</th>\n",
       "      <td id=\"T_9b08a_row14_col0\" class=\"data row14 col0\" >1.021</td>\n",
       "      <td id=\"T_9b08a_row14_col1\" class=\"data row14 col1\" >1.000</td>\n",
       "    </tr>\n",
       "    <tr>\n",
       "      <th id=\"T_9b08a_level0_row15\" class=\"row_heading level0 row15\" >residential</th>\n",
       "      <td id=\"T_9b08a_row15_col0\" class=\"data row15 col0\" >1.102</td>\n",
       "      <td id=\"T_9b08a_row15_col1\" class=\"data row15 col1\" >1.000</td>\n",
       "    </tr>\n",
       "    <tr>\n",
       "      <th id=\"T_9b08a_level0_row16\" class=\"row_heading level0 row16\" >ribo_preprocessed</th>\n",
       "      <td id=\"T_9b08a_row16_col0\" class=\"data row16 col0\" >1.023</td>\n",
       "      <td id=\"T_9b08a_row16_col1\" class=\"data row16 col1\" >1.000</td>\n",
       "    </tr>\n",
       "    <tr>\n",
       "      <th id=\"T_9b08a_level0_row17\" class=\"row_heading level0 row17\" >skills</th>\n",
       "      <td id=\"T_9b08a_row17_col0\" class=\"data row17 col0\" >1.122</td>\n",
       "      <td id=\"T_9b08a_row17_col1\" class=\"data row17 col1\" >1.000</td>\n",
       "    </tr>\n",
       "    <tr>\n",
       "      <th id=\"T_9b08a_level0_row18\" class=\"row_heading level0 row18\" >wine</th>\n",
       "      <td id=\"T_9b08a_row18_col0\" class=\"data row18 col0\" >1.050</td>\n",
       "      <td id=\"T_9b08a_row18_col1\" class=\"data row18 col1\" >1.000</td>\n",
       "    </tr>\n",
       "  </tbody>\n",
       "</table>\n"
      ],
      "text/plain": [
       "<pandas.io.formats.style.Styler at 0x7fa93d177c10>"
      ]
     },
     "execution_count": 19,
     "metadata": {},
     "output_type": "execute_result"
    }
   ],
   "source": [
    "max_depth_results = pd.concat([pd.DataFrame(results[d]['pilot']).assign(dataset=d) for d in results]).groupby(['dataset', 'param_max_depth'])['mean_test_score'].mean().unstack()\n",
    "max_depth_results *= -1\n",
    "max_depth_results = max_depth_results.apply(lambda row: row / row.min(), axis=1)\n",
    "max_depth_results.style.apply(partial(highlight, kind='min'), axis=1).format('{:.3f}')"
   ]
  },
  {
   "attachments": {},
   "cell_type": "markdown",
   "metadata": {},
   "source": [
    "### Deep dive min samples split"
   ]
  },
  {
   "cell_type": "code",
   "execution_count": 20,
   "metadata": {},
   "outputs": [
    {
     "data": {
      "text/html": [
       "<style type=\"text/css\">\n",
       "#T_0a281_row0_col1, #T_0a281_row1_col0, #T_0a281_row2_col1, #T_0a281_row3_col0, #T_0a281_row4_col0, #T_0a281_row5_col1, #T_0a281_row6_col0, #T_0a281_row7_col0, #T_0a281_row8_col0, #T_0a281_row9_col1, #T_0a281_row10_col0, #T_0a281_row11_col0, #T_0a281_row12_col1, #T_0a281_row13_col1, #T_0a281_row14_col1, #T_0a281_row15_col0, #T_0a281_row16_col1, #T_0a281_row17_col0, #T_0a281_row18_col0 {\n",
       "  color: black;\n",
       "  background-color: lightgreen;\n",
       "}\n",
       "</style>\n",
       "<table id=\"T_0a281\">\n",
       "  <thead>\n",
       "    <tr>\n",
       "      <th class=\"index_name level0\" >param_min_sample_split</th>\n",
       "      <th id=\"T_0a281_level0_col0\" class=\"col_heading level0 col0\" >2</th>\n",
       "      <th id=\"T_0a281_level0_col1\" class=\"col_heading level0 col1\" >10</th>\n",
       "    </tr>\n",
       "    <tr>\n",
       "      <th class=\"index_name level0\" >dataset</th>\n",
       "      <th class=\"blank col0\" >&nbsp;</th>\n",
       "      <th class=\"blank col1\" >&nbsp;</th>\n",
       "    </tr>\n",
       "  </thead>\n",
       "  <tbody>\n",
       "    <tr>\n",
       "      <th id=\"T_0a281_level0_row0\" class=\"row_heading level0 row0\" >Bias_correction_ucl</th>\n",
       "      <td id=\"T_0a281_row0_col0\" class=\"data row0 col0\" >1.012</td>\n",
       "      <td id=\"T_0a281_row0_col1\" class=\"data row0 col1\" >1.000</td>\n",
       "    </tr>\n",
       "    <tr>\n",
       "      <th id=\"T_0a281_level0_row1\" class=\"row_heading level0 row1\" >SeoulBikeData</th>\n",
       "      <td id=\"T_0a281_row1_col0\" class=\"data row1 col0\" >1.000</td>\n",
       "      <td id=\"T_0a281_row1_col1\" class=\"data row1 col1\" >1.024</td>\n",
       "    </tr>\n",
       "    <tr>\n",
       "      <th id=\"T_0a281_level0_row2\" class=\"row_heading level0 row2\" >Walmart_preprocessed</th>\n",
       "      <td id=\"T_0a281_row2_col0\" class=\"data row2 col0\" >1.005</td>\n",
       "      <td id=\"T_0a281_row2_col1\" class=\"data row2 col1\" >1.000</td>\n",
       "    </tr>\n",
       "    <tr>\n",
       "      <th id=\"T_0a281_level0_row3\" class=\"row_heading level0 row3\" >abalone</th>\n",
       "      <td id=\"T_0a281_row3_col0\" class=\"data row3 col0\" >1.000</td>\n",
       "      <td id=\"T_0a281_row3_col1\" class=\"data row3 col1\" >1.001</td>\n",
       "    </tr>\n",
       "    <tr>\n",
       "      <th id=\"T_0a281_level0_row4\" class=\"row_heading level0 row4\" >airfoil</th>\n",
       "      <td id=\"T_0a281_row4_col0\" class=\"data row4 col0\" >1.000</td>\n",
       "      <td id=\"T_0a281_row4_col1\" class=\"data row4 col1\" >1.003</td>\n",
       "    </tr>\n",
       "    <tr>\n",
       "      <th id=\"T_0a281_level0_row5\" class=\"row_heading level0 row5\" >bodyfat_preprocessed</th>\n",
       "      <td id=\"T_0a281_row5_col0\" class=\"data row5 col0\" >1.008</td>\n",
       "      <td id=\"T_0a281_row5_col1\" class=\"data row5 col1\" >1.000</td>\n",
       "    </tr>\n",
       "    <tr>\n",
       "      <th id=\"T_0a281_level0_row6\" class=\"row_heading level0 row6\" >boston</th>\n",
       "      <td id=\"T_0a281_row6_col0\" class=\"data row6 col0\" >1.000</td>\n",
       "      <td id=\"T_0a281_row6_col1\" class=\"data row6 col1\" >1.003</td>\n",
       "    </tr>\n",
       "    <tr>\n",
       "      <th id=\"T_0a281_level0_row7\" class=\"row_heading level0 row7\" >communities</th>\n",
       "      <td id=\"T_0a281_row7_col0\" class=\"data row7 col0\" >1.000</td>\n",
       "      <td id=\"T_0a281_row7_col1\" class=\"data row7 col1\" >1.001</td>\n",
       "    </tr>\n",
       "    <tr>\n",
       "      <th id=\"T_0a281_level0_row8\" class=\"row_heading level0 row8\" >concrete</th>\n",
       "      <td id=\"T_0a281_row8_col0\" class=\"data row8 col0\" >1.000</td>\n",
       "      <td id=\"T_0a281_row8_col1\" class=\"data row8 col1\" >1.001</td>\n",
       "    </tr>\n",
       "    <tr>\n",
       "      <th id=\"T_0a281_level0_row9\" class=\"row_heading level0 row9\" >diabetes</th>\n",
       "      <td id=\"T_0a281_row9_col0\" class=\"data row9 col0\" >1.002</td>\n",
       "      <td id=\"T_0a281_row9_col1\" class=\"data row9 col1\" >1.000</td>\n",
       "    </tr>\n",
       "    <tr>\n",
       "      <th id=\"T_0a281_level0_row10\" class=\"row_heading level0 row10\" >electricity</th>\n",
       "      <td id=\"T_0a281_row10_col0\" class=\"data row10 col0\" >1.000</td>\n",
       "      <td id=\"T_0a281_row10_col1\" class=\"data row10 col1\" >1.007</td>\n",
       "    </tr>\n",
       "    <tr>\n",
       "      <th id=\"T_0a281_level0_row11\" class=\"row_heading level0 row11\" >energy</th>\n",
       "      <td id=\"T_0a281_row11_col0\" class=\"data row11 col0\" >1.000</td>\n",
       "      <td id=\"T_0a281_row11_col1\" class=\"data row11 col1\" >1.000</td>\n",
       "    </tr>\n",
       "    <tr>\n",
       "      <th id=\"T_0a281_level0_row12\" class=\"row_heading level0 row12\" >ga_preprocessed</th>\n",
       "      <td id=\"T_0a281_row12_col0\" class=\"data row12 col0\" >1.001</td>\n",
       "      <td id=\"T_0a281_row12_col1\" class=\"data row12 col1\" >1.000</td>\n",
       "    </tr>\n",
       "    <tr>\n",
       "      <th id=\"T_0a281_level0_row13\" class=\"row_heading level0 row13\" >housing</th>\n",
       "      <td id=\"T_0a281_row13_col0\" class=\"data row13 col0\" >1.002</td>\n",
       "      <td id=\"T_0a281_row13_col1\" class=\"data row13 col1\" >1.000</td>\n",
       "    </tr>\n",
       "    <tr>\n",
       "      <th id=\"T_0a281_level0_row14\" class=\"row_heading level0 row14\" >ozone_preprocessed</th>\n",
       "      <td id=\"T_0a281_row14_col0\" class=\"data row14 col0\" >1.001</td>\n",
       "      <td id=\"T_0a281_row14_col1\" class=\"data row14 col1\" >1.000</td>\n",
       "    </tr>\n",
       "    <tr>\n",
       "      <th id=\"T_0a281_level0_row15\" class=\"row_heading level0 row15\" >residential</th>\n",
       "      <td id=\"T_0a281_row15_col0\" class=\"data row15 col0\" >1.000</td>\n",
       "      <td id=\"T_0a281_row15_col1\" class=\"data row15 col1\" >1.083</td>\n",
       "    </tr>\n",
       "    <tr>\n",
       "      <th id=\"T_0a281_level0_row16\" class=\"row_heading level0 row16\" >ribo_preprocessed</th>\n",
       "      <td id=\"T_0a281_row16_col0\" class=\"data row16 col0\" >1.008</td>\n",
       "      <td id=\"T_0a281_row16_col1\" class=\"data row16 col1\" >1.000</td>\n",
       "    </tr>\n",
       "    <tr>\n",
       "      <th id=\"T_0a281_level0_row17\" class=\"row_heading level0 row17\" >skills</th>\n",
       "      <td id=\"T_0a281_row17_col0\" class=\"data row17 col0\" >1.000</td>\n",
       "      <td id=\"T_0a281_row17_col1\" class=\"data row17 col1\" >1.061</td>\n",
       "    </tr>\n",
       "    <tr>\n",
       "      <th id=\"T_0a281_level0_row18\" class=\"row_heading level0 row18\" >wine</th>\n",
       "      <td id=\"T_0a281_row18_col0\" class=\"data row18 col0\" >1.000</td>\n",
       "      <td id=\"T_0a281_row18_col1\" class=\"data row18 col1\" >1.001</td>\n",
       "    </tr>\n",
       "  </tbody>\n",
       "</table>\n"
      ],
      "text/plain": [
       "<pandas.io.formats.style.Styler at 0x7fa92b8c2680>"
      ]
     },
     "execution_count": 20,
     "metadata": {},
     "output_type": "execute_result"
    }
   ],
   "source": [
    "df = pd.concat([pd.DataFrame(results[d]['pilot']).assign(dataset=d) for d in results]).groupby(['dataset', 'param_min_sample_split'])['mean_test_score'].mean().unstack()\n",
    "df *= -1\n",
    "df = df.apply(lambda row: row / row.min(), axis=1)\n",
    "df.style.apply(partial(highlight, kind='min'), axis=1).format('{:.3f}')"
   ]
  },
  {
   "attachments": {},
   "cell_type": "markdown",
   "metadata": {},
   "source": [
    "### Deep dive max depth &  min samples split"
   ]
  },
  {
   "cell_type": "code",
   "execution_count": 17,
   "metadata": {},
   "outputs": [
    {
     "data": {
      "text/html": [
       "<style type=\"text/css\">\n",
       "#T_1dc3f_row0_col3, #T_1dc3f_row1_col3, #T_1dc3f_row2_col3, #T_1dc3f_row3_col2, #T_1dc3f_row4_col2, #T_1dc3f_row5_col3, #T_1dc3f_row6_col2, #T_1dc3f_row7_col2, #T_1dc3f_row8_col2, #T_1dc3f_row9_col3, #T_1dc3f_row10_col2, #T_1dc3f_row11_col3, #T_1dc3f_row12_col0, #T_1dc3f_row13_col3, #T_1dc3f_row14_col2, #T_1dc3f_row15_col2, #T_1dc3f_row16_col3, #T_1dc3f_row17_col2, #T_1dc3f_row18_col2 {\n",
       "  color: black;\n",
       "  background-color: lightgreen;\n",
       "}\n",
       "</style>\n",
       "<table id=\"T_1dc3f\">\n",
       "  <thead>\n",
       "    <tr>\n",
       "      <th class=\"index_name level0\" >param_max_depth</th>\n",
       "      <th id=\"T_1dc3f_level0_col0\" class=\"col_heading level0 col0\" colspan=\"2\">2</th>\n",
       "      <th id=\"T_1dc3f_level0_col2\" class=\"col_heading level0 col2\" colspan=\"2\">10</th>\n",
       "    </tr>\n",
       "    <tr>\n",
       "      <th class=\"index_name level1\" >param_min_sample_split</th>\n",
       "      <th id=\"T_1dc3f_level1_col0\" class=\"col_heading level1 col0\" >2</th>\n",
       "      <th id=\"T_1dc3f_level1_col1\" class=\"col_heading level1 col1\" >10</th>\n",
       "      <th id=\"T_1dc3f_level1_col2\" class=\"col_heading level1 col2\" >2</th>\n",
       "      <th id=\"T_1dc3f_level1_col3\" class=\"col_heading level1 col3\" >10</th>\n",
       "    </tr>\n",
       "    <tr>\n",
       "      <th class=\"index_name level0\" >dataset</th>\n",
       "      <th class=\"blank col0\" >&nbsp;</th>\n",
       "      <th class=\"blank col1\" >&nbsp;</th>\n",
       "      <th class=\"blank col2\" >&nbsp;</th>\n",
       "      <th class=\"blank col3\" >&nbsp;</th>\n",
       "    </tr>\n",
       "  </thead>\n",
       "  <tbody>\n",
       "    <tr>\n",
       "      <th id=\"T_1dc3f_level0_row0\" class=\"row_heading level0 row0\" >Bias_correction_ucl</th>\n",
       "      <td id=\"T_1dc3f_row0_col0\" class=\"data row0 col0\" >1.026</td>\n",
       "      <td id=\"T_1dc3f_row0_col1\" class=\"data row0 col1\" >1.019</td>\n",
       "      <td id=\"T_1dc3f_row0_col2\" class=\"data row0 col2\" >1.018</td>\n",
       "      <td id=\"T_1dc3f_row0_col3\" class=\"data row0 col3\" >1.000</td>\n",
       "    </tr>\n",
       "    <tr>\n",
       "      <th id=\"T_1dc3f_level0_row1\" class=\"row_heading level0 row1\" >SeoulBikeData</th>\n",
       "      <td id=\"T_1dc3f_row1_col0\" class=\"data row1 col0\" >2.397</td>\n",
       "      <td id=\"T_1dc3f_row1_col1\" class=\"data row1 col1\" >2.498</td>\n",
       "      <td id=\"T_1dc3f_row1_col2\" class=\"data row1 col2\" >1.020</td>\n",
       "      <td id=\"T_1dc3f_row1_col3\" class=\"data row1 col3\" >1.000</td>\n",
       "    </tr>\n",
       "    <tr>\n",
       "      <th id=\"T_1dc3f_level0_row2\" class=\"row_heading level0 row2\" >Walmart_preprocessed</th>\n",
       "      <td id=\"T_1dc3f_row2_col0\" class=\"data row2 col0\" >2.356</td>\n",
       "      <td id=\"T_1dc3f_row2_col1\" class=\"data row2 col1\" >2.347</td>\n",
       "      <td id=\"T_1dc3f_row2_col2\" class=\"data row2 col2\" >1.009</td>\n",
       "      <td id=\"T_1dc3f_row2_col3\" class=\"data row2 col3\" >1.000</td>\n",
       "    </tr>\n",
       "    <tr>\n",
       "      <th id=\"T_1dc3f_level0_row3\" class=\"row_heading level0 row3\" >abalone</th>\n",
       "      <td id=\"T_1dc3f_row3_col0\" class=\"data row3 col0\" >1.057</td>\n",
       "      <td id=\"T_1dc3f_row3_col1\" class=\"data row3 col1\" >1.056</td>\n",
       "      <td id=\"T_1dc3f_row3_col2\" class=\"data row3 col2\" >1.000</td>\n",
       "      <td id=\"T_1dc3f_row3_col3\" class=\"data row3 col3\" >1.003</td>\n",
       "    </tr>\n",
       "    <tr>\n",
       "      <th id=\"T_1dc3f_level0_row4\" class=\"row_heading level0 row4\" >airfoil</th>\n",
       "      <td id=\"T_1dc3f_row4_col0\" class=\"data row4 col0\" >1.653</td>\n",
       "      <td id=\"T_1dc3f_row4_col1\" class=\"data row4 col1\" >1.650</td>\n",
       "      <td id=\"T_1dc3f_row4_col2\" class=\"data row4 col2\" >1.000</td>\n",
       "      <td id=\"T_1dc3f_row4_col3\" class=\"data row4 col3\" >1.011</td>\n",
       "    </tr>\n",
       "    <tr>\n",
       "      <th id=\"T_1dc3f_level0_row5\" class=\"row_heading level0 row5\" >bodyfat_preprocessed</th>\n",
       "      <td id=\"T_1dc3f_row5_col0\" class=\"data row5 col0\" >1.029</td>\n",
       "      <td id=\"T_1dc3f_row5_col1\" class=\"data row5 col1\" >1.016</td>\n",
       "      <td id=\"T_1dc3f_row5_col2\" class=\"data row5 col2\" >1.002</td>\n",
       "      <td id=\"T_1dc3f_row5_col3\" class=\"data row5 col3\" >1.000</td>\n",
       "    </tr>\n",
       "    <tr>\n",
       "      <th id=\"T_1dc3f_level0_row6\" class=\"row_heading level0 row6\" >boston</th>\n",
       "      <td id=\"T_1dc3f_row6_col0\" class=\"data row6 col0\" >1.488</td>\n",
       "      <td id=\"T_1dc3f_row6_col1\" class=\"data row6 col1\" >1.493</td>\n",
       "      <td id=\"T_1dc3f_row6_col2\" class=\"data row6 col2\" >1.000</td>\n",
       "      <td id=\"T_1dc3f_row6_col3\" class=\"data row6 col3\" >1.002</td>\n",
       "    </tr>\n",
       "    <tr>\n",
       "      <th id=\"T_1dc3f_level0_row7\" class=\"row_heading level0 row7\" >communities</th>\n",
       "      <td id=\"T_1dc3f_row7_col0\" class=\"data row7 col0\" >1.069</td>\n",
       "      <td id=\"T_1dc3f_row7_col1\" class=\"data row7 col1\" >1.065</td>\n",
       "      <td id=\"T_1dc3f_row7_col2\" class=\"data row7 col2\" >1.000</td>\n",
       "      <td id=\"T_1dc3f_row7_col3\" class=\"data row7 col3\" >1.005</td>\n",
       "    </tr>\n",
       "    <tr>\n",
       "      <th id=\"T_1dc3f_level0_row8\" class=\"row_heading level0 row8\" >concrete</th>\n",
       "      <td id=\"T_1dc3f_row8_col0\" class=\"data row8 col0\" >1.416</td>\n",
       "      <td id=\"T_1dc3f_row8_col1\" class=\"data row8 col1\" >1.382</td>\n",
       "      <td id=\"T_1dc3f_row8_col2\" class=\"data row8 col2\" >1.000</td>\n",
       "      <td id=\"T_1dc3f_row8_col3\" class=\"data row8 col3\" >1.036</td>\n",
       "    </tr>\n",
       "    <tr>\n",
       "      <th id=\"T_1dc3f_level0_row9\" class=\"row_heading level0 row9\" >diabetes</th>\n",
       "      <td id=\"T_1dc3f_row9_col0\" class=\"data row9 col0\" >1.015</td>\n",
       "      <td id=\"T_1dc3f_row9_col1\" class=\"data row9 col1\" >1.014</td>\n",
       "      <td id=\"T_1dc3f_row9_col2\" class=\"data row9 col2\" >1.003</td>\n",
       "      <td id=\"T_1dc3f_row9_col3\" class=\"data row9 col3\" >1.000</td>\n",
       "    </tr>\n",
       "    <tr>\n",
       "      <th id=\"T_1dc3f_level0_row10\" class=\"row_heading level0 row10\" >electricity</th>\n",
       "      <td id=\"T_1dc3f_row10_col0\" class=\"data row10 col0\" >3.523</td>\n",
       "      <td id=\"T_1dc3f_row10_col1\" class=\"data row10 col1\" >3.547</td>\n",
       "      <td id=\"T_1dc3f_row10_col2\" class=\"data row10 col2\" >1.000</td>\n",
       "      <td id=\"T_1dc3f_row10_col3\" class=\"data row10 col3\" >1.007</td>\n",
       "    </tr>\n",
       "    <tr>\n",
       "      <th id=\"T_1dc3f_level0_row11\" class=\"row_heading level0 row11\" >energy</th>\n",
       "      <td id=\"T_1dc3f_row11_col0\" class=\"data row11 col0\" >2.821</td>\n",
       "      <td id=\"T_1dc3f_row11_col1\" class=\"data row11 col1\" >2.858</td>\n",
       "      <td id=\"T_1dc3f_row11_col2\" class=\"data row11 col2\" >1.036</td>\n",
       "      <td id=\"T_1dc3f_row11_col3\" class=\"data row11 col3\" >1.000</td>\n",
       "    </tr>\n",
       "    <tr>\n",
       "      <th id=\"T_1dc3f_level0_row12\" class=\"row_heading level0 row12\" >ga_preprocessed</th>\n",
       "      <td id=\"T_1dc3f_row12_col0\" class=\"data row12 col0\" >1.000</td>\n",
       "      <td id=\"T_1dc3f_row12_col1\" class=\"data row12 col1\" >1.000</td>\n",
       "      <td id=\"T_1dc3f_row12_col2\" class=\"data row12 col2\" >1.004</td>\n",
       "      <td id=\"T_1dc3f_row12_col3\" class=\"data row12 col3\" >1.001</td>\n",
       "    </tr>\n",
       "    <tr>\n",
       "      <th id=\"T_1dc3f_level0_row13\" class=\"row_heading level0 row13\" >housing</th>\n",
       "      <td id=\"T_1dc3f_row13_col0\" class=\"data row13 col0\" >2.533</td>\n",
       "      <td id=\"T_1dc3f_row13_col1\" class=\"data row13 col1\" >2.531</td>\n",
       "      <td id=\"T_1dc3f_row13_col2\" class=\"data row13 col2\" >1.007</td>\n",
       "      <td id=\"T_1dc3f_row13_col3\" class=\"data row13 col3\" >1.000</td>\n",
       "    </tr>\n",
       "    <tr>\n",
       "      <th id=\"T_1dc3f_level0_row14\" class=\"row_heading level0 row14\" >ozone_preprocessed</th>\n",
       "      <td id=\"T_1dc3f_row14_col0\" class=\"data row14 col0\" >1.044</td>\n",
       "      <td id=\"T_1dc3f_row14_col1\" class=\"data row14 col1\" >1.020</td>\n",
       "      <td id=\"T_1dc3f_row14_col2\" class=\"data row14 col2\" >1.000</td>\n",
       "      <td id=\"T_1dc3f_row14_col3\" class=\"data row14 col3\" >1.021</td>\n",
       "    </tr>\n",
       "    <tr>\n",
       "      <th id=\"T_1dc3f_level0_row15\" class=\"row_heading level0 row15\" >residential</th>\n",
       "      <td id=\"T_1dc3f_row15_col0\" class=\"data row15 col0\" >1.053</td>\n",
       "      <td id=\"T_1dc3f_row15_col1\" class=\"data row15 col1\" >1.189</td>\n",
       "      <td id=\"T_1dc3f_row15_col2\" class=\"data row15 col2\" >1.000</td>\n",
       "      <td id=\"T_1dc3f_row15_col3\" class=\"data row15 col3\" >1.035</td>\n",
       "    </tr>\n",
       "    <tr>\n",
       "      <th id=\"T_1dc3f_level0_row16\" class=\"row_heading level0 row16\" >ribo_preprocessed</th>\n",
       "      <td id=\"T_1dc3f_row16_col0\" class=\"data row16 col0\" >1.031</td>\n",
       "      <td id=\"T_1dc3f_row16_col1\" class=\"data row16 col1\" >1.015</td>\n",
       "      <td id=\"T_1dc3f_row16_col2\" class=\"data row16 col2\" >1.000</td>\n",
       "      <td id=\"T_1dc3f_row16_col3\" class=\"data row16 col3\" >1.000</td>\n",
       "    </tr>\n",
       "    <tr>\n",
       "      <th id=\"T_1dc3f_level0_row17\" class=\"row_heading level0 row17\" >skills</th>\n",
       "      <td id=\"T_1dc3f_row17_col0\" class=\"data row17 col0\" >1.120</td>\n",
       "      <td id=\"T_1dc3f_row17_col1\" class=\"data row17 col1\" >1.124</td>\n",
       "      <td id=\"T_1dc3f_row17_col2\" class=\"data row17 col2\" >1.000</td>\n",
       "      <td id=\"T_1dc3f_row17_col3\" class=\"data row17 col3\" >nan</td>\n",
       "    </tr>\n",
       "    <tr>\n",
       "      <th id=\"T_1dc3f_level0_row18\" class=\"row_heading level0 row18\" >wine</th>\n",
       "      <td id=\"T_1dc3f_row18_col0\" class=\"data row18 col0\" >1.051</td>\n",
       "      <td id=\"T_1dc3f_row18_col1\" class=\"data row18 col1\" >1.051</td>\n",
       "      <td id=\"T_1dc3f_row18_col2\" class=\"data row18 col2\" >1.000</td>\n",
       "      <td id=\"T_1dc3f_row18_col3\" class=\"data row18 col3\" >1.002</td>\n",
       "    </tr>\n",
       "  </tbody>\n",
       "</table>\n"
      ],
      "text/plain": [
       "<pandas.io.formats.style.Styler at 0x7fa93d0d7310>"
      ]
     },
     "execution_count": 17,
     "metadata": {},
     "output_type": "execute_result"
    }
   ],
   "source": [
    "df = pd.concat([pd.DataFrame(results[d]['pilot']).assign(dataset=d) for d in results]).groupby(['dataset', 'param_min_sample_split', 'param_max_depth'])['mean_test_score'].mean().unstack().unstack()\n",
    "df *= -1\n",
    "df = df.apply(lambda row: row / row.min(), axis=1)\n",
    "df.style.apply(partial(highlight, kind='min'), axis=1).format('{:.3f}')"
   ]
  },
  {
   "cell_type": "code",
   "execution_count": 43,
   "metadata": {},
   "outputs": [
    {
     "data": {
      "text/html": [
       "<div>\n",
       "<style scoped>\n",
       "    .dataframe tbody tr th:only-of-type {\n",
       "        vertical-align: middle;\n",
       "    }\n",
       "\n",
       "    .dataframe tbody tr th {\n",
       "        vertical-align: top;\n",
       "    }\n",
       "\n",
       "    .dataframe thead th {\n",
       "        text-align: right;\n",
       "    }\n",
       "</style>\n",
       "<table border=\"1\" class=\"dataframe\">\n",
       "  <thead>\n",
       "    <tr style=\"text-align: right;\">\n",
       "      <th></th>\n",
       "      <th>mean_fit_time</th>\n",
       "      <th>std_fit_time</th>\n",
       "      <th>mean_score_time</th>\n",
       "      <th>std_score_time</th>\n",
       "      <th>param_max_depth</th>\n",
       "      <th>param_min_sample_leaf</th>\n",
       "      <th>param_min_sample_split</th>\n",
       "      <th>param_n_estimators</th>\n",
       "      <th>param_n_features</th>\n",
       "      <th>param_truncation_factor</th>\n",
       "      <th>params</th>\n",
       "      <th>split0_test_score</th>\n",
       "      <th>split1_test_score</th>\n",
       "      <th>split2_test_score</th>\n",
       "      <th>split3_test_score</th>\n",
       "      <th>split4_test_score</th>\n",
       "      <th>mean_test_score</th>\n",
       "      <th>std_test_score</th>\n",
       "      <th>rank_test_score</th>\n",
       "    </tr>\n",
       "  </thead>\n",
       "  <tbody>\n",
       "    <tr>\n",
       "      <th>0</th>\n",
       "      <td>23.796281</td>\n",
       "      <td>2.020451</td>\n",
       "      <td>3.349500</td>\n",
       "      <td>0.400117</td>\n",
       "      <td>2</td>\n",
       "      <td>1</td>\n",
       "      <td>2</td>\n",
       "      <td>50</td>\n",
       "      <td>1.0</td>\n",
       "      <td>1.5</td>\n",
       "      <td>{'max_depth': 2, 'min_sample_leaf': 1, 'min_sa...</td>\n",
       "      <td>-10.939442</td>\n",
       "      <td>-2.952053</td>\n",
       "      <td>-5.577138</td>\n",
       "      <td>-3.632847</td>\n",
       "      <td>-3.987102</td>\n",
       "      <td>-5.417716</td>\n",
       "      <td>2.892293</td>\n",
       "      <td>3</td>\n",
       "    </tr>\n",
       "    <tr>\n",
       "      <th>1</th>\n",
       "      <td>23.323216</td>\n",
       "      <td>1.119977</td>\n",
       "      <td>3.201397</td>\n",
       "      <td>0.449936</td>\n",
       "      <td>2</td>\n",
       "      <td>1</td>\n",
       "      <td>10</td>\n",
       "      <td>50</td>\n",
       "      <td>1.0</td>\n",
       "      <td>1.5</td>\n",
       "      <td>{'max_depth': 2, 'min_sample_leaf': 1, 'min_sa...</td>\n",
       "      <td>-10.883988</td>\n",
       "      <td>-2.978976</td>\n",
       "      <td>-5.577490</td>\n",
       "      <td>-3.598518</td>\n",
       "      <td>-4.017543</td>\n",
       "      <td>-5.411303</td>\n",
       "      <td>2.867852</td>\n",
       "      <td>2</td>\n",
       "    </tr>\n",
       "    <tr>\n",
       "      <th>2</th>\n",
       "      <td>30.396328</td>\n",
       "      <td>3.130993</td>\n",
       "      <td>3.313691</td>\n",
       "      <td>1.698185</td>\n",
       "      <td>10</td>\n",
       "      <td>1</td>\n",
       "      <td>2</td>\n",
       "      <td>50</td>\n",
       "      <td>1.0</td>\n",
       "      <td>1.5</td>\n",
       "      <td>{'max_depth': 10, 'min_sample_leaf': 1, 'min_s...</td>\n",
       "      <td>-10.188859</td>\n",
       "      <td>-2.682452</td>\n",
       "      <td>NaN</td>\n",
       "      <td>-3.416042</td>\n",
       "      <td>-3.750725</td>\n",
       "      <td>NaN</td>\n",
       "      <td>NaN</td>\n",
       "      <td>4</td>\n",
       "    </tr>\n",
       "    <tr>\n",
       "      <th>3</th>\n",
       "      <td>30.004525</td>\n",
       "      <td>1.881924</td>\n",
       "      <td>3.321904</td>\n",
       "      <td>0.246008</td>\n",
       "      <td>10</td>\n",
       "      <td>1</td>\n",
       "      <td>10</td>\n",
       "      <td>50</td>\n",
       "      <td>1.0</td>\n",
       "      <td>1.5</td>\n",
       "      <td>{'max_depth': 10, 'min_sample_leaf': 1, 'min_s...</td>\n",
       "      <td>-10.105636</td>\n",
       "      <td>-2.691930</td>\n",
       "      <td>-5.310696</td>\n",
       "      <td>-3.411045</td>\n",
       "      <td>-3.682005</td>\n",
       "      <td>-5.040262</td>\n",
       "      <td>2.673762</td>\n",
       "      <td>1</td>\n",
       "    </tr>\n",
       "  </tbody>\n",
       "</table>\n",
       "</div>"
      ],
      "text/plain": [
       "   mean_fit_time  std_fit_time  mean_score_time  std_score_time  \\\n",
       "0      23.796281      2.020451         3.349500        0.400117   \n",
       "1      23.323216      1.119977         3.201397        0.449936   \n",
       "2      30.396328      3.130993         3.313691        1.698185   \n",
       "3      30.004525      1.881924         3.321904        0.246008   \n",
       "\n",
       "  param_max_depth param_min_sample_leaf param_min_sample_split  \\\n",
       "0               2                     1                      2   \n",
       "1               2                     1                     10   \n",
       "2              10                     1                      2   \n",
       "3              10                     1                     10   \n",
       "\n",
       "  param_n_estimators param_n_features param_truncation_factor  \\\n",
       "0                 50              1.0                     1.5   \n",
       "1                 50              1.0                     1.5   \n",
       "2                 50              1.0                     1.5   \n",
       "3                 50              1.0                     1.5   \n",
       "\n",
       "                                              params  split0_test_score  \\\n",
       "0  {'max_depth': 2, 'min_sample_leaf': 1, 'min_sa...         -10.939442   \n",
       "1  {'max_depth': 2, 'min_sample_leaf': 1, 'min_sa...         -10.883988   \n",
       "2  {'max_depth': 10, 'min_sample_leaf': 1, 'min_s...         -10.188859   \n",
       "3  {'max_depth': 10, 'min_sample_leaf': 1, 'min_s...         -10.105636   \n",
       "\n",
       "   split1_test_score  split2_test_score  split3_test_score  split4_test_score  \\\n",
       "0          -2.952053          -5.577138          -3.632847          -3.987102   \n",
       "1          -2.978976          -5.577490          -3.598518          -4.017543   \n",
       "2          -2.682452                NaN          -3.416042          -3.750725   \n",
       "3          -2.691930          -5.310696          -3.411045          -3.682005   \n",
       "\n",
       "   mean_test_score  std_test_score  rank_test_score  \n",
       "0        -5.417716        2.892293                3  \n",
       "1        -5.411303        2.867852                2  \n",
       "2              NaN             NaN                4  \n",
       "3        -5.040262        2.673762                1  "
      ]
     },
     "execution_count": 43,
     "metadata": {},
     "output_type": "execute_result"
    }
   ],
   "source": [
    "pd.DataFrame(results['abalone']['pilot'])"
   ]
  },
  {
   "attachments": {},
   "cell_type": "markdown",
   "metadata": {},
   "source": [
    "# Investigate bad performance"
   ]
  },
  {
   "attachments": {},
   "cell_type": "markdown",
   "metadata": {},
   "source": [
    "## Walmart"
   ]
  },
  {
   "cell_type": "code",
   "execution_count": 137,
   "metadata": {},
   "outputs": [
    {
     "data": {
      "text/html": [
       "<div>\n",
       "<style scoped>\n",
       "    .dataframe tbody tr th:only-of-type {\n",
       "        vertical-align: middle;\n",
       "    }\n",
       "\n",
       "    .dataframe tbody tr th {\n",
       "        vertical-align: top;\n",
       "    }\n",
       "\n",
       "    .dataframe thead th {\n",
       "        text-align: right;\n",
       "    }\n",
       "</style>\n",
       "<table border=\"1\" class=\"dataframe\">\n",
       "  <thead>\n",
       "    <tr style=\"text-align: right;\">\n",
       "      <th></th>\n",
       "      <th>Store</th>\n",
       "      <th>target</th>\n",
       "      <th>Holiday_Flag</th>\n",
       "      <th>Temperature</th>\n",
       "      <th>Fuel_Price</th>\n",
       "      <th>CPI</th>\n",
       "      <th>Unemployment</th>\n",
       "      <th>Day</th>\n",
       "      <th>Month</th>\n",
       "      <th>Year</th>\n",
       "    </tr>\n",
       "  </thead>\n",
       "  <tbody>\n",
       "    <tr>\n",
       "      <th>0</th>\n",
       "      <td>1</td>\n",
       "      <td>1643690.90</td>\n",
       "      <td>0</td>\n",
       "      <td>42.31</td>\n",
       "      <td>2.572</td>\n",
       "      <td>211.096358</td>\n",
       "      <td>8.106</td>\n",
       "      <td>4</td>\n",
       "      <td>2</td>\n",
       "      <td>1</td>\n",
       "    </tr>\n",
       "    <tr>\n",
       "      <th>1</th>\n",
       "      <td>1</td>\n",
       "      <td>1641957.44</td>\n",
       "      <td>1</td>\n",
       "      <td>38.51</td>\n",
       "      <td>2.548</td>\n",
       "      <td>211.242170</td>\n",
       "      <td>8.106</td>\n",
       "      <td>4</td>\n",
       "      <td>2</td>\n",
       "      <td>1</td>\n",
       "    </tr>\n",
       "    <tr>\n",
       "      <th>2</th>\n",
       "      <td>1</td>\n",
       "      <td>1611968.17</td>\n",
       "      <td>0</td>\n",
       "      <td>39.93</td>\n",
       "      <td>2.514</td>\n",
       "      <td>211.289143</td>\n",
       "      <td>8.106</td>\n",
       "      <td>4</td>\n",
       "      <td>2</td>\n",
       "      <td>1</td>\n",
       "    </tr>\n",
       "    <tr>\n",
       "      <th>3</th>\n",
       "      <td>1</td>\n",
       "      <td>1409727.59</td>\n",
       "      <td>0</td>\n",
       "      <td>46.63</td>\n",
       "      <td>2.561</td>\n",
       "      <td>211.319643</td>\n",
       "      <td>8.106</td>\n",
       "      <td>4</td>\n",
       "      <td>2</td>\n",
       "      <td>1</td>\n",
       "    </tr>\n",
       "    <tr>\n",
       "      <th>4</th>\n",
       "      <td>1</td>\n",
       "      <td>1554806.68</td>\n",
       "      <td>0</td>\n",
       "      <td>46.50</td>\n",
       "      <td>2.625</td>\n",
       "      <td>211.350143</td>\n",
       "      <td>8.106</td>\n",
       "      <td>4</td>\n",
       "      <td>3</td>\n",
       "      <td>1</td>\n",
       "    </tr>\n",
       "    <tr>\n",
       "      <th>...</th>\n",
       "      <td>...</td>\n",
       "      <td>...</td>\n",
       "      <td>...</td>\n",
       "      <td>...</td>\n",
       "      <td>...</td>\n",
       "      <td>...</td>\n",
       "      <td>...</td>\n",
       "      <td>...</td>\n",
       "      <td>...</td>\n",
       "      <td>...</td>\n",
       "    </tr>\n",
       "    <tr>\n",
       "      <th>6430</th>\n",
       "      <td>45</td>\n",
       "      <td>713173.95</td>\n",
       "      <td>0</td>\n",
       "      <td>64.88</td>\n",
       "      <td>3.997</td>\n",
       "      <td>192.013558</td>\n",
       "      <td>8.684</td>\n",
       "      <td>4</td>\n",
       "      <td>9</td>\n",
       "      <td>3</td>\n",
       "    </tr>\n",
       "    <tr>\n",
       "      <th>6431</th>\n",
       "      <td>45</td>\n",
       "      <td>733455.07</td>\n",
       "      <td>0</td>\n",
       "      <td>64.89</td>\n",
       "      <td>3.985</td>\n",
       "      <td>192.170412</td>\n",
       "      <td>8.667</td>\n",
       "      <td>4</td>\n",
       "      <td>10</td>\n",
       "      <td>3</td>\n",
       "    </tr>\n",
       "    <tr>\n",
       "      <th>6432</th>\n",
       "      <td>45</td>\n",
       "      <td>734464.36</td>\n",
       "      <td>0</td>\n",
       "      <td>54.47</td>\n",
       "      <td>4.000</td>\n",
       "      <td>192.327265</td>\n",
       "      <td>8.667</td>\n",
       "      <td>4</td>\n",
       "      <td>10</td>\n",
       "      <td>3</td>\n",
       "    </tr>\n",
       "    <tr>\n",
       "      <th>6433</th>\n",
       "      <td>45</td>\n",
       "      <td>718125.53</td>\n",
       "      <td>0</td>\n",
       "      <td>56.47</td>\n",
       "      <td>3.969</td>\n",
       "      <td>192.330854</td>\n",
       "      <td>8.667</td>\n",
       "      <td>4</td>\n",
       "      <td>10</td>\n",
       "      <td>3</td>\n",
       "    </tr>\n",
       "    <tr>\n",
       "      <th>6434</th>\n",
       "      <td>45</td>\n",
       "      <td>760281.43</td>\n",
       "      <td>0</td>\n",
       "      <td>58.85</td>\n",
       "      <td>3.882</td>\n",
       "      <td>192.308899</td>\n",
       "      <td>8.667</td>\n",
       "      <td>4</td>\n",
       "      <td>10</td>\n",
       "      <td>3</td>\n",
       "    </tr>\n",
       "  </tbody>\n",
       "</table>\n",
       "<p>6435 rows × 10 columns</p>\n",
       "</div>"
      ],
      "text/plain": [
       "      Store      target  Holiday_Flag  Temperature  Fuel_Price         CPI  \\\n",
       "0         1  1643690.90             0        42.31       2.572  211.096358   \n",
       "1         1  1641957.44             1        38.51       2.548  211.242170   \n",
       "2         1  1611968.17             0        39.93       2.514  211.289143   \n",
       "3         1  1409727.59             0        46.63       2.561  211.319643   \n",
       "4         1  1554806.68             0        46.50       2.625  211.350143   \n",
       "...     ...         ...           ...          ...         ...         ...   \n",
       "6430     45   713173.95             0        64.88       3.997  192.013558   \n",
       "6431     45   733455.07             0        64.89       3.985  192.170412   \n",
       "6432     45   734464.36             0        54.47       4.000  192.327265   \n",
       "6433     45   718125.53             0        56.47       3.969  192.330854   \n",
       "6434     45   760281.43             0        58.85       3.882  192.308899   \n",
       "\n",
       "      Unemployment  Day  Month  Year  \n",
       "0            8.106    4      2     1  \n",
       "1            8.106    4      2     1  \n",
       "2            8.106    4      2     1  \n",
       "3            8.106    4      2     1  \n",
       "4            8.106    4      3     1  \n",
       "...            ...  ...    ...   ...  \n",
       "6430         8.684    4      9     3  \n",
       "6431         8.667    4     10     3  \n",
       "6432         8.667    4     10     3  \n",
       "6433         8.667    4     10     3  \n",
       "6434         8.667    4     10     3  \n",
       "\n",
       "[6435 rows x 10 columns]"
      ]
     },
     "execution_count": 137,
     "metadata": {},
     "output_type": "execute_result"
    }
   ],
   "source": [
    "pd.read_csv(DATAPATH / 'Walmart_preprocessed.csv')"
   ]
  },
  {
   "cell_type": "code",
   "execution_count": 138,
   "metadata": {},
   "outputs": [
    {
     "data": {
      "text/plain": [
       "array([[  1.       ,   0.       ,  42.31     ,   2.572    , 211.0963582,\n",
       "          8.106    ,   4.       ,   2.       ,   1.       ],\n",
       "       [  1.       ,   1.       ,  38.51     ,   2.548    , 211.2421698,\n",
       "          8.106    ,   4.       ,   2.       ,   1.       ],\n",
       "       [  1.       ,   0.       ,  39.93     ,   2.514    , 211.2891429,\n",
       "          8.106    ,   4.       ,   2.       ,   1.       ],\n",
       "       [  1.       ,   0.       ,  46.63     ,   2.561    , 211.3196429,\n",
       "          8.106    ,   4.       ,   2.       ,   1.       ],\n",
       "       [  1.       ,   0.       ,  46.5      ,   2.625    , 211.3501429,\n",
       "          8.106    ,   4.       ,   3.       ,   1.       ]])"
      ]
     },
     "execution_count": 138,
     "metadata": {},
     "output_type": "execute_result"
    }
   ],
   "source": [
    "X[:5]"
   ]
  },
  {
   "cell_type": "code",
   "execution_count": 139,
   "metadata": {},
   "outputs": [
    {
     "name": "stdout",
     "output_type": "stream",
     "text": [
      "2.7791366601220706 1.0\n"
     ]
    }
   ],
   "source": [
    "X, y = datasets['Walmart_preprocessed']['data']\n",
    "categorical = datasets['Walmart_preprocessed']['categorical']\n",
    "p = Pilot.PILOT()\n",
    "d = DecisionTreeRegressor(max_depth=12, min_samples_split=10, min_samples_leaf=5)\n",
    "\n",
    "np.random.seed(101)\n",
    "scores = cross_val_score(p, X, y, fit_params={'categorical': np.array(categorical)}, scoring='neg_mean_squared_error')\n",
    "p_mse = -np.mean(scores)\n",
    "d_mse = -np.mean(cross_val_score(d, X, y, scoring='neg_mean_squared_error'))\n",
    "\n",
    "print(p_mse / min(p_mse, d_mse), d_mse / (min(p_mse, d_mse)))"
   ]
  },
  {
   "cell_type": "code",
   "execution_count": 144,
   "metadata": {},
   "outputs": [
    {
     "data": {
      "text/plain": [
       "['1.64e+10', '1.58e+10', '1.76e+10', '1.99e+10', '1.93e+10']"
      ]
     },
     "execution_count": 144,
     "metadata": {},
     "output_type": "execute_result"
    }
   ],
   "source": [
    "cv = KFold(5, shuffle=True)\n",
    "scores = []\n",
    "for train_idx, test_idx in cv.split(X):\n",
    "    p = Pilot.PILOT()\n",
    "    p.fit(X[train_idx, :], y[train_idx], categorical=np.array(categorical))\n",
    "    scores.append(mean_squared_error(y[test_idx], p.predict(X[test_idx])))\n",
    "\n",
    "[f'{m:.2e}' for m in scores]\n",
    "    "
   ]
  },
  {
   "cell_type": "code",
   "execution_count": 9,
   "metadata": {},
   "outputs": [
    {
     "name": "stdout",
     "output_type": "stream",
     "text": [
      "(6435, 9) (6435, 53)\n",
      "2.788660598687874 1.013677496545187 1.0 1.0136774965451865\n"
     ]
    }
   ],
   "source": [
    "X_enc = OneHotEncoder().fit_transform(X[:, [0]]).toarray()\n",
    "X_enc = np.hstack([X_enc, X[:, 1:]])\n",
    "print(X.shape, X_enc.shape)\n",
    "\n",
    "p2_mse = -np.mean(cross_val_score(d, X_enc, y, scoring='neg_mean_squared_error'))\n",
    "d2_mse = -np.mean(cross_val_score(d, X_enc, y, scoring='neg_mean_squared_error'))\n",
    "print(p_mse / min(p_mse, d_mse, d2_mse, p2_mse), p2_mse / min(p_mse, d_mse, d2_mse, p2_mse), d_mse / min(p_mse, d_mse, d2_mse, p2_mse), d2_mse / (min(p_mse, d_mse, d2_mse, p2_mse)))"
   ]
  },
  {
   "cell_type": "code",
   "execution_count": 10,
   "metadata": {},
   "outputs": [
    {
     "data": {
      "text/plain": [
       "'1.42e+12, 5.15e+11, 5.15e+11'"
      ]
     },
     "execution_count": 10,
     "metadata": {},
     "output_type": "execute_result"
    }
   ],
   "source": [
    "f'{p_mse:.2e}, {p2_mse:.2e}, {d2_mse:.2e}'"
   ]
  },
  {
   "attachments": {},
   "cell_type": "markdown",
   "metadata": {},
   "source": [
    "## Electricity"
   ]
  },
  {
   "cell_type": "code",
   "execution_count": 4,
   "metadata": {},
   "outputs": [
    {
     "name": "stdout",
     "output_type": "stream",
     "text": [
      "1.0 1.8729348495313307\n"
     ]
    }
   ],
   "source": [
    "dname = 'electricity'\n",
    "X, y = datasets[dname]['data']\n",
    "categorical = datasets[dname]['categorical']\n",
    "p = Pilot.PILOT()\n",
    "d = DecisionTreeRegressor(max_depth=12, min_samples_split=10, min_samples_leaf=5)\n",
    "\n",
    "p_mse = -np.mean(cross_val_score(p, X, y, fit_params={'categorical': np.array(categorical)}, scoring='neg_mean_squared_error'))\n",
    "d_mse = -np.mean(cross_val_score(d, X, y, scoring='neg_mean_squared_error'))\n",
    "\n",
    "print(p_mse / min(p_mse, d_mse), d_mse / (min(p_mse, d_mse)))"
   ]
  },
  {
   "cell_type": "code",
   "execution_count": 17,
   "metadata": {},
   "outputs": [
    {
     "data": {
      "text/plain": [
       "(array([-0.00049177, -0.00048808,         nan,         nan]),\n",
       " array([-0.0009364 , -0.00092756, -0.00016658, -0.00016975]))"
      ]
     },
     "execution_count": 17,
     "metadata": {},
     "output_type": "execute_result"
    }
   ],
   "source": [
    "results['electricity']['pilot']['mean_test_score'], results['electricity']['rf']['mean_test_score']"
   ]
  },
  {
   "cell_type": "code",
   "execution_count": null,
   "metadata": {},
   "outputs": [],
   "source": [
    "prf = ensemble.RandomForestPilot(n_estimators=50, max_depth=10, min_sample_split=2, truncation_factor=1.5)\n",
    "results = cross_validate(prf, X, y, scoring='neg_mean_squared_error', n_jobs=-1, fit_params={'categorical_idx': np.array(categorical)}, return_estimator=True)\n"
   ]
  },
  {
   "cell_type": "code",
   "execution_count": 9,
   "metadata": {},
   "outputs": [
    {
     "data": {
      "text/plain": [
       "{'con': 2, 'lin': 4, 'blin': 5, 'pcon': 1, 'plin': 0}"
      ]
     },
     "execution_count": 9,
     "metadata": {},
     "output_type": "execute_result"
    }
   ],
   "source": [
    "p = Pilot.PILOT(max_depth=10, min_sample_split=2, truncation_factor=1.5, rel_tolerance=0.01)\n",
    "bootstrap_idx = np.random.choice(np.arange(len(X)), size=len(X), replace=True)\n",
    "p.fit(X[bootstrap_idx, :], y[bootstrap_idx], categorical=np.array(categorical))\n",
    "\n",
    "p.model_tree.nodes_selected()"
   ]
  },
  {
   "attachments": {},
   "cell_type": "markdown",
   "metadata": {},
   "source": [
    "## Boston"
   ]
  },
  {
   "cell_type": "code",
   "execution_count": 14,
   "metadata": {},
   "outputs": [
    {
     "name": "stdout",
     "output_type": "stream",
     "text": [
      "1.0 1.1748315721418028\n"
     ]
    }
   ],
   "source": [
    "dname = 'boston'\n",
    "X, y = datasets[dname]['data']\n",
    "categorical = datasets[dname]['categorical']\n",
    "p = Pilot.PILOT()\n",
    "d = DecisionTreeRegressor(max_depth=12, min_samples_split=10, min_samples_leaf=5)\n",
    "\n",
    "p_mse = -np.mean(cross_val_score(p, X, y, fit_params={'categorical': np.array(categorical)}, scoring='neg_mean_squared_error'))\n",
    "d_mse = -np.mean(cross_val_score(d, X, y, scoring='neg_mean_squared_error'))\n",
    "\n",
    "print(p_mse / min(p_mse, d_mse), d_mse / (min(p_mse, d_mse)))"
   ]
  },
  {
   "cell_type": "code",
   "execution_count": 37,
   "metadata": {},
   "outputs": [
    {
     "name": "stdout",
     "output_type": "stream",
     "text": [
      "7 blin {'con': 0, 'lin': 0, 'blin': 1, 'pcon': 0, 'plin': 0} {'lin': 2963, 'blin': 10, 'pcon': 1, 'plin': 3, 'pconc': 1}\n"
     ]
    },
    {
     "ename": "Exception",
     "evalue": "",
     "output_type": "error",
     "traceback": [
      "\u001b[0;31m---------------------------------------------------------------------------\u001b[0m",
      "\u001b[0;31mRecursionError\u001b[0m                            Traceback (most recent call last)",
      "File \u001b[0;32m~/PILOT/pilot/Pilot.py:721\u001b[0m, in \u001b[0;36mPILOT.build_tree\u001b[0;34m(self, tree_depth, indices, rss)\u001b[0m\n\u001b[1;32m    720\u001b[0m \u001b[39mself\u001b[39m\u001b[39m.\u001b[39mrecursion_counter[best_node] \u001b[39m+\u001b[39m\u001b[39m=\u001b[39m \u001b[39m1\u001b[39m\n\u001b[0;32m--> 721\u001b[0m node\u001b[39m.\u001b[39mleft \u001b[39m=\u001b[39m \u001b[39mself\u001b[39;49m\u001b[39m.\u001b[39;49mbuild_tree(\n\u001b[1;32m    722\u001b[0m     tree_depth,\n\u001b[1;32m    723\u001b[0m     indices_left,\n\u001b[1;32m    724\u001b[0m     np\u001b[39m.\u001b[39;49mmaximum(\n\u001b[1;32m    725\u001b[0m         \u001b[39m0\u001b[39;49m,\n\u001b[1;32m    726\u001b[0m         np\u001b[39m.\u001b[39;49msum((\u001b[39mself\u001b[39;49m\u001b[39m.\u001b[39;49my[indices_left] \u001b[39m-\u001b[39;49m np\u001b[39m.\u001b[39;49mmean(\u001b[39mself\u001b[39;49m\u001b[39m.\u001b[39;49my[indices_left])) \u001b[39m*\u001b[39;49m\u001b[39m*\u001b[39;49m \u001b[39m2\u001b[39;49m),\n\u001b[1;32m    727\u001b[0m     ),\n\u001b[1;32m    728\u001b[0m )\n\u001b[1;32m    730\u001b[0m node\u001b[39m.\u001b[39mright \u001b[39m=\u001b[39m \u001b[39mself\u001b[39m\u001b[39m.\u001b[39mbuild_tree(\n\u001b[1;32m    731\u001b[0m     tree_depth,\n\u001b[1;32m    732\u001b[0m     indices_right,\n\u001b[0;32m   (...)\u001b[0m\n\u001b[1;32m    736\u001b[0m     ),\n\u001b[1;32m    737\u001b[0m )\n",
      "File \u001b[0;32m~/PILOT/pilot/Pilot.py:680\u001b[0m, in \u001b[0;36mPILOT.build_tree\u001b[0;34m(self, tree_depth, indices, rss)\u001b[0m\n\u001b[1;32m    679\u001b[0m         \u001b[39m# recursion\u001b[39;00m\n\u001b[0;32m--> 680\u001b[0m         node\u001b[39m.\u001b[39mleft \u001b[39m=\u001b[39m \u001b[39mself\u001b[39;49m\u001b[39m.\u001b[39;49mbuild_tree(\n\u001b[1;32m    681\u001b[0m             tree_depth,\n\u001b[1;32m    682\u001b[0m             indices,\n\u001b[1;32m    683\u001b[0m             np\u001b[39m.\u001b[39;49mmaximum(\u001b[39m0\u001b[39;49m, np\u001b[39m.\u001b[39;49msum((\u001b[39mself\u001b[39;49m\u001b[39m.\u001b[39;49my[indices] \u001b[39m-\u001b[39;49m np\u001b[39m.\u001b[39;49mmean(\u001b[39mself\u001b[39;49m\u001b[39m.\u001b[39;49my[indices])) \u001b[39m*\u001b[39;49m\u001b[39m*\u001b[39;49m \u001b[39m2\u001b[39;49m)),\n\u001b[1;32m    684\u001b[0m         )\n\u001b[1;32m    686\u001b[0m \u001b[39melif\u001b[39;00m best_node \u001b[39m==\u001b[39m \u001b[39m\"\u001b[39m\u001b[39mcon\u001b[39m\u001b[39m\"\u001b[39m:\n",
      "File \u001b[0;32m~/PILOT/pilot/Pilot.py:680\u001b[0m, in \u001b[0;36mPILOT.build_tree\u001b[0;34m(self, tree_depth, indices, rss)\u001b[0m\n\u001b[1;32m    679\u001b[0m         \u001b[39m# recursion\u001b[39;00m\n\u001b[0;32m--> 680\u001b[0m         node\u001b[39m.\u001b[39mleft \u001b[39m=\u001b[39m \u001b[39mself\u001b[39;49m\u001b[39m.\u001b[39;49mbuild_tree(\n\u001b[1;32m    681\u001b[0m             tree_depth,\n\u001b[1;32m    682\u001b[0m             indices,\n\u001b[1;32m    683\u001b[0m             np\u001b[39m.\u001b[39;49mmaximum(\u001b[39m0\u001b[39;49m, np\u001b[39m.\u001b[39;49msum((\u001b[39mself\u001b[39;49m\u001b[39m.\u001b[39;49my[indices] \u001b[39m-\u001b[39;49m np\u001b[39m.\u001b[39;49mmean(\u001b[39mself\u001b[39;49m\u001b[39m.\u001b[39;49my[indices])) \u001b[39m*\u001b[39;49m\u001b[39m*\u001b[39;49m \u001b[39m2\u001b[39;49m)),\n\u001b[1;32m    684\u001b[0m         )\n\u001b[1;32m    686\u001b[0m \u001b[39melif\u001b[39;00m best_node \u001b[39m==\u001b[39m \u001b[39m\"\u001b[39m\u001b[39mcon\u001b[39m\u001b[39m\"\u001b[39m:\n",
      "    \u001b[0;31m[... skipping similar frames: PILOT.build_tree at line 680 (2943 times)]\u001b[0m\n",
      "File \u001b[0;32m~/PILOT/pilot/Pilot.py:680\u001b[0m, in \u001b[0;36mPILOT.build_tree\u001b[0;34m(self, tree_depth, indices, rss)\u001b[0m\n\u001b[1;32m    679\u001b[0m         \u001b[39m# recursion\u001b[39;00m\n\u001b[0;32m--> 680\u001b[0m         node\u001b[39m.\u001b[39mleft \u001b[39m=\u001b[39m \u001b[39mself\u001b[39;49m\u001b[39m.\u001b[39;49mbuild_tree(\n\u001b[1;32m    681\u001b[0m             tree_depth,\n\u001b[1;32m    682\u001b[0m             indices,\n\u001b[1;32m    683\u001b[0m             np\u001b[39m.\u001b[39;49mmaximum(\u001b[39m0\u001b[39;49m, np\u001b[39m.\u001b[39;49msum((\u001b[39mself\u001b[39;49m\u001b[39m.\u001b[39;49my[indices] \u001b[39m-\u001b[39;49m np\u001b[39m.\u001b[39;49mmean(\u001b[39mself\u001b[39;49m\u001b[39m.\u001b[39;49my[indices])) \u001b[39m*\u001b[39;49m\u001b[39m*\u001b[39;49m \u001b[39m2\u001b[39;49m)),\n\u001b[1;32m    684\u001b[0m         )\n\u001b[1;32m    686\u001b[0m \u001b[39melif\u001b[39;00m best_node \u001b[39m==\u001b[39m \u001b[39m\"\u001b[39m\u001b[39mcon\u001b[39m\u001b[39m\"\u001b[39m:\n",
      "File \u001b[0;32m~/PILOT/pilot/Pilot.py:624\u001b[0m, in \u001b[0;36mPILOT.build_tree\u001b[0;34m(self, tree_depth, indices, rss)\u001b[0m\n\u001b[1;32m    623\u001b[0m \u001b[39m# fit models on the node\u001b[39;00m\n\u001b[0;32m--> 624\u001b[0m best_feature, best_pivot, best_node, lm_l, lm_r, interval, pivot_c \u001b[39m=\u001b[39m best_split(\n\u001b[1;32m    625\u001b[0m     indices,\n\u001b[1;32m    626\u001b[0m     \u001b[39mself\u001b[39;49m\u001b[39m.\u001b[39;49mregression_nodes,\n\u001b[1;32m    627\u001b[0m     \u001b[39mself\u001b[39;49m\u001b[39m.\u001b[39;49mn_features,\n\u001b[1;32m    628\u001b[0m     \u001b[39mself\u001b[39;49m\u001b[39m.\u001b[39;49msorted_X_indices,\n\u001b[1;32m    629\u001b[0m     \u001b[39mself\u001b[39;49m\u001b[39m.\u001b[39;49mX,\n\u001b[1;32m    630\u001b[0m     \u001b[39mself\u001b[39;49m\u001b[39m.\u001b[39;49my,\n\u001b[1;32m    631\u001b[0m     \u001b[39mself\u001b[39;49m\u001b[39m.\u001b[39;49msplit_criterion,\n\u001b[1;32m    632\u001b[0m     \u001b[39mself\u001b[39;49m\u001b[39m.\u001b[39;49mmin_sample_leaf,\n\u001b[1;32m    633\u001b[0m     \u001b[39mself\u001b[39;49m\u001b[39m.\u001b[39;49mk,\n\u001b[1;32m    634\u001b[0m     \u001b[39mself\u001b[39;49m\u001b[39m.\u001b[39;49mcategorical,\n\u001b[1;32m    635\u001b[0m     \u001b[39mself\u001b[39;49m\u001b[39m.\u001b[39;49mmax_features_considered,\n\u001b[1;32m    636\u001b[0m )  \u001b[39m# find the best split\u001b[39;00m\n\u001b[1;32m    637\u001b[0m \u001b[39m# stop fitting the tree\u001b[39;00m\n",
      "File \u001b[0;32m~/miniconda3/envs/pilot/lib/python3.10/site-packages/numba/core/dispatcher.py:733\u001b[0m, in \u001b[0;36m_DispatcherBase.typeof_pyval\u001b[0;34m(self, val)\u001b[0m\n\u001b[1;32m    732\u001b[0m \u001b[39mtry\u001b[39;00m:\n\u001b[0;32m--> 733\u001b[0m     tp \u001b[39m=\u001b[39m typeof(val, Purpose\u001b[39m.\u001b[39;49margument)\n\u001b[1;32m    734\u001b[0m \u001b[39mexcept\u001b[39;00m \u001b[39mValueError\u001b[39;00m:\n",
      "File \u001b[0;32m~/miniconda3/envs/pilot/lib/python3.10/site-packages/numba/core/typing/typeof.py:38\u001b[0m, in \u001b[0;36mtypeof\u001b[0;34m(val, purpose)\u001b[0m\n\u001b[1;32m     37\u001b[0m c \u001b[39m=\u001b[39m _TypeofContext(purpose)\n\u001b[0;32m---> 38\u001b[0m ty \u001b[39m=\u001b[39m typeof_impl(val, c)\n\u001b[1;32m     39\u001b[0m \u001b[39mif\u001b[39;00m ty \u001b[39mis\u001b[39;00m \u001b[39mNone\u001b[39;00m:\n",
      "File \u001b[0;32m~/miniconda3/envs/pilot/lib/python3.10/functools.py:889\u001b[0m, in \u001b[0;36msingledispatch.<locals>.wrapper\u001b[0;34m(*args, **kw)\u001b[0m\n\u001b[1;32m    886\u001b[0m     \u001b[39mraise\u001b[39;00m \u001b[39mTypeError\u001b[39;00m(\u001b[39mf\u001b[39m\u001b[39m'\u001b[39m\u001b[39m{\u001b[39;00mfuncname\u001b[39m}\u001b[39;00m\u001b[39m requires at least \u001b[39m\u001b[39m'\u001b[39m\n\u001b[1;32m    887\u001b[0m                     \u001b[39m'\u001b[39m\u001b[39m1 positional argument\u001b[39m\u001b[39m'\u001b[39m)\n\u001b[0;32m--> 889\u001b[0m \u001b[39mreturn\u001b[39;00m dispatch(args[\u001b[39m0\u001b[39;49m]\u001b[39m.\u001b[39;49m\u001b[39m__class__\u001b[39;49m)(\u001b[39m*\u001b[39;49margs, \u001b[39m*\u001b[39;49m\u001b[39m*\u001b[39;49mkw)\n",
      "File \u001b[0;32m~/miniconda3/envs/pilot/lib/python3.10/site-packages/numba/core/typing/typeof.py:190\u001b[0m, in \u001b[0;36m_typeof_list\u001b[0;34m(val, c)\u001b[0m\n\u001b[1;32m    188\u001b[0m     \u001b[39mraise\u001b[39;00m \u001b[39mValueError\u001b[39;00m(\n\u001b[1;32m    189\u001b[0m         \u001b[39mf\u001b[39m\u001b[39m\"\u001b[39m\u001b[39mCannot type list element type \u001b[39m\u001b[39m{\u001b[39;00m\u001b[39mtype\u001b[39m(val[\u001b[39m0\u001b[39m])\u001b[39m}\u001b[39;00m\u001b[39m\"\u001b[39m)\n\u001b[0;32m--> 190\u001b[0m \u001b[39mreturn\u001b[39;00m types\u001b[39m.\u001b[39;49mList(ty, reflected\u001b[39m=\u001b[39;49m\u001b[39mTrue\u001b[39;49;00m)\n",
      "File \u001b[0;32m~/miniconda3/envs/pilot/lib/python3.10/site-packages/numba/core/types/abstract.py:67\u001b[0m, in \u001b[0;36m_TypeMetaclass.__call__\u001b[0;34m(cls, *args, **kwargs)\u001b[0m\n\u001b[1;32m     66\u001b[0m inst \u001b[39m=\u001b[39m \u001b[39mtype\u001b[39m\u001b[39m.\u001b[39m\u001b[39m__call__\u001b[39m(\u001b[39mcls\u001b[39m, \u001b[39m*\u001b[39margs, \u001b[39m*\u001b[39m\u001b[39m*\u001b[39mkwargs)\n\u001b[0;32m---> 67\u001b[0m \u001b[39mreturn\u001b[39;00m \u001b[39mcls\u001b[39;49m\u001b[39m.\u001b[39;49m_intern(inst)\n",
      "File \u001b[0;32m~/miniconda3/envs/pilot/lib/python3.10/site-packages/numba/core/types/abstract.py:51\u001b[0m, in \u001b[0;36m_TypeMetaclass._intern\u001b[0;34m(cls, inst)\u001b[0m\n\u001b[1;32m     50\u001b[0m wr \u001b[39m=\u001b[39m weakref\u001b[39m.\u001b[39mref(inst, _on_type_disposal)\n\u001b[0;32m---> 51\u001b[0m orig \u001b[39m=\u001b[39m _typecache\u001b[39m.\u001b[39;49mget(wr)\n\u001b[1;32m     52\u001b[0m orig \u001b[39m=\u001b[39m orig \u001b[39mand\u001b[39;00m orig()\n",
      "File \u001b[0;32m~/miniconda3/envs/pilot/lib/python3.10/site-packages/numba/core/types/abstract.py:121\u001b[0m, in \u001b[0;36mType.__eq__\u001b[0;34m(self, other)\u001b[0m\n\u001b[1;32m    120\u001b[0m \u001b[39mdef\u001b[39;00m \u001b[39m__eq__\u001b[39m(\u001b[39mself\u001b[39m, other):\n\u001b[0;32m--> 121\u001b[0m     \u001b[39mreturn\u001b[39;00m \u001b[39mself\u001b[39m\u001b[39m.\u001b[39m\u001b[39m__class__\u001b[39m \u001b[39mis\u001b[39;00m other\u001b[39m.\u001b[39m\u001b[39m__class__\u001b[39m \u001b[39mand\u001b[39;00m \u001b[39mself\u001b[39;49m\u001b[39m.\u001b[39;49mkey \u001b[39m==\u001b[39m other\u001b[39m.\u001b[39mkey\n",
      "File \u001b[0;32m~/miniconda3/envs/pilot/lib/python3.10/site-packages/numba/core/types/containers.py:451\u001b[0m, in \u001b[0;36mList.key\u001b[0;34m(self)\u001b[0m\n\u001b[1;32m    449\u001b[0m \u001b[39m@property\u001b[39m\n\u001b[1;32m    450\u001b[0m \u001b[39mdef\u001b[39;00m \u001b[39mkey\u001b[39m(\u001b[39mself\u001b[39m):\n\u001b[0;32m--> 451\u001b[0m     \u001b[39mreturn\u001b[39;00m \u001b[39mself\u001b[39m\u001b[39m.\u001b[39mdtype, \u001b[39mself\u001b[39m\u001b[39m.\u001b[39mreflected, \u001b[39mstr\u001b[39;49m(\u001b[39mself\u001b[39;49m\u001b[39m.\u001b[39;49minitial_value)\n",
      "\u001b[0;31mRecursionError\u001b[0m: maximum recursion depth exceeded while getting the str of an object",
      "\nThe above exception was the direct cause of the following exception:\n",
      "\u001b[0;31mException\u001b[0m                                 Traceback (most recent call last)",
      "Cell \u001b[0;32mIn[37], line 4\u001b[0m\n\u001b[1;32m      2\u001b[0m p \u001b[39m=\u001b[39m Pilot\u001b[39m.\u001b[39mPILOT(max_depth\u001b[39m=\u001b[39m\u001b[39m10\u001b[39m, min_sample_split\u001b[39m=\u001b[39m\u001b[39m2\u001b[39m, truncation_factor\u001b[39m=\u001b[39m\u001b[39m1.5\u001b[39m, rel_tolerance\u001b[39m=\u001b[39m\u001b[39m0.00\u001b[39m)\n\u001b[1;32m      3\u001b[0m bootstrap_idx \u001b[39m=\u001b[39m np\u001b[39m.\u001b[39mrandom\u001b[39m.\u001b[39mchoice(np\u001b[39m.\u001b[39marange(\u001b[39mlen\u001b[39m(X)), size\u001b[39m=\u001b[39m\u001b[39mlen\u001b[39m(X), replace\u001b[39m=\u001b[39m\u001b[39mTrue\u001b[39;00m)\n\u001b[0;32m----> 4\u001b[0m p\u001b[39m.\u001b[39;49mfit(X[bootstrap_idx, :], y[bootstrap_idx], categorical\u001b[39m=\u001b[39;49mnp\u001b[39m.\u001b[39;49marray(categorical))\n",
      "File \u001b[0;32m~/PILOT/pilot/Pilot.py:820\u001b[0m, in \u001b[0;36mPILOT.fit\u001b[0;34m(self, X, y, categorical, max_features_considered, **kwargs)\u001b[0m\n\u001b[1;32m    817\u001b[0m \u001b[39mself\u001b[39m\u001b[39m.\u001b[39mB2 \u001b[39m=\u001b[39m y\u001b[39m.\u001b[39mmin() \u001b[39m-\u001b[39m padding  \u001b[39m# compute the lower bound for the second truncation\u001b[39;00m\n\u001b[1;32m    819\u001b[0m \u001b[39m# build the tree, only need to take in the indices for X\u001b[39;00m\n\u001b[0;32m--> 820\u001b[0m \u001b[39mself\u001b[39m\u001b[39m.\u001b[39mmodel_tree \u001b[39m=\u001b[39m \u001b[39mself\u001b[39;49m\u001b[39m.\u001b[39;49mbuild_tree(\u001b[39m-\u001b[39;49m\u001b[39m1\u001b[39;49m, \u001b[39mself\u001b[39;49m\u001b[39m.\u001b[39;49msorted_X_indices[\u001b[39m0\u001b[39;49m], np\u001b[39m.\u001b[39;49msum((y \u001b[39m-\u001b[39;49m y\u001b[39m.\u001b[39;49mmean()) \u001b[39m*\u001b[39;49m\u001b[39m*\u001b[39;49m \u001b[39m2\u001b[39;49m))\n\u001b[1;32m    822\u001b[0m \u001b[39m# if the first node is 'con'\u001b[39;00m\n\u001b[1;32m    823\u001b[0m \u001b[39mif\u001b[39;00m \u001b[39mself\u001b[39m\u001b[39m.\u001b[39mmodel_tree\u001b[39m.\u001b[39mnode \u001b[39m==\u001b[39m \u001b[39m\"\u001b[39m\u001b[39mEND\u001b[39m\u001b[39m\"\u001b[39m:\n",
      "File \u001b[0;32m~/PILOT/pilot/Pilot.py:730\u001b[0m, in \u001b[0;36mPILOT.build_tree\u001b[0;34m(self, tree_depth, indices, rss)\u001b[0m\n\u001b[1;32m    720\u001b[0m     \u001b[39mself\u001b[39m\u001b[39m.\u001b[39mrecursion_counter[best_node] \u001b[39m+\u001b[39m\u001b[39m=\u001b[39m \u001b[39m1\u001b[39m\n\u001b[1;32m    721\u001b[0m     node\u001b[39m.\u001b[39mleft \u001b[39m=\u001b[39m \u001b[39mself\u001b[39m\u001b[39m.\u001b[39mbuild_tree(\n\u001b[1;32m    722\u001b[0m         tree_depth,\n\u001b[1;32m    723\u001b[0m         indices_left,\n\u001b[0;32m   (...)\u001b[0m\n\u001b[1;32m    727\u001b[0m         ),\n\u001b[1;32m    728\u001b[0m     )\n\u001b[0;32m--> 730\u001b[0m     node\u001b[39m.\u001b[39mright \u001b[39m=\u001b[39m \u001b[39mself\u001b[39;49m\u001b[39m.\u001b[39;49mbuild_tree(\n\u001b[1;32m    731\u001b[0m         tree_depth,\n\u001b[1;32m    732\u001b[0m         indices_right,\n\u001b[1;32m    733\u001b[0m         np\u001b[39m.\u001b[39;49mmaximum(\n\u001b[1;32m    734\u001b[0m             \u001b[39m0\u001b[39;49m,\n\u001b[1;32m    735\u001b[0m             np\u001b[39m.\u001b[39;49msum((\u001b[39mself\u001b[39;49m\u001b[39m.\u001b[39;49my[indices_right] \u001b[39m-\u001b[39;49m np\u001b[39m.\u001b[39;49mmean(\u001b[39mself\u001b[39;49m\u001b[39m.\u001b[39;49my[indices_right])) \u001b[39m*\u001b[39;49m\u001b[39m*\u001b[39;49m \u001b[39m2\u001b[39;49m),\n\u001b[1;32m    736\u001b[0m         ),\n\u001b[1;32m    737\u001b[0m     )\n\u001b[1;32m    738\u001b[0m \u001b[39mexcept\u001b[39;00m \u001b[39mRecursionError\u001b[39;00m \u001b[39mas\u001b[39;00m re:\n\u001b[1;32m    739\u001b[0m     \u001b[39mprint\u001b[39m(tree_depth, best_node, node\u001b[39m.\u001b[39mnodes_selected(), \u001b[39mself\u001b[39m\u001b[39m.\u001b[39mrecursion_counter)\n",
      "File \u001b[0;32m~/PILOT/pilot/Pilot.py:730\u001b[0m, in \u001b[0;36mPILOT.build_tree\u001b[0;34m(self, tree_depth, indices, rss)\u001b[0m\n\u001b[1;32m    720\u001b[0m     \u001b[39mself\u001b[39m\u001b[39m.\u001b[39mrecursion_counter[best_node] \u001b[39m+\u001b[39m\u001b[39m=\u001b[39m \u001b[39m1\u001b[39m\n\u001b[1;32m    721\u001b[0m     node\u001b[39m.\u001b[39mleft \u001b[39m=\u001b[39m \u001b[39mself\u001b[39m\u001b[39m.\u001b[39mbuild_tree(\n\u001b[1;32m    722\u001b[0m         tree_depth,\n\u001b[1;32m    723\u001b[0m         indices_left,\n\u001b[0;32m   (...)\u001b[0m\n\u001b[1;32m    727\u001b[0m         ),\n\u001b[1;32m    728\u001b[0m     )\n\u001b[0;32m--> 730\u001b[0m     node\u001b[39m.\u001b[39mright \u001b[39m=\u001b[39m \u001b[39mself\u001b[39;49m\u001b[39m.\u001b[39;49mbuild_tree(\n\u001b[1;32m    731\u001b[0m         tree_depth,\n\u001b[1;32m    732\u001b[0m         indices_right,\n\u001b[1;32m    733\u001b[0m         np\u001b[39m.\u001b[39;49mmaximum(\n\u001b[1;32m    734\u001b[0m             \u001b[39m0\u001b[39;49m,\n\u001b[1;32m    735\u001b[0m             np\u001b[39m.\u001b[39;49msum((\u001b[39mself\u001b[39;49m\u001b[39m.\u001b[39;49my[indices_right] \u001b[39m-\u001b[39;49m np\u001b[39m.\u001b[39;49mmean(\u001b[39mself\u001b[39;49m\u001b[39m.\u001b[39;49my[indices_right])) \u001b[39m*\u001b[39;49m\u001b[39m*\u001b[39;49m \u001b[39m2\u001b[39;49m),\n\u001b[1;32m    736\u001b[0m         ),\n\u001b[1;32m    737\u001b[0m     )\n\u001b[1;32m    738\u001b[0m \u001b[39mexcept\u001b[39;00m \u001b[39mRecursionError\u001b[39;00m \u001b[39mas\u001b[39;00m re:\n\u001b[1;32m    739\u001b[0m     \u001b[39mprint\u001b[39m(tree_depth, best_node, node\u001b[39m.\u001b[39mnodes_selected(), \u001b[39mself\u001b[39m\u001b[39m.\u001b[39mrecursion_counter)\n",
      "File \u001b[0;32m~/PILOT/pilot/Pilot.py:721\u001b[0m, in \u001b[0;36mPILOT.build_tree\u001b[0;34m(self, tree_depth, indices, rss)\u001b[0m\n\u001b[1;32m    719\u001b[0m \u001b[39mtry\u001b[39;00m:\n\u001b[1;32m    720\u001b[0m     \u001b[39mself\u001b[39m\u001b[39m.\u001b[39mrecursion_counter[best_node] \u001b[39m+\u001b[39m\u001b[39m=\u001b[39m \u001b[39m1\u001b[39m\n\u001b[0;32m--> 721\u001b[0m     node\u001b[39m.\u001b[39mleft \u001b[39m=\u001b[39m \u001b[39mself\u001b[39;49m\u001b[39m.\u001b[39;49mbuild_tree(\n\u001b[1;32m    722\u001b[0m         tree_depth,\n\u001b[1;32m    723\u001b[0m         indices_left,\n\u001b[1;32m    724\u001b[0m         np\u001b[39m.\u001b[39;49mmaximum(\n\u001b[1;32m    725\u001b[0m             \u001b[39m0\u001b[39;49m,\n\u001b[1;32m    726\u001b[0m             np\u001b[39m.\u001b[39;49msum((\u001b[39mself\u001b[39;49m\u001b[39m.\u001b[39;49my[indices_left] \u001b[39m-\u001b[39;49m np\u001b[39m.\u001b[39;49mmean(\u001b[39mself\u001b[39;49m\u001b[39m.\u001b[39;49my[indices_left])) \u001b[39m*\u001b[39;49m\u001b[39m*\u001b[39;49m \u001b[39m2\u001b[39;49m),\n\u001b[1;32m    727\u001b[0m         ),\n\u001b[1;32m    728\u001b[0m     )\n\u001b[1;32m    730\u001b[0m     node\u001b[39m.\u001b[39mright \u001b[39m=\u001b[39m \u001b[39mself\u001b[39m\u001b[39m.\u001b[39mbuild_tree(\n\u001b[1;32m    731\u001b[0m         tree_depth,\n\u001b[1;32m    732\u001b[0m         indices_right,\n\u001b[0;32m   (...)\u001b[0m\n\u001b[1;32m    736\u001b[0m         ),\n\u001b[1;32m    737\u001b[0m     )\n\u001b[1;32m    738\u001b[0m \u001b[39mexcept\u001b[39;00m \u001b[39mRecursionError\u001b[39;00m \u001b[39mas\u001b[39;00m re:\n",
      "File \u001b[0;32m~/PILOT/pilot/Pilot.py:680\u001b[0m, in \u001b[0;36mPILOT.build_tree\u001b[0;34m(self, tree_depth, indices, rss)\u001b[0m\n\u001b[1;32m    678\u001b[0m         \u001b[39mself\u001b[39m\u001b[39m.\u001b[39mrecursion_counter[best_node] \u001b[39m+\u001b[39m\u001b[39m=\u001b[39m \u001b[39m1\u001b[39m\n\u001b[1;32m    679\u001b[0m         \u001b[39m# recursion\u001b[39;00m\n\u001b[0;32m--> 680\u001b[0m         node\u001b[39m.\u001b[39mleft \u001b[39m=\u001b[39m \u001b[39mself\u001b[39;49m\u001b[39m.\u001b[39;49mbuild_tree(\n\u001b[1;32m    681\u001b[0m             tree_depth,\n\u001b[1;32m    682\u001b[0m             indices,\n\u001b[1;32m    683\u001b[0m             np\u001b[39m.\u001b[39;49mmaximum(\u001b[39m0\u001b[39;49m, np\u001b[39m.\u001b[39;49msum((\u001b[39mself\u001b[39;49m\u001b[39m.\u001b[39;49my[indices] \u001b[39m-\u001b[39;49m np\u001b[39m.\u001b[39;49mmean(\u001b[39mself\u001b[39;49m\u001b[39m.\u001b[39;49my[indices])) \u001b[39m*\u001b[39;49m\u001b[39m*\u001b[39;49m \u001b[39m2\u001b[39;49m)),\n\u001b[1;32m    684\u001b[0m         )\n\u001b[1;32m    686\u001b[0m \u001b[39melif\u001b[39;00m best_node \u001b[39m==\u001b[39m \u001b[39m\"\u001b[39m\u001b[39mcon\u001b[39m\u001b[39m\"\u001b[39m:\n\u001b[1;32m    687\u001b[0m     \u001b[39mself\u001b[39m\u001b[39m.\u001b[39my[indices] \u001b[39m-\u001b[39m\u001b[39m=\u001b[39m \u001b[39mself\u001b[39m\u001b[39m.\u001b[39mstep_size \u001b[39m*\u001b[39m (lm_l[\u001b[39m1\u001b[39m])\n",
      "File \u001b[0;32m~/PILOT/pilot/Pilot.py:680\u001b[0m, in \u001b[0;36mPILOT.build_tree\u001b[0;34m(self, tree_depth, indices, rss)\u001b[0m\n\u001b[1;32m    678\u001b[0m         \u001b[39mself\u001b[39m\u001b[39m.\u001b[39mrecursion_counter[best_node] \u001b[39m+\u001b[39m\u001b[39m=\u001b[39m \u001b[39m1\u001b[39m\n\u001b[1;32m    679\u001b[0m         \u001b[39m# recursion\u001b[39;00m\n\u001b[0;32m--> 680\u001b[0m         node\u001b[39m.\u001b[39mleft \u001b[39m=\u001b[39m \u001b[39mself\u001b[39;49m\u001b[39m.\u001b[39;49mbuild_tree(\n\u001b[1;32m    681\u001b[0m             tree_depth,\n\u001b[1;32m    682\u001b[0m             indices,\n\u001b[1;32m    683\u001b[0m             np\u001b[39m.\u001b[39;49mmaximum(\u001b[39m0\u001b[39;49m, np\u001b[39m.\u001b[39;49msum((\u001b[39mself\u001b[39;49m\u001b[39m.\u001b[39;49my[indices] \u001b[39m-\u001b[39;49m np\u001b[39m.\u001b[39;49mmean(\u001b[39mself\u001b[39;49m\u001b[39m.\u001b[39;49my[indices])) \u001b[39m*\u001b[39;49m\u001b[39m*\u001b[39;49m \u001b[39m2\u001b[39;49m)),\n\u001b[1;32m    684\u001b[0m         )\n\u001b[1;32m    686\u001b[0m \u001b[39melif\u001b[39;00m best_node \u001b[39m==\u001b[39m \u001b[39m\"\u001b[39m\u001b[39mcon\u001b[39m\u001b[39m\"\u001b[39m:\n\u001b[1;32m    687\u001b[0m     \u001b[39mself\u001b[39m\u001b[39m.\u001b[39my[indices] \u001b[39m-\u001b[39m\u001b[39m=\u001b[39m \u001b[39mself\u001b[39m\u001b[39m.\u001b[39mstep_size \u001b[39m*\u001b[39m (lm_l[\u001b[39m1\u001b[39m])\n",
      "File \u001b[0;32m~/PILOT/pilot/Pilot.py:680\u001b[0m, in \u001b[0;36mPILOT.build_tree\u001b[0;34m(self, tree_depth, indices, rss)\u001b[0m\n\u001b[1;32m    678\u001b[0m         \u001b[39mself\u001b[39m\u001b[39m.\u001b[39mrecursion_counter[best_node] \u001b[39m+\u001b[39m\u001b[39m=\u001b[39m \u001b[39m1\u001b[39m\n\u001b[1;32m    679\u001b[0m         \u001b[39m# recursion\u001b[39;00m\n\u001b[0;32m--> 680\u001b[0m         node\u001b[39m.\u001b[39mleft \u001b[39m=\u001b[39m \u001b[39mself\u001b[39;49m\u001b[39m.\u001b[39;49mbuild_tree(\n\u001b[1;32m    681\u001b[0m             tree_depth,\n\u001b[1;32m    682\u001b[0m             indices,\n\u001b[1;32m    683\u001b[0m             np\u001b[39m.\u001b[39;49mmaximum(\u001b[39m0\u001b[39;49m, np\u001b[39m.\u001b[39;49msum((\u001b[39mself\u001b[39;49m\u001b[39m.\u001b[39;49my[indices] \u001b[39m-\u001b[39;49m np\u001b[39m.\u001b[39;49mmean(\u001b[39mself\u001b[39;49m\u001b[39m.\u001b[39;49my[indices])) \u001b[39m*\u001b[39;49m\u001b[39m*\u001b[39;49m \u001b[39m2\u001b[39;49m)),\n\u001b[1;32m    684\u001b[0m         )\n\u001b[1;32m    686\u001b[0m \u001b[39melif\u001b[39;00m best_node \u001b[39m==\u001b[39m \u001b[39m\"\u001b[39m\u001b[39mcon\u001b[39m\u001b[39m\"\u001b[39m:\n\u001b[1;32m    687\u001b[0m     \u001b[39mself\u001b[39m\u001b[39m.\u001b[39my[indices] \u001b[39m-\u001b[39m\u001b[39m=\u001b[39m \u001b[39mself\u001b[39m\u001b[39m.\u001b[39mstep_size \u001b[39m*\u001b[39m (lm_l[\u001b[39m1\u001b[39m])\n",
      "File \u001b[0;32m~/PILOT/pilot/Pilot.py:721\u001b[0m, in \u001b[0;36mPILOT.build_tree\u001b[0;34m(self, tree_depth, indices, rss)\u001b[0m\n\u001b[1;32m    719\u001b[0m \u001b[39mtry\u001b[39;00m:\n\u001b[1;32m    720\u001b[0m     \u001b[39mself\u001b[39m\u001b[39m.\u001b[39mrecursion_counter[best_node] \u001b[39m+\u001b[39m\u001b[39m=\u001b[39m \u001b[39m1\u001b[39m\n\u001b[0;32m--> 721\u001b[0m     node\u001b[39m.\u001b[39mleft \u001b[39m=\u001b[39m \u001b[39mself\u001b[39;49m\u001b[39m.\u001b[39;49mbuild_tree(\n\u001b[1;32m    722\u001b[0m         tree_depth,\n\u001b[1;32m    723\u001b[0m         indices_left,\n\u001b[1;32m    724\u001b[0m         np\u001b[39m.\u001b[39;49mmaximum(\n\u001b[1;32m    725\u001b[0m             \u001b[39m0\u001b[39;49m,\n\u001b[1;32m    726\u001b[0m             np\u001b[39m.\u001b[39;49msum((\u001b[39mself\u001b[39;49m\u001b[39m.\u001b[39;49my[indices_left] \u001b[39m-\u001b[39;49m np\u001b[39m.\u001b[39;49mmean(\u001b[39mself\u001b[39;49m\u001b[39m.\u001b[39;49my[indices_left])) \u001b[39m*\u001b[39;49m\u001b[39m*\u001b[39;49m \u001b[39m2\u001b[39;49m),\n\u001b[1;32m    727\u001b[0m         ),\n\u001b[1;32m    728\u001b[0m     )\n\u001b[1;32m    730\u001b[0m     node\u001b[39m.\u001b[39mright \u001b[39m=\u001b[39m \u001b[39mself\u001b[39m\u001b[39m.\u001b[39mbuild_tree(\n\u001b[1;32m    731\u001b[0m         tree_depth,\n\u001b[1;32m    732\u001b[0m         indices_right,\n\u001b[0;32m   (...)\u001b[0m\n\u001b[1;32m    736\u001b[0m         ),\n\u001b[1;32m    737\u001b[0m     )\n\u001b[1;32m    738\u001b[0m \u001b[39mexcept\u001b[39;00m \u001b[39mRecursionError\u001b[39;00m \u001b[39mas\u001b[39;00m re:\n",
      "File \u001b[0;32m~/PILOT/pilot/Pilot.py:721\u001b[0m, in \u001b[0;36mPILOT.build_tree\u001b[0;34m(self, tree_depth, indices, rss)\u001b[0m\n\u001b[1;32m    719\u001b[0m \u001b[39mtry\u001b[39;00m:\n\u001b[1;32m    720\u001b[0m     \u001b[39mself\u001b[39m\u001b[39m.\u001b[39mrecursion_counter[best_node] \u001b[39m+\u001b[39m\u001b[39m=\u001b[39m \u001b[39m1\u001b[39m\n\u001b[0;32m--> 721\u001b[0m     node\u001b[39m.\u001b[39mleft \u001b[39m=\u001b[39m \u001b[39mself\u001b[39;49m\u001b[39m.\u001b[39;49mbuild_tree(\n\u001b[1;32m    722\u001b[0m         tree_depth,\n\u001b[1;32m    723\u001b[0m         indices_left,\n\u001b[1;32m    724\u001b[0m         np\u001b[39m.\u001b[39;49mmaximum(\n\u001b[1;32m    725\u001b[0m             \u001b[39m0\u001b[39;49m,\n\u001b[1;32m    726\u001b[0m             np\u001b[39m.\u001b[39;49msum((\u001b[39mself\u001b[39;49m\u001b[39m.\u001b[39;49my[indices_left] \u001b[39m-\u001b[39;49m np\u001b[39m.\u001b[39;49mmean(\u001b[39mself\u001b[39;49m\u001b[39m.\u001b[39;49my[indices_left])) \u001b[39m*\u001b[39;49m\u001b[39m*\u001b[39;49m \u001b[39m2\u001b[39;49m),\n\u001b[1;32m    727\u001b[0m         ),\n\u001b[1;32m    728\u001b[0m     )\n\u001b[1;32m    730\u001b[0m     node\u001b[39m.\u001b[39mright \u001b[39m=\u001b[39m \u001b[39mself\u001b[39m\u001b[39m.\u001b[39mbuild_tree(\n\u001b[1;32m    731\u001b[0m         tree_depth,\n\u001b[1;32m    732\u001b[0m         indices_right,\n\u001b[0;32m   (...)\u001b[0m\n\u001b[1;32m    736\u001b[0m         ),\n\u001b[1;32m    737\u001b[0m     )\n\u001b[1;32m    738\u001b[0m \u001b[39mexcept\u001b[39;00m \u001b[39mRecursionError\u001b[39;00m \u001b[39mas\u001b[39;00m re:\n",
      "File \u001b[0;32m~/PILOT/pilot/Pilot.py:730\u001b[0m, in \u001b[0;36mPILOT.build_tree\u001b[0;34m(self, tree_depth, indices, rss)\u001b[0m\n\u001b[1;32m    720\u001b[0m     \u001b[39mself\u001b[39m\u001b[39m.\u001b[39mrecursion_counter[best_node] \u001b[39m+\u001b[39m\u001b[39m=\u001b[39m \u001b[39m1\u001b[39m\n\u001b[1;32m    721\u001b[0m     node\u001b[39m.\u001b[39mleft \u001b[39m=\u001b[39m \u001b[39mself\u001b[39m\u001b[39m.\u001b[39mbuild_tree(\n\u001b[1;32m    722\u001b[0m         tree_depth,\n\u001b[1;32m    723\u001b[0m         indices_left,\n\u001b[0;32m   (...)\u001b[0m\n\u001b[1;32m    727\u001b[0m         ),\n\u001b[1;32m    728\u001b[0m     )\n\u001b[0;32m--> 730\u001b[0m     node\u001b[39m.\u001b[39mright \u001b[39m=\u001b[39m \u001b[39mself\u001b[39;49m\u001b[39m.\u001b[39;49mbuild_tree(\n\u001b[1;32m    731\u001b[0m         tree_depth,\n\u001b[1;32m    732\u001b[0m         indices_right,\n\u001b[1;32m    733\u001b[0m         np\u001b[39m.\u001b[39;49mmaximum(\n\u001b[1;32m    734\u001b[0m             \u001b[39m0\u001b[39;49m,\n\u001b[1;32m    735\u001b[0m             np\u001b[39m.\u001b[39;49msum((\u001b[39mself\u001b[39;49m\u001b[39m.\u001b[39;49my[indices_right] \u001b[39m-\u001b[39;49m np\u001b[39m.\u001b[39;49mmean(\u001b[39mself\u001b[39;49m\u001b[39m.\u001b[39;49my[indices_right])) \u001b[39m*\u001b[39;49m\u001b[39m*\u001b[39;49m \u001b[39m2\u001b[39;49m),\n\u001b[1;32m    736\u001b[0m         ),\n\u001b[1;32m    737\u001b[0m     )\n\u001b[1;32m    738\u001b[0m \u001b[39mexcept\u001b[39;00m \u001b[39mRecursionError\u001b[39;00m \u001b[39mas\u001b[39;00m re:\n\u001b[1;32m    739\u001b[0m     \u001b[39mprint\u001b[39m(tree_depth, best_node, node\u001b[39m.\u001b[39mnodes_selected(), \u001b[39mself\u001b[39m\u001b[39m.\u001b[39mrecursion_counter)\n",
      "File \u001b[0;32m~/PILOT/pilot/Pilot.py:721\u001b[0m, in \u001b[0;36mPILOT.build_tree\u001b[0;34m(self, tree_depth, indices, rss)\u001b[0m\n\u001b[1;32m    719\u001b[0m \u001b[39mtry\u001b[39;00m:\n\u001b[1;32m    720\u001b[0m     \u001b[39mself\u001b[39m\u001b[39m.\u001b[39mrecursion_counter[best_node] \u001b[39m+\u001b[39m\u001b[39m=\u001b[39m \u001b[39m1\u001b[39m\n\u001b[0;32m--> 721\u001b[0m     node\u001b[39m.\u001b[39mleft \u001b[39m=\u001b[39m \u001b[39mself\u001b[39;49m\u001b[39m.\u001b[39;49mbuild_tree(\n\u001b[1;32m    722\u001b[0m         tree_depth,\n\u001b[1;32m    723\u001b[0m         indices_left,\n\u001b[1;32m    724\u001b[0m         np\u001b[39m.\u001b[39;49mmaximum(\n\u001b[1;32m    725\u001b[0m             \u001b[39m0\u001b[39;49m,\n\u001b[1;32m    726\u001b[0m             np\u001b[39m.\u001b[39;49msum((\u001b[39mself\u001b[39;49m\u001b[39m.\u001b[39;49my[indices_left] \u001b[39m-\u001b[39;49m np\u001b[39m.\u001b[39;49mmean(\u001b[39mself\u001b[39;49m\u001b[39m.\u001b[39;49my[indices_left])) \u001b[39m*\u001b[39;49m\u001b[39m*\u001b[39;49m \u001b[39m2\u001b[39;49m),\n\u001b[1;32m    727\u001b[0m         ),\n\u001b[1;32m    728\u001b[0m     )\n\u001b[1;32m    730\u001b[0m     node\u001b[39m.\u001b[39mright \u001b[39m=\u001b[39m \u001b[39mself\u001b[39m\u001b[39m.\u001b[39mbuild_tree(\n\u001b[1;32m    731\u001b[0m         tree_depth,\n\u001b[1;32m    732\u001b[0m         indices_right,\n\u001b[0;32m   (...)\u001b[0m\n\u001b[1;32m    736\u001b[0m         ),\n\u001b[1;32m    737\u001b[0m     )\n\u001b[1;32m    738\u001b[0m \u001b[39mexcept\u001b[39;00m \u001b[39mRecursionError\u001b[39;00m \u001b[39mas\u001b[39;00m re:\n",
      "File \u001b[0;32m~/PILOT/pilot/Pilot.py:740\u001b[0m, in \u001b[0;36mPILOT.build_tree\u001b[0;34m(self, tree_depth, indices, rss)\u001b[0m\n\u001b[1;32m    738\u001b[0m         \u001b[39mexcept\u001b[39;00m \u001b[39mRecursionError\u001b[39;00m \u001b[39mas\u001b[39;00m re:\n\u001b[1;32m    739\u001b[0m             \u001b[39mprint\u001b[39m(tree_depth, best_node, node\u001b[39m.\u001b[39mnodes_selected(), \u001b[39mself\u001b[39m\u001b[39m.\u001b[39mrecursion_counter)\n\u001b[0;32m--> 740\u001b[0m             \u001b[39mraise\u001b[39;00m \u001b[39mException\u001b[39;00m \u001b[39mfrom\u001b[39;00m \u001b[39mre\u001b[39;00m\n\u001b[1;32m    742\u001b[0m \u001b[39melse\u001b[39;00m:\n\u001b[1;32m    743\u001b[0m     \u001b[39m# stop recursion if meeting the stopping criterion\u001b[39;00m\n\u001b[1;32m    744\u001b[0m     \u001b[39mreturn\u001b[39;00m tree(node\u001b[39m=\u001b[39m\u001b[39m\"\u001b[39m\u001b[39mEND\u001b[39m\u001b[39m\"\u001b[39m, Rt\u001b[39m=\u001b[39mrss)\n",
      "\u001b[0;31mException\u001b[0m: "
     ]
    }
   ],
   "source": [
    "for i in range(100):\n",
    "    p = Pilot.PILOT(max_depth=10, min_sample_split=2, truncation_factor=1.5, rel_tolerance=0.00)\n",
    "    bootstrap_idx = np.random.choice(np.arange(len(X)), size=len(X), replace=True)\n",
    "    p.fit(X[bootstrap_idx, :], y[bootstrap_idx], categorical=np.array(categorical))"
   ]
  },
  {
   "attachments": {},
   "cell_type": "markdown",
   "metadata": {},
   "source": [
    "## Skills"
   ]
  },
  {
   "cell_type": "code",
   "execution_count": 35,
   "metadata": {},
   "outputs": [
    {
     "name": "stdout",
     "output_type": "stream",
     "text": [
      "1.0 1.4863177817216304\n"
     ]
    }
   ],
   "source": [
    "dname = 'skills'\n",
    "X, y = datasets[dname]['data']\n",
    "categorical = datasets[dname]['categorical']\n",
    "p = Pilot.PILOT()\n",
    "d = DecisionTreeRegressor(max_depth=12, min_samples_split=10, min_samples_leaf=5)\n",
    "\n",
    "p_mse = -np.mean(cross_val_score(p, X, y, fit_params={'categorical': np.array(categorical)}, scoring='neg_mean_squared_error'))\n",
    "d_mse = -np.mean(cross_val_score(d, X, y, scoring='neg_mean_squared_error'))\n",
    "\n",
    "print(p_mse / min(p_mse, d_mse), d_mse / (min(p_mse, d_mse)))"
   ]
  },
  {
   "attachments": {},
   "cell_type": "markdown",
   "metadata": {},
   "source": [
    "## Wine"
   ]
  },
  {
   "cell_type": "code",
   "execution_count": 36,
   "metadata": {},
   "outputs": [
    {
     "name": "stdout",
     "output_type": "stream",
     "text": [
      "1.0 1.3978899488124397\n"
     ]
    }
   ],
   "source": [
    "dname = 'wine'\n",
    "X, y = datasets[dname]['data']\n",
    "categorical = datasets[dname]['categorical']\n",
    "p = Pilot.PILOT()\n",
    "d = DecisionTreeRegressor(max_depth=12, min_samples_split=10, min_samples_leaf=5)\n",
    "\n",
    "p_mse = -np.mean(cross_val_score(p, X, y, fit_params={'categorical': np.array(categorical)}, scoring='neg_mean_squared_error'))\n",
    "d_mse = -np.mean(cross_val_score(d, X, y, scoring='neg_mean_squared_error'))\n",
    "\n",
    "print(p_mse / min(p_mse, d_mse), d_mse / (min(p_mse, d_mse)))"
   ]
  },
  {
   "attachments": {},
   "cell_type": "markdown",
   "metadata": {},
   "source": [
    "## Abalone"
   ]
  },
  {
   "cell_type": "code",
   "execution_count": 38,
   "metadata": {},
   "outputs": [
    {
     "name": "stdout",
     "output_type": "stream",
     "text": [
      "1.0 1.2649648675728686\n"
     ]
    }
   ],
   "source": [
    "dname = 'abalone'\n",
    "X, y = datasets[dname]['data']\n",
    "categorical = datasets[dname]['categorical']\n",
    "p = Pilot.PILOT()\n",
    "d = DecisionTreeRegressor(max_depth=12, min_samples_split=10, min_samples_leaf=5)\n",
    "\n",
    "p_mse = -np.mean(cross_val_score(p, X, y, fit_params={'categorical': np.array(categorical)}, scoring='neg_mean_squared_error'))\n",
    "d_mse = -np.mean(cross_val_score(d, X, y, scoring='neg_mean_squared_error'))\n",
    "\n",
    "print(p_mse / min(p_mse, d_mse), d_mse / (min(p_mse, d_mse)))"
   ]
  },
  {
   "cell_type": "code",
   "execution_count": 39,
   "metadata": {},
   "outputs": [],
   "source": [
    "for i in range(100):\n",
    "    p = Pilot.PILOT(max_depth=10, min_sample_split=2, truncation_factor=1.5, rel_tolerance=0.00)\n",
    "    bootstrap_idx = np.random.choice(np.arange(len(X)), size=len(X), replace=True)\n",
    "    p.fit(X[bootstrap_idx, :], y[bootstrap_idx], categorical=np.array(categorical))"
   ]
  },
  {
   "cell_type": "code",
   "execution_count": 40,
   "metadata": {},
   "outputs": [
    {
     "name": "stdout",
     "output_type": "stream",
     "text": [
      "0.4098002559030295\n",
      "0.2847848498919635\n",
      "0.5401221094057291\n",
      "0.5656876172648391\n",
      "0.48212196709914723\n"
     ]
    }
   ],
   "source": [
    "rfp = ensemble.RandomForestPilot(n_estimators=50, max_depth=10, min_sample_split=2, truncation_factor=1.5, rel_tolerance=0)\n",
    "for train_idx, test_idx in KFold().split(X, y):\n",
    "    rfp.fit(X[train_idx, :], y[train_idx])\n",
    "    print(r2_score(y[test_idx], rfp.predict(X[test_idx, :])))"
   ]
  },
  {
   "attachments": {},
   "cell_type": "markdown",
   "metadata": {},
   "source": [
    "## Bike"
   ]
  },
  {
   "cell_type": "code",
   "execution_count": 41,
   "metadata": {},
   "outputs": [
    {
     "name": "stdout",
     "output_type": "stream",
     "text": [
      "1.0587370965296532 1.0\n"
     ]
    }
   ],
   "source": [
    "dname = 'SeoulBikeData'\n",
    "X, y = datasets[dname]['data']\n",
    "categorical = datasets[dname]['categorical']\n",
    "p = Pilot.PILOT()\n",
    "d = DecisionTreeRegressor(max_depth=12, min_samples_split=10, min_samples_leaf=5)\n",
    "\n",
    "p_mse = -np.mean(cross_val_score(p, X, y, fit_params={'categorical': np.array(categorical)}, scoring='neg_mean_squared_error'))\n",
    "d_mse = -np.mean(cross_val_score(d, X, y, scoring='neg_mean_squared_error'))\n",
    "\n",
    "print(p_mse / min(p_mse, d_mse), d_mse / (min(p_mse, d_mse)))"
   ]
  },
  {
   "cell_type": "code",
   "execution_count": 42,
   "metadata": {},
   "outputs": [
    {
     "data": {
      "text/plain": [
       "[-1]"
      ]
     },
     "execution_count": 42,
     "metadata": {},
     "output_type": "execute_result"
    }
   ],
   "source": [
    "datasets[dname]['categorical']"
   ]
  },
  {
   "attachments": {},
   "cell_type": "markdown",
   "metadata": {},
   "source": [
    "## California"
   ]
  },
  {
   "cell_type": "code",
   "execution_count": 43,
   "metadata": {},
   "outputs": [
    {
     "name": "stdout",
     "output_type": "stream",
     "text": [
      "1.0 1.252993057125518\n"
     ]
    }
   ],
   "source": [
    "dname = 'housing'\n",
    "X, y = datasets[dname]['data']\n",
    "categorical = datasets[dname]['categorical']\n",
    "p = Pilot.PILOT()\n",
    "d = DecisionTreeRegressor(max_depth=12, min_samples_split=10, min_samples_leaf=5)\n",
    "\n",
    "p_mse = -np.mean(cross_val_score(p, X, y, fit_params={'categorical': np.array(categorical)}, scoring='neg_mean_squared_error'))\n",
    "d_mse = -np.mean(cross_val_score(d, X, y, scoring='neg_mean_squared_error'))\n",
    "\n",
    "print(p_mse / min(p_mse, d_mse), d_mse / (min(p_mse, d_mse)))"
   ]
  },
  {
   "attachments": {},
   "cell_type": "markdown",
   "metadata": {},
   "source": [
    "## Communities"
   ]
  },
  {
   "cell_type": "code",
   "execution_count": 44,
   "metadata": {},
   "outputs": [
    {
     "name": "stdout",
     "output_type": "stream",
     "text": [
      "1.0 1.4973791251675714\n"
     ]
    }
   ],
   "source": [
    "dname = 'communities'\n",
    "X, y = datasets[dname]['data']\n",
    "categorical = datasets[dname]['categorical']\n",
    "p = Pilot.PILOT()\n",
    "d = DecisionTreeRegressor(max_depth=12, min_samples_split=10, min_samples_leaf=5)\n",
    "\n",
    "p_mse = -np.mean(cross_val_score(p, X, y, fit_params={'categorical': np.array(categorical)}, scoring='neg_mean_squared_error'))\n",
    "d_mse = -np.mean(cross_val_score(d, X, y, scoring='neg_mean_squared_error'))\n",
    "\n",
    "print(p_mse / min(p_mse, d_mse), d_mse / (min(p_mse, d_mse)))"
   ]
  },
  {
   "cell_type": "code",
   "execution_count": 45,
   "metadata": {},
   "outputs": [
    {
     "name": "stdout",
     "output_type": "stream",
     "text": [
      "6 plin {'con': 1, 'lin': 29, 'blin': 1, 'pcon': 0, 'plin': 1} {'lin': 3341, 'blin': 21, 'pcon': 5, 'plin': 10, 'pconc': 0}\n"
     ]
    },
    {
     "ename": "Exception",
     "evalue": "",
     "output_type": "error",
     "traceback": [
      "\u001b[0;31m---------------------------------------------------------------------------\u001b[0m",
      "\u001b[0;31mRecursionError\u001b[0m                            Traceback (most recent call last)",
      "File \u001b[0;32m~/PILOT/pilot/Pilot.py:730\u001b[0m, in \u001b[0;36mPILOT.build_tree\u001b[0;34m(self, tree_depth, indices, rss)\u001b[0m\n\u001b[1;32m    721\u001b[0m     node\u001b[39m.\u001b[39mleft \u001b[39m=\u001b[39m \u001b[39mself\u001b[39m\u001b[39m.\u001b[39mbuild_tree(\n\u001b[1;32m    722\u001b[0m         tree_depth,\n\u001b[1;32m    723\u001b[0m         indices_left,\n\u001b[0;32m   (...)\u001b[0m\n\u001b[1;32m    727\u001b[0m         ),\n\u001b[1;32m    728\u001b[0m     )\n\u001b[0;32m--> 730\u001b[0m     node\u001b[39m.\u001b[39mright \u001b[39m=\u001b[39m \u001b[39mself\u001b[39;49m\u001b[39m.\u001b[39;49mbuild_tree(\n\u001b[1;32m    731\u001b[0m         tree_depth,\n\u001b[1;32m    732\u001b[0m         indices_right,\n\u001b[1;32m    733\u001b[0m         np\u001b[39m.\u001b[39;49mmaximum(\n\u001b[1;32m    734\u001b[0m             \u001b[39m0\u001b[39;49m,\n\u001b[1;32m    735\u001b[0m             np\u001b[39m.\u001b[39;49msum((\u001b[39mself\u001b[39;49m\u001b[39m.\u001b[39;49my[indices_right] \u001b[39m-\u001b[39;49m np\u001b[39m.\u001b[39;49mmean(\u001b[39mself\u001b[39;49m\u001b[39m.\u001b[39;49my[indices_right])) \u001b[39m*\u001b[39;49m\u001b[39m*\u001b[39;49m \u001b[39m2\u001b[39;49m),\n\u001b[1;32m    736\u001b[0m         ),\n\u001b[1;32m    737\u001b[0m     )\n\u001b[1;32m    738\u001b[0m \u001b[39mexcept\u001b[39;00m \u001b[39mRecursionError\u001b[39;00m \u001b[39mas\u001b[39;00m re:\n",
      "File \u001b[0;32m~/PILOT/pilot/Pilot.py:680\u001b[0m, in \u001b[0;36mPILOT.build_tree\u001b[0;34m(self, tree_depth, indices, rss)\u001b[0m\n\u001b[1;32m    679\u001b[0m         \u001b[39m# recursion\u001b[39;00m\n\u001b[0;32m--> 680\u001b[0m         node\u001b[39m.\u001b[39mleft \u001b[39m=\u001b[39m \u001b[39mself\u001b[39;49m\u001b[39m.\u001b[39;49mbuild_tree(\n\u001b[1;32m    681\u001b[0m             tree_depth,\n\u001b[1;32m    682\u001b[0m             indices,\n\u001b[1;32m    683\u001b[0m             np\u001b[39m.\u001b[39;49mmaximum(\u001b[39m0\u001b[39;49m, np\u001b[39m.\u001b[39;49msum((\u001b[39mself\u001b[39;49m\u001b[39m.\u001b[39;49my[indices] \u001b[39m-\u001b[39;49m np\u001b[39m.\u001b[39;49mmean(\u001b[39mself\u001b[39;49m\u001b[39m.\u001b[39;49my[indices])) \u001b[39m*\u001b[39;49m\u001b[39m*\u001b[39;49m \u001b[39m2\u001b[39;49m)),\n\u001b[1;32m    684\u001b[0m         )\n\u001b[1;32m    686\u001b[0m \u001b[39melif\u001b[39;00m best_node \u001b[39m==\u001b[39m \u001b[39m\"\u001b[39m\u001b[39mcon\u001b[39m\u001b[39m\"\u001b[39m:\n",
      "File \u001b[0;32m~/PILOT/pilot/Pilot.py:680\u001b[0m, in \u001b[0;36mPILOT.build_tree\u001b[0;34m(self, tree_depth, indices, rss)\u001b[0m\n\u001b[1;32m    679\u001b[0m         \u001b[39m# recursion\u001b[39;00m\n\u001b[0;32m--> 680\u001b[0m         node\u001b[39m.\u001b[39mleft \u001b[39m=\u001b[39m \u001b[39mself\u001b[39;49m\u001b[39m.\u001b[39;49mbuild_tree(\n\u001b[1;32m    681\u001b[0m             tree_depth,\n\u001b[1;32m    682\u001b[0m             indices,\n\u001b[1;32m    683\u001b[0m             np\u001b[39m.\u001b[39;49mmaximum(\u001b[39m0\u001b[39;49m, np\u001b[39m.\u001b[39;49msum((\u001b[39mself\u001b[39;49m\u001b[39m.\u001b[39;49my[indices] \u001b[39m-\u001b[39;49m np\u001b[39m.\u001b[39;49mmean(\u001b[39mself\u001b[39;49m\u001b[39m.\u001b[39;49my[indices])) \u001b[39m*\u001b[39;49m\u001b[39m*\u001b[39;49m \u001b[39m2\u001b[39;49m)),\n\u001b[1;32m    684\u001b[0m         )\n\u001b[1;32m    686\u001b[0m \u001b[39melif\u001b[39;00m best_node \u001b[39m==\u001b[39m \u001b[39m\"\u001b[39m\u001b[39mcon\u001b[39m\u001b[39m\"\u001b[39m:\n",
      "    \u001b[0;31m[... skipping similar frames: PILOT.build_tree at line 680 (2943 times)]\u001b[0m\n",
      "File \u001b[0;32m~/PILOT/pilot/Pilot.py:680\u001b[0m, in \u001b[0;36mPILOT.build_tree\u001b[0;34m(self, tree_depth, indices, rss)\u001b[0m\n\u001b[1;32m    679\u001b[0m         \u001b[39m# recursion\u001b[39;00m\n\u001b[0;32m--> 680\u001b[0m         node\u001b[39m.\u001b[39mleft \u001b[39m=\u001b[39m \u001b[39mself\u001b[39;49m\u001b[39m.\u001b[39;49mbuild_tree(\n\u001b[1;32m    681\u001b[0m             tree_depth,\n\u001b[1;32m    682\u001b[0m             indices,\n\u001b[1;32m    683\u001b[0m             np\u001b[39m.\u001b[39;49mmaximum(\u001b[39m0\u001b[39;49m, np\u001b[39m.\u001b[39;49msum((\u001b[39mself\u001b[39;49m\u001b[39m.\u001b[39;49my[indices] \u001b[39m-\u001b[39;49m np\u001b[39m.\u001b[39;49mmean(\u001b[39mself\u001b[39;49m\u001b[39m.\u001b[39;49my[indices])) \u001b[39m*\u001b[39;49m\u001b[39m*\u001b[39;49m \u001b[39m2\u001b[39;49m)),\n\u001b[1;32m    684\u001b[0m         )\n\u001b[1;32m    686\u001b[0m \u001b[39melif\u001b[39;00m best_node \u001b[39m==\u001b[39m \u001b[39m\"\u001b[39m\u001b[39mcon\u001b[39m\u001b[39m\"\u001b[39m:\n",
      "File \u001b[0;32m~/PILOT/pilot/Pilot.py:624\u001b[0m, in \u001b[0;36mPILOT.build_tree\u001b[0;34m(self, tree_depth, indices, rss)\u001b[0m\n\u001b[1;32m    623\u001b[0m \u001b[39m# fit models on the node\u001b[39;00m\n\u001b[0;32m--> 624\u001b[0m best_feature, best_pivot, best_node, lm_l, lm_r, interval, pivot_c \u001b[39m=\u001b[39m best_split(\n\u001b[1;32m    625\u001b[0m     indices,\n\u001b[1;32m    626\u001b[0m     \u001b[39mself\u001b[39;49m\u001b[39m.\u001b[39;49mregression_nodes,\n\u001b[1;32m    627\u001b[0m     \u001b[39mself\u001b[39;49m\u001b[39m.\u001b[39;49mn_features,\n\u001b[1;32m    628\u001b[0m     \u001b[39mself\u001b[39;49m\u001b[39m.\u001b[39;49msorted_X_indices,\n\u001b[1;32m    629\u001b[0m     \u001b[39mself\u001b[39;49m\u001b[39m.\u001b[39;49mX,\n\u001b[1;32m    630\u001b[0m     \u001b[39mself\u001b[39;49m\u001b[39m.\u001b[39;49my,\n\u001b[1;32m    631\u001b[0m     \u001b[39mself\u001b[39;49m\u001b[39m.\u001b[39;49msplit_criterion,\n\u001b[1;32m    632\u001b[0m     \u001b[39mself\u001b[39;49m\u001b[39m.\u001b[39;49mmin_sample_leaf,\n\u001b[1;32m    633\u001b[0m     \u001b[39mself\u001b[39;49m\u001b[39m.\u001b[39;49mk,\n\u001b[1;32m    634\u001b[0m     \u001b[39mself\u001b[39;49m\u001b[39m.\u001b[39;49mcategorical,\n\u001b[1;32m    635\u001b[0m     \u001b[39mself\u001b[39;49m\u001b[39m.\u001b[39;49mmax_features_considered,\n\u001b[1;32m    636\u001b[0m )  \u001b[39m# find the best split\u001b[39;00m\n\u001b[1;32m    637\u001b[0m \u001b[39m# stop fitting the tree\u001b[39;00m\n",
      "File \u001b[0;32m~/miniconda3/envs/pilot/lib/python3.10/site-packages/numba/core/dispatcher.py:733\u001b[0m, in \u001b[0;36m_DispatcherBase.typeof_pyval\u001b[0;34m(self, val)\u001b[0m\n\u001b[1;32m    732\u001b[0m \u001b[39mtry\u001b[39;00m:\n\u001b[0;32m--> 733\u001b[0m     tp \u001b[39m=\u001b[39m typeof(val, Purpose\u001b[39m.\u001b[39;49margument)\n\u001b[1;32m    734\u001b[0m \u001b[39mexcept\u001b[39;00m \u001b[39mValueError\u001b[39;00m:\n",
      "File \u001b[0;32m~/miniconda3/envs/pilot/lib/python3.10/site-packages/numba/core/typing/typeof.py:38\u001b[0m, in \u001b[0;36mtypeof\u001b[0;34m(val, purpose)\u001b[0m\n\u001b[1;32m     37\u001b[0m c \u001b[39m=\u001b[39m _TypeofContext(purpose)\n\u001b[0;32m---> 38\u001b[0m ty \u001b[39m=\u001b[39m typeof_impl(val, c)\n\u001b[1;32m     39\u001b[0m \u001b[39mif\u001b[39;00m ty \u001b[39mis\u001b[39;00m \u001b[39mNone\u001b[39;00m:\n",
      "File \u001b[0;32m~/miniconda3/envs/pilot/lib/python3.10/functools.py:889\u001b[0m, in \u001b[0;36msingledispatch.<locals>.wrapper\u001b[0;34m(*args, **kw)\u001b[0m\n\u001b[1;32m    886\u001b[0m     \u001b[39mraise\u001b[39;00m \u001b[39mTypeError\u001b[39;00m(\u001b[39mf\u001b[39m\u001b[39m'\u001b[39m\u001b[39m{\u001b[39;00mfuncname\u001b[39m}\u001b[39;00m\u001b[39m requires at least \u001b[39m\u001b[39m'\u001b[39m\n\u001b[1;32m    887\u001b[0m                     \u001b[39m'\u001b[39m\u001b[39m1 positional argument\u001b[39m\u001b[39m'\u001b[39m)\n\u001b[0;32m--> 889\u001b[0m \u001b[39mreturn\u001b[39;00m dispatch(args[\u001b[39m0\u001b[39;49m]\u001b[39m.\u001b[39;49m\u001b[39m__class__\u001b[39;49m)(\u001b[39m*\u001b[39;49margs, \u001b[39m*\u001b[39;49m\u001b[39m*\u001b[39;49mkw)\n",
      "File \u001b[0;32m~/miniconda3/envs/pilot/lib/python3.10/site-packages/numba/core/typing/typeof.py:190\u001b[0m, in \u001b[0;36m_typeof_list\u001b[0;34m(val, c)\u001b[0m\n\u001b[1;32m    188\u001b[0m     \u001b[39mraise\u001b[39;00m \u001b[39mValueError\u001b[39;00m(\n\u001b[1;32m    189\u001b[0m         \u001b[39mf\u001b[39m\u001b[39m\"\u001b[39m\u001b[39mCannot type list element type \u001b[39m\u001b[39m{\u001b[39;00m\u001b[39mtype\u001b[39m(val[\u001b[39m0\u001b[39m])\u001b[39m}\u001b[39;00m\u001b[39m\"\u001b[39m)\n\u001b[0;32m--> 190\u001b[0m \u001b[39mreturn\u001b[39;00m types\u001b[39m.\u001b[39;49mList(ty, reflected\u001b[39m=\u001b[39;49m\u001b[39mTrue\u001b[39;49;00m)\n",
      "File \u001b[0;32m~/miniconda3/envs/pilot/lib/python3.10/site-packages/numba/core/types/abstract.py:67\u001b[0m, in \u001b[0;36m_TypeMetaclass.__call__\u001b[0;34m(cls, *args, **kwargs)\u001b[0m\n\u001b[1;32m     66\u001b[0m inst \u001b[39m=\u001b[39m \u001b[39mtype\u001b[39m\u001b[39m.\u001b[39m\u001b[39m__call__\u001b[39m(\u001b[39mcls\u001b[39m, \u001b[39m*\u001b[39margs, \u001b[39m*\u001b[39m\u001b[39m*\u001b[39mkwargs)\n\u001b[0;32m---> 67\u001b[0m \u001b[39mreturn\u001b[39;00m \u001b[39mcls\u001b[39;49m\u001b[39m.\u001b[39;49m_intern(inst)\n",
      "File \u001b[0;32m~/miniconda3/envs/pilot/lib/python3.10/site-packages/numba/core/types/abstract.py:51\u001b[0m, in \u001b[0;36m_TypeMetaclass._intern\u001b[0;34m(cls, inst)\u001b[0m\n\u001b[1;32m     50\u001b[0m wr \u001b[39m=\u001b[39m weakref\u001b[39m.\u001b[39mref(inst, _on_type_disposal)\n\u001b[0;32m---> 51\u001b[0m orig \u001b[39m=\u001b[39m _typecache\u001b[39m.\u001b[39;49mget(wr)\n\u001b[1;32m     52\u001b[0m orig \u001b[39m=\u001b[39m orig \u001b[39mand\u001b[39;00m orig()\n",
      "File \u001b[0;32m~/miniconda3/envs/pilot/lib/python3.10/site-packages/numba/core/types/abstract.py:121\u001b[0m, in \u001b[0;36mType.__eq__\u001b[0;34m(self, other)\u001b[0m\n\u001b[1;32m    120\u001b[0m \u001b[39mdef\u001b[39;00m \u001b[39m__eq__\u001b[39m(\u001b[39mself\u001b[39m, other):\n\u001b[0;32m--> 121\u001b[0m     \u001b[39mreturn\u001b[39;00m \u001b[39mself\u001b[39m\u001b[39m.\u001b[39m\u001b[39m__class__\u001b[39m \u001b[39mis\u001b[39;00m other\u001b[39m.\u001b[39m\u001b[39m__class__\u001b[39m \u001b[39mand\u001b[39;00m \u001b[39mself\u001b[39;49m\u001b[39m.\u001b[39;49mkey \u001b[39m==\u001b[39m other\u001b[39m.\u001b[39mkey\n",
      "File \u001b[0;32m~/miniconda3/envs/pilot/lib/python3.10/site-packages/numba/core/types/containers.py:451\u001b[0m, in \u001b[0;36mList.key\u001b[0;34m(self)\u001b[0m\n\u001b[1;32m    449\u001b[0m \u001b[39m@property\u001b[39m\n\u001b[1;32m    450\u001b[0m \u001b[39mdef\u001b[39;00m \u001b[39mkey\u001b[39m(\u001b[39mself\u001b[39m):\n\u001b[0;32m--> 451\u001b[0m     \u001b[39mreturn\u001b[39;00m \u001b[39mself\u001b[39m\u001b[39m.\u001b[39mdtype, \u001b[39mself\u001b[39m\u001b[39m.\u001b[39mreflected, \u001b[39mstr\u001b[39;49m(\u001b[39mself\u001b[39;49m\u001b[39m.\u001b[39;49minitial_value)\n",
      "\u001b[0;31mRecursionError\u001b[0m: maximum recursion depth exceeded while getting the str of an object",
      "\nThe above exception was the direct cause of the following exception:\n",
      "\u001b[0;31mException\u001b[0m                                 Traceback (most recent call last)",
      "Cell \u001b[0;32mIn[45], line 4\u001b[0m\n\u001b[1;32m      2\u001b[0m p \u001b[39m=\u001b[39m Pilot\u001b[39m.\u001b[39mPILOT(max_depth\u001b[39m=\u001b[39m\u001b[39m10\u001b[39m, min_sample_split\u001b[39m=\u001b[39m\u001b[39m2\u001b[39m, truncation_factor\u001b[39m=\u001b[39m\u001b[39m1.5\u001b[39m, rel_tolerance\u001b[39m=\u001b[39m\u001b[39m0.00\u001b[39m)\n\u001b[1;32m      3\u001b[0m bootstrap_idx \u001b[39m=\u001b[39m np\u001b[39m.\u001b[39mrandom\u001b[39m.\u001b[39mchoice(np\u001b[39m.\u001b[39marange(\u001b[39mlen\u001b[39m(X)), size\u001b[39m=\u001b[39m\u001b[39mlen\u001b[39m(X), replace\u001b[39m=\u001b[39m\u001b[39mTrue\u001b[39;00m)\n\u001b[0;32m----> 4\u001b[0m p\u001b[39m.\u001b[39;49mfit(X[bootstrap_idx, :], y[bootstrap_idx], categorical\u001b[39m=\u001b[39;49mnp\u001b[39m.\u001b[39;49marray(categorical))\n",
      "File \u001b[0;32m~/PILOT/pilot/Pilot.py:820\u001b[0m, in \u001b[0;36mPILOT.fit\u001b[0;34m(self, X, y, categorical, max_features_considered, **kwargs)\u001b[0m\n\u001b[1;32m    817\u001b[0m \u001b[39mself\u001b[39m\u001b[39m.\u001b[39mB2 \u001b[39m=\u001b[39m y\u001b[39m.\u001b[39mmin() \u001b[39m-\u001b[39m padding  \u001b[39m# compute the lower bound for the second truncation\u001b[39;00m\n\u001b[1;32m    819\u001b[0m \u001b[39m# build the tree, only need to take in the indices for X\u001b[39;00m\n\u001b[0;32m--> 820\u001b[0m \u001b[39mself\u001b[39m\u001b[39m.\u001b[39mmodel_tree \u001b[39m=\u001b[39m \u001b[39mself\u001b[39;49m\u001b[39m.\u001b[39;49mbuild_tree(\u001b[39m-\u001b[39;49m\u001b[39m1\u001b[39;49m, \u001b[39mself\u001b[39;49m\u001b[39m.\u001b[39;49msorted_X_indices[\u001b[39m0\u001b[39;49m], np\u001b[39m.\u001b[39;49msum((y \u001b[39m-\u001b[39;49m y\u001b[39m.\u001b[39;49mmean()) \u001b[39m*\u001b[39;49m\u001b[39m*\u001b[39;49m \u001b[39m2\u001b[39;49m))\n\u001b[1;32m    822\u001b[0m \u001b[39m# if the first node is 'con'\u001b[39;00m\n\u001b[1;32m    823\u001b[0m \u001b[39mif\u001b[39;00m \u001b[39mself\u001b[39m\u001b[39m.\u001b[39mmodel_tree\u001b[39m.\u001b[39mnode \u001b[39m==\u001b[39m \u001b[39m\"\u001b[39m\u001b[39mEND\u001b[39m\u001b[39m\"\u001b[39m:\n",
      "File \u001b[0;32m~/PILOT/pilot/Pilot.py:721\u001b[0m, in \u001b[0;36mPILOT.build_tree\u001b[0;34m(self, tree_depth, indices, rss)\u001b[0m\n\u001b[1;32m    719\u001b[0m \u001b[39mtry\u001b[39;00m:\n\u001b[1;32m    720\u001b[0m     \u001b[39mself\u001b[39m\u001b[39m.\u001b[39mrecursion_counter[best_node] \u001b[39m+\u001b[39m\u001b[39m=\u001b[39m \u001b[39m1\u001b[39m\n\u001b[0;32m--> 721\u001b[0m     node\u001b[39m.\u001b[39mleft \u001b[39m=\u001b[39m \u001b[39mself\u001b[39;49m\u001b[39m.\u001b[39;49mbuild_tree(\n\u001b[1;32m    722\u001b[0m         tree_depth,\n\u001b[1;32m    723\u001b[0m         indices_left,\n\u001b[1;32m    724\u001b[0m         np\u001b[39m.\u001b[39;49mmaximum(\n\u001b[1;32m    725\u001b[0m             \u001b[39m0\u001b[39;49m,\n\u001b[1;32m    726\u001b[0m             np\u001b[39m.\u001b[39;49msum((\u001b[39mself\u001b[39;49m\u001b[39m.\u001b[39;49my[indices_left] \u001b[39m-\u001b[39;49m np\u001b[39m.\u001b[39;49mmean(\u001b[39mself\u001b[39;49m\u001b[39m.\u001b[39;49my[indices_left])) \u001b[39m*\u001b[39;49m\u001b[39m*\u001b[39;49m \u001b[39m2\u001b[39;49m),\n\u001b[1;32m    727\u001b[0m         ),\n\u001b[1;32m    728\u001b[0m     )\n\u001b[1;32m    730\u001b[0m     node\u001b[39m.\u001b[39mright \u001b[39m=\u001b[39m \u001b[39mself\u001b[39m\u001b[39m.\u001b[39mbuild_tree(\n\u001b[1;32m    731\u001b[0m         tree_depth,\n\u001b[1;32m    732\u001b[0m         indices_right,\n\u001b[0;32m   (...)\u001b[0m\n\u001b[1;32m    736\u001b[0m         ),\n\u001b[1;32m    737\u001b[0m     )\n\u001b[1;32m    738\u001b[0m \u001b[39mexcept\u001b[39;00m \u001b[39mRecursionError\u001b[39;00m \u001b[39mas\u001b[39;00m re:\n",
      "File \u001b[0;32m~/PILOT/pilot/Pilot.py:730\u001b[0m, in \u001b[0;36mPILOT.build_tree\u001b[0;34m(self, tree_depth, indices, rss)\u001b[0m\n\u001b[1;32m    720\u001b[0m     \u001b[39mself\u001b[39m\u001b[39m.\u001b[39mrecursion_counter[best_node] \u001b[39m+\u001b[39m\u001b[39m=\u001b[39m \u001b[39m1\u001b[39m\n\u001b[1;32m    721\u001b[0m     node\u001b[39m.\u001b[39mleft \u001b[39m=\u001b[39m \u001b[39mself\u001b[39m\u001b[39m.\u001b[39mbuild_tree(\n\u001b[1;32m    722\u001b[0m         tree_depth,\n\u001b[1;32m    723\u001b[0m         indices_left,\n\u001b[0;32m   (...)\u001b[0m\n\u001b[1;32m    727\u001b[0m         ),\n\u001b[1;32m    728\u001b[0m     )\n\u001b[0;32m--> 730\u001b[0m     node\u001b[39m.\u001b[39mright \u001b[39m=\u001b[39m \u001b[39mself\u001b[39;49m\u001b[39m.\u001b[39;49mbuild_tree(\n\u001b[1;32m    731\u001b[0m         tree_depth,\n\u001b[1;32m    732\u001b[0m         indices_right,\n\u001b[1;32m    733\u001b[0m         np\u001b[39m.\u001b[39;49mmaximum(\n\u001b[1;32m    734\u001b[0m             \u001b[39m0\u001b[39;49m,\n\u001b[1;32m    735\u001b[0m             np\u001b[39m.\u001b[39;49msum((\u001b[39mself\u001b[39;49m\u001b[39m.\u001b[39;49my[indices_right] \u001b[39m-\u001b[39;49m np\u001b[39m.\u001b[39;49mmean(\u001b[39mself\u001b[39;49m\u001b[39m.\u001b[39;49my[indices_right])) \u001b[39m*\u001b[39;49m\u001b[39m*\u001b[39;49m \u001b[39m2\u001b[39;49m),\n\u001b[1;32m    736\u001b[0m         ),\n\u001b[1;32m    737\u001b[0m     )\n\u001b[1;32m    738\u001b[0m \u001b[39mexcept\u001b[39;00m \u001b[39mRecursionError\u001b[39;00m \u001b[39mas\u001b[39;00m re:\n\u001b[1;32m    739\u001b[0m     \u001b[39mprint\u001b[39m(tree_depth, best_node, node\u001b[39m.\u001b[39mnodes_selected(), \u001b[39mself\u001b[39m\u001b[39m.\u001b[39mrecursion_counter)\n",
      "File \u001b[0;32m~/PILOT/pilot/Pilot.py:721\u001b[0m, in \u001b[0;36mPILOT.build_tree\u001b[0;34m(self, tree_depth, indices, rss)\u001b[0m\n\u001b[1;32m    719\u001b[0m \u001b[39mtry\u001b[39;00m:\n\u001b[1;32m    720\u001b[0m     \u001b[39mself\u001b[39m\u001b[39m.\u001b[39mrecursion_counter[best_node] \u001b[39m+\u001b[39m\u001b[39m=\u001b[39m \u001b[39m1\u001b[39m\n\u001b[0;32m--> 721\u001b[0m     node\u001b[39m.\u001b[39mleft \u001b[39m=\u001b[39m \u001b[39mself\u001b[39;49m\u001b[39m.\u001b[39;49mbuild_tree(\n\u001b[1;32m    722\u001b[0m         tree_depth,\n\u001b[1;32m    723\u001b[0m         indices_left,\n\u001b[1;32m    724\u001b[0m         np\u001b[39m.\u001b[39;49mmaximum(\n\u001b[1;32m    725\u001b[0m             \u001b[39m0\u001b[39;49m,\n\u001b[1;32m    726\u001b[0m             np\u001b[39m.\u001b[39;49msum((\u001b[39mself\u001b[39;49m\u001b[39m.\u001b[39;49my[indices_left] \u001b[39m-\u001b[39;49m np\u001b[39m.\u001b[39;49mmean(\u001b[39mself\u001b[39;49m\u001b[39m.\u001b[39;49my[indices_left])) \u001b[39m*\u001b[39;49m\u001b[39m*\u001b[39;49m \u001b[39m2\u001b[39;49m),\n\u001b[1;32m    727\u001b[0m         ),\n\u001b[1;32m    728\u001b[0m     )\n\u001b[1;32m    730\u001b[0m     node\u001b[39m.\u001b[39mright \u001b[39m=\u001b[39m \u001b[39mself\u001b[39m\u001b[39m.\u001b[39mbuild_tree(\n\u001b[1;32m    731\u001b[0m         tree_depth,\n\u001b[1;32m    732\u001b[0m         indices_right,\n\u001b[0;32m   (...)\u001b[0m\n\u001b[1;32m    736\u001b[0m         ),\n\u001b[1;32m    737\u001b[0m     )\n\u001b[1;32m    738\u001b[0m \u001b[39mexcept\u001b[39;00m \u001b[39mRecursionError\u001b[39;00m \u001b[39mas\u001b[39;00m re:\n",
      "File \u001b[0;32m~/PILOT/pilot/Pilot.py:680\u001b[0m, in \u001b[0;36mPILOT.build_tree\u001b[0;34m(self, tree_depth, indices, rss)\u001b[0m\n\u001b[1;32m    678\u001b[0m         \u001b[39mself\u001b[39m\u001b[39m.\u001b[39mrecursion_counter[best_node] \u001b[39m+\u001b[39m\u001b[39m=\u001b[39m \u001b[39m1\u001b[39m\n\u001b[1;32m    679\u001b[0m         \u001b[39m# recursion\u001b[39;00m\n\u001b[0;32m--> 680\u001b[0m         node\u001b[39m.\u001b[39mleft \u001b[39m=\u001b[39m \u001b[39mself\u001b[39;49m\u001b[39m.\u001b[39;49mbuild_tree(\n\u001b[1;32m    681\u001b[0m             tree_depth,\n\u001b[1;32m    682\u001b[0m             indices,\n\u001b[1;32m    683\u001b[0m             np\u001b[39m.\u001b[39;49mmaximum(\u001b[39m0\u001b[39;49m, np\u001b[39m.\u001b[39;49msum((\u001b[39mself\u001b[39;49m\u001b[39m.\u001b[39;49my[indices] \u001b[39m-\u001b[39;49m np\u001b[39m.\u001b[39;49mmean(\u001b[39mself\u001b[39;49m\u001b[39m.\u001b[39;49my[indices])) \u001b[39m*\u001b[39;49m\u001b[39m*\u001b[39;49m \u001b[39m2\u001b[39;49m)),\n\u001b[1;32m    684\u001b[0m         )\n\u001b[1;32m    686\u001b[0m \u001b[39melif\u001b[39;00m best_node \u001b[39m==\u001b[39m \u001b[39m\"\u001b[39m\u001b[39mcon\u001b[39m\u001b[39m\"\u001b[39m:\n\u001b[1;32m    687\u001b[0m     \u001b[39mself\u001b[39m\u001b[39m.\u001b[39my[indices] \u001b[39m-\u001b[39m\u001b[39m=\u001b[39m \u001b[39mself\u001b[39m\u001b[39m.\u001b[39mstep_size \u001b[39m*\u001b[39m (lm_l[\u001b[39m1\u001b[39m])\n",
      "File \u001b[0;32m~/PILOT/pilot/Pilot.py:680\u001b[0m, in \u001b[0;36mPILOT.build_tree\u001b[0;34m(self, tree_depth, indices, rss)\u001b[0m\n\u001b[1;32m    678\u001b[0m         \u001b[39mself\u001b[39m\u001b[39m.\u001b[39mrecursion_counter[best_node] \u001b[39m+\u001b[39m\u001b[39m=\u001b[39m \u001b[39m1\u001b[39m\n\u001b[1;32m    679\u001b[0m         \u001b[39m# recursion\u001b[39;00m\n\u001b[0;32m--> 680\u001b[0m         node\u001b[39m.\u001b[39mleft \u001b[39m=\u001b[39m \u001b[39mself\u001b[39;49m\u001b[39m.\u001b[39;49mbuild_tree(\n\u001b[1;32m    681\u001b[0m             tree_depth,\n\u001b[1;32m    682\u001b[0m             indices,\n\u001b[1;32m    683\u001b[0m             np\u001b[39m.\u001b[39;49mmaximum(\u001b[39m0\u001b[39;49m, np\u001b[39m.\u001b[39;49msum((\u001b[39mself\u001b[39;49m\u001b[39m.\u001b[39;49my[indices] \u001b[39m-\u001b[39;49m np\u001b[39m.\u001b[39;49mmean(\u001b[39mself\u001b[39;49m\u001b[39m.\u001b[39;49my[indices])) \u001b[39m*\u001b[39;49m\u001b[39m*\u001b[39;49m \u001b[39m2\u001b[39;49m)),\n\u001b[1;32m    684\u001b[0m         )\n\u001b[1;32m    686\u001b[0m \u001b[39melif\u001b[39;00m best_node \u001b[39m==\u001b[39m \u001b[39m\"\u001b[39m\u001b[39mcon\u001b[39m\u001b[39m\"\u001b[39m:\n\u001b[1;32m    687\u001b[0m     \u001b[39mself\u001b[39m\u001b[39m.\u001b[39my[indices] \u001b[39m-\u001b[39m\u001b[39m=\u001b[39m \u001b[39mself\u001b[39m\u001b[39m.\u001b[39mstep_size \u001b[39m*\u001b[39m (lm_l[\u001b[39m1\u001b[39m])\n",
      "    \u001b[0;31m[... skipping similar frames: PILOT.build_tree at line 680 (1 times)]\u001b[0m\n",
      "File \u001b[0;32m~/PILOT/pilot/Pilot.py:730\u001b[0m, in \u001b[0;36mPILOT.build_tree\u001b[0;34m(self, tree_depth, indices, rss)\u001b[0m\n\u001b[1;32m    720\u001b[0m     \u001b[39mself\u001b[39m\u001b[39m.\u001b[39mrecursion_counter[best_node] \u001b[39m+\u001b[39m\u001b[39m=\u001b[39m \u001b[39m1\u001b[39m\n\u001b[1;32m    721\u001b[0m     node\u001b[39m.\u001b[39mleft \u001b[39m=\u001b[39m \u001b[39mself\u001b[39m\u001b[39m.\u001b[39mbuild_tree(\n\u001b[1;32m    722\u001b[0m         tree_depth,\n\u001b[1;32m    723\u001b[0m         indices_left,\n\u001b[0;32m   (...)\u001b[0m\n\u001b[1;32m    727\u001b[0m         ),\n\u001b[1;32m    728\u001b[0m     )\n\u001b[0;32m--> 730\u001b[0m     node\u001b[39m.\u001b[39mright \u001b[39m=\u001b[39m \u001b[39mself\u001b[39;49m\u001b[39m.\u001b[39;49mbuild_tree(\n\u001b[1;32m    731\u001b[0m         tree_depth,\n\u001b[1;32m    732\u001b[0m         indices_right,\n\u001b[1;32m    733\u001b[0m         np\u001b[39m.\u001b[39;49mmaximum(\n\u001b[1;32m    734\u001b[0m             \u001b[39m0\u001b[39;49m,\n\u001b[1;32m    735\u001b[0m             np\u001b[39m.\u001b[39;49msum((\u001b[39mself\u001b[39;49m\u001b[39m.\u001b[39;49my[indices_right] \u001b[39m-\u001b[39;49m np\u001b[39m.\u001b[39;49mmean(\u001b[39mself\u001b[39;49m\u001b[39m.\u001b[39;49my[indices_right])) \u001b[39m*\u001b[39;49m\u001b[39m*\u001b[39;49m \u001b[39m2\u001b[39;49m),\n\u001b[1;32m    736\u001b[0m         ),\n\u001b[1;32m    737\u001b[0m     )\n\u001b[1;32m    738\u001b[0m \u001b[39mexcept\u001b[39;00m \u001b[39mRecursionError\u001b[39;00m \u001b[39mas\u001b[39;00m re:\n\u001b[1;32m    739\u001b[0m     \u001b[39mprint\u001b[39m(tree_depth, best_node, node\u001b[39m.\u001b[39mnodes_selected(), \u001b[39mself\u001b[39m\u001b[39m.\u001b[39mrecursion_counter)\n",
      "File \u001b[0;32m~/PILOT/pilot/Pilot.py:680\u001b[0m, in \u001b[0;36mPILOT.build_tree\u001b[0;34m(self, tree_depth, indices, rss)\u001b[0m\n\u001b[1;32m    678\u001b[0m         \u001b[39mself\u001b[39m\u001b[39m.\u001b[39mrecursion_counter[best_node] \u001b[39m+\u001b[39m\u001b[39m=\u001b[39m \u001b[39m1\u001b[39m\n\u001b[1;32m    679\u001b[0m         \u001b[39m# recursion\u001b[39;00m\n\u001b[0;32m--> 680\u001b[0m         node\u001b[39m.\u001b[39mleft \u001b[39m=\u001b[39m \u001b[39mself\u001b[39;49m\u001b[39m.\u001b[39;49mbuild_tree(\n\u001b[1;32m    681\u001b[0m             tree_depth,\n\u001b[1;32m    682\u001b[0m             indices,\n\u001b[1;32m    683\u001b[0m             np\u001b[39m.\u001b[39;49mmaximum(\u001b[39m0\u001b[39;49m, np\u001b[39m.\u001b[39;49msum((\u001b[39mself\u001b[39;49m\u001b[39m.\u001b[39;49my[indices] \u001b[39m-\u001b[39;49m np\u001b[39m.\u001b[39;49mmean(\u001b[39mself\u001b[39;49m\u001b[39m.\u001b[39;49my[indices])) \u001b[39m*\u001b[39;49m\u001b[39m*\u001b[39;49m \u001b[39m2\u001b[39;49m)),\n\u001b[1;32m    684\u001b[0m         )\n\u001b[1;32m    686\u001b[0m \u001b[39melif\u001b[39;00m best_node \u001b[39m==\u001b[39m \u001b[39m\"\u001b[39m\u001b[39mcon\u001b[39m\u001b[39m\"\u001b[39m:\n\u001b[1;32m    687\u001b[0m     \u001b[39mself\u001b[39m\u001b[39m.\u001b[39my[indices] \u001b[39m-\u001b[39m\u001b[39m=\u001b[39m \u001b[39mself\u001b[39m\u001b[39m.\u001b[39mstep_size \u001b[39m*\u001b[39m (lm_l[\u001b[39m1\u001b[39m])\n",
      "File \u001b[0;32m~/PILOT/pilot/Pilot.py:730\u001b[0m, in \u001b[0;36mPILOT.build_tree\u001b[0;34m(self, tree_depth, indices, rss)\u001b[0m\n\u001b[1;32m    720\u001b[0m     \u001b[39mself\u001b[39m\u001b[39m.\u001b[39mrecursion_counter[best_node] \u001b[39m+\u001b[39m\u001b[39m=\u001b[39m \u001b[39m1\u001b[39m\n\u001b[1;32m    721\u001b[0m     node\u001b[39m.\u001b[39mleft \u001b[39m=\u001b[39m \u001b[39mself\u001b[39m\u001b[39m.\u001b[39mbuild_tree(\n\u001b[1;32m    722\u001b[0m         tree_depth,\n\u001b[1;32m    723\u001b[0m         indices_left,\n\u001b[0;32m   (...)\u001b[0m\n\u001b[1;32m    727\u001b[0m         ),\n\u001b[1;32m    728\u001b[0m     )\n\u001b[0;32m--> 730\u001b[0m     node\u001b[39m.\u001b[39mright \u001b[39m=\u001b[39m \u001b[39mself\u001b[39;49m\u001b[39m.\u001b[39;49mbuild_tree(\n\u001b[1;32m    731\u001b[0m         tree_depth,\n\u001b[1;32m    732\u001b[0m         indices_right,\n\u001b[1;32m    733\u001b[0m         np\u001b[39m.\u001b[39;49mmaximum(\n\u001b[1;32m    734\u001b[0m             \u001b[39m0\u001b[39;49m,\n\u001b[1;32m    735\u001b[0m             np\u001b[39m.\u001b[39;49msum((\u001b[39mself\u001b[39;49m\u001b[39m.\u001b[39;49my[indices_right] \u001b[39m-\u001b[39;49m np\u001b[39m.\u001b[39;49mmean(\u001b[39mself\u001b[39;49m\u001b[39m.\u001b[39;49my[indices_right])) \u001b[39m*\u001b[39;49m\u001b[39m*\u001b[39;49m \u001b[39m2\u001b[39;49m),\n\u001b[1;32m    736\u001b[0m         ),\n\u001b[1;32m    737\u001b[0m     )\n\u001b[1;32m    738\u001b[0m \u001b[39mexcept\u001b[39;00m \u001b[39mRecursionError\u001b[39;00m \u001b[39mas\u001b[39;00m re:\n\u001b[1;32m    739\u001b[0m     \u001b[39mprint\u001b[39m(tree_depth, best_node, node\u001b[39m.\u001b[39mnodes_selected(), \u001b[39mself\u001b[39m\u001b[39m.\u001b[39mrecursion_counter)\n",
      "File \u001b[0;32m~/PILOT/pilot/Pilot.py:730\u001b[0m, in \u001b[0;36mPILOT.build_tree\u001b[0;34m(self, tree_depth, indices, rss)\u001b[0m\n\u001b[1;32m    720\u001b[0m     \u001b[39mself\u001b[39m\u001b[39m.\u001b[39mrecursion_counter[best_node] \u001b[39m+\u001b[39m\u001b[39m=\u001b[39m \u001b[39m1\u001b[39m\n\u001b[1;32m    721\u001b[0m     node\u001b[39m.\u001b[39mleft \u001b[39m=\u001b[39m \u001b[39mself\u001b[39m\u001b[39m.\u001b[39mbuild_tree(\n\u001b[1;32m    722\u001b[0m         tree_depth,\n\u001b[1;32m    723\u001b[0m         indices_left,\n\u001b[0;32m   (...)\u001b[0m\n\u001b[1;32m    727\u001b[0m         ),\n\u001b[1;32m    728\u001b[0m     )\n\u001b[0;32m--> 730\u001b[0m     node\u001b[39m.\u001b[39mright \u001b[39m=\u001b[39m \u001b[39mself\u001b[39;49m\u001b[39m.\u001b[39;49mbuild_tree(\n\u001b[1;32m    731\u001b[0m         tree_depth,\n\u001b[1;32m    732\u001b[0m         indices_right,\n\u001b[1;32m    733\u001b[0m         np\u001b[39m.\u001b[39;49mmaximum(\n\u001b[1;32m    734\u001b[0m             \u001b[39m0\u001b[39;49m,\n\u001b[1;32m    735\u001b[0m             np\u001b[39m.\u001b[39;49msum((\u001b[39mself\u001b[39;49m\u001b[39m.\u001b[39;49my[indices_right] \u001b[39m-\u001b[39;49m np\u001b[39m.\u001b[39;49mmean(\u001b[39mself\u001b[39;49m\u001b[39m.\u001b[39;49my[indices_right])) \u001b[39m*\u001b[39;49m\u001b[39m*\u001b[39;49m \u001b[39m2\u001b[39;49m),\n\u001b[1;32m    736\u001b[0m         ),\n\u001b[1;32m    737\u001b[0m     )\n\u001b[1;32m    738\u001b[0m \u001b[39mexcept\u001b[39;00m \u001b[39mRecursionError\u001b[39;00m \u001b[39mas\u001b[39;00m re:\n\u001b[1;32m    739\u001b[0m     \u001b[39mprint\u001b[39m(tree_depth, best_node, node\u001b[39m.\u001b[39mnodes_selected(), \u001b[39mself\u001b[39m\u001b[39m.\u001b[39mrecursion_counter)\n",
      "File \u001b[0;32m~/PILOT/pilot/Pilot.py:740\u001b[0m, in \u001b[0;36mPILOT.build_tree\u001b[0;34m(self, tree_depth, indices, rss)\u001b[0m\n\u001b[1;32m    738\u001b[0m         \u001b[39mexcept\u001b[39;00m \u001b[39mRecursionError\u001b[39;00m \u001b[39mas\u001b[39;00m re:\n\u001b[1;32m    739\u001b[0m             \u001b[39mprint\u001b[39m(tree_depth, best_node, node\u001b[39m.\u001b[39mnodes_selected(), \u001b[39mself\u001b[39m\u001b[39m.\u001b[39mrecursion_counter)\n\u001b[0;32m--> 740\u001b[0m             \u001b[39mraise\u001b[39;00m \u001b[39mException\u001b[39;00m \u001b[39mfrom\u001b[39;00m \u001b[39mre\u001b[39;00m\n\u001b[1;32m    742\u001b[0m \u001b[39melse\u001b[39;00m:\n\u001b[1;32m    743\u001b[0m     \u001b[39m# stop recursion if meeting the stopping criterion\u001b[39;00m\n\u001b[1;32m    744\u001b[0m     \u001b[39mreturn\u001b[39;00m tree(node\u001b[39m=\u001b[39m\u001b[39m\"\u001b[39m\u001b[39mEND\u001b[39m\u001b[39m\"\u001b[39m, Rt\u001b[39m=\u001b[39mrss)\n",
      "\u001b[0;31mException\u001b[0m: "
     ]
    }
   ],
   "source": [
    "for i in range(100):\n",
    "    p = Pilot.PILOT(max_depth=10, min_sample_split=2, truncation_factor=1.5, rel_tolerance=0.00)\n",
    "    bootstrap_idx = np.random.choice(np.arange(len(X)), size=len(X), replace=True)\n",
    "    p.fit(X[bootstrap_idx, :], y[bootstrap_idx], categorical=np.array(categorical))"
   ]
  },
  {
   "cell_type": "code",
   "execution_count": null,
   "metadata": {},
   "outputs": [
    {
     "name": "stdout",
     "output_type": "stream",
     "text": [
      "0.4098002559030295\n",
      "0.2847848498919635\n",
      "0.5401221094057291\n",
      "0.5656876172648391\n",
      "0.48212196709914723\n"
     ]
    }
   ],
   "source": [
    "rfp = ensemble.RandomForestPilot(n_estimators=50, max_depth=10, min_sample_split=2, truncation_factor=1.5, rel_tolerance=0)\n",
    "for train_idx, test_idx in KFold().split(X, y):\n",
    "    rfp.fit(X[train_idx, :], y[train_idx])\n",
    "    print(r2_score(y[test_idx], rfp.predict(X[test_idx, :])))"
   ]
  }
 ],
 "metadata": {
  "kernelspec": {
   "display_name": "pilot",
   "language": "python",
   "name": "python3"
  },
  "language_info": {
   "codemirror_mode": {
    "name": "ipython",
    "version": 3
   },
   "file_extension": ".py",
   "mimetype": "text/x-python",
   "name": "python",
   "nbconvert_exporter": "python",
   "pygments_lexer": "ipython3",
   "version": "3.10.9"
  },
  "orig_nbformat": 4,
  "vscode": {
   "interpreter": {
    "hash": "fd3ad90d96ad65fa4600695779b053fe5094545612b705888114d7bf126e60b7"
   }
  }
 },
 "nbformat": 4,
 "nbformat_minor": 2
}
